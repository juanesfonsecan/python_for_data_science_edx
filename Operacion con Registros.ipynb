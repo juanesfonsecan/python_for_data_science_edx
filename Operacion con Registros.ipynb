{
    "nbformat_minor": 1, 
    "cells": [
        {
            "source": "# Python: Operaciones con Registros y Campos\n1. Seleccionar y Filtrar\n1.1. Por \u00edndices num\u00e9ricos\n1.2. Por variables\n1.3. Seg\u00fan variables\n2. Rellenar\n3. Derivar\n4. Muestra\n5. Ordenar\n6. Equilibrar\n7. Distinguir\n8. Fundir\n9. Anexar\n10. Intervalos\n11. Partici\u00f3n\n12. Transponer\n13. Otras Operaciones\n13.1. Forma\n13.2. Vista previa\n", 
            "cell_type": "markdown", 
            "metadata": {
                "collapsed": true
            }
        }, 
        {
            "source": "## 1. Seleccionar y Filtrar", 
            "cell_type": "markdown", 
            "metadata": {}
        }, 
        {
            "execution_count": 1, 
            "cell_type": "code", 
            "metadata": {}, 
            "outputs": [], 
            "source": "import numpy as np\nimport pandas as pd"
        }, 
        {
            "execution_count": 2, 
            "cell_type": "code", 
            "metadata": {}, 
            "outputs": [], 
            "source": "#Se importa Interactive Shell para visualizar varios resultados del bloque y no solo el \u00faltimo\nfrom IPython.core.interactiveshell import InteractiveShell\nInteractiveShell.ast_node_interactivity = \"all\""
        }, 
        {
            "execution_count": 3, 
            "cell_type": "code", 
            "metadata": {}, 
            "outputs": [], 
            "source": "df0 = pd.DataFrame([[np.nan, 2, np.nan, 0],\n                    [3, 4, np.nan, 1],\n                    [np.nan, np.nan, np.nan, 5],\n                    [np.nan, 3, np.nan, 4]],\n                    columns=list('ABCD'))"
        }, 
        {
            "execution_count": 4, 
            "cell_type": "code", 
            "metadata": {}, 
            "outputs": [
                {
                    "execution_count": 4, 
                    "metadata": {}, 
                    "data": {
                        "text/html": "<div>\n<style scoped>\n    .dataframe tbody tr th:only-of-type {\n        vertical-align: middle;\n    }\n\n    .dataframe tbody tr th {\n        vertical-align: top;\n    }\n\n    .dataframe thead th {\n        text-align: right;\n    }\n</style>\n<table border=\"1\" class=\"dataframe\">\n  <thead>\n    <tr style=\"text-align: right;\">\n      <th></th>\n      <th>A</th>\n      <th>B</th>\n      <th>C</th>\n      <th>D</th>\n    </tr>\n  </thead>\n  <tbody>\n    <tr>\n      <th>0</th>\n      <td>NaN</td>\n      <td>2.0</td>\n      <td>NaN</td>\n      <td>0</td>\n    </tr>\n    <tr>\n      <th>1</th>\n      <td>3.0</td>\n      <td>4.0</td>\n      <td>NaN</td>\n      <td>1</td>\n    </tr>\n    <tr>\n      <th>2</th>\n      <td>NaN</td>\n      <td>NaN</td>\n      <td>NaN</td>\n      <td>5</td>\n    </tr>\n    <tr>\n      <th>3</th>\n      <td>NaN</td>\n      <td>3.0</td>\n      <td>NaN</td>\n      <td>4</td>\n    </tr>\n  </tbody>\n</table>\n</div>", 
                        "text/plain": "     A    B   C  D\n0  NaN  2.0 NaN  0\n1  3.0  4.0 NaN  1\n2  NaN  NaN NaN  5\n3  NaN  3.0 NaN  4"
                    }, 
                    "output_type": "execute_result"
                }, 
                {
                    "execution_count": 4, 
                    "metadata": {}, 
                    "data": {
                        "text/html": "<div>\n<style scoped>\n    .dataframe tbody tr th:only-of-type {\n        vertical-align: middle;\n    }\n\n    .dataframe tbody tr th {\n        vertical-align: top;\n    }\n\n    .dataframe thead th {\n        text-align: right;\n    }\n</style>\n<table border=\"1\" class=\"dataframe\">\n  <thead>\n    <tr style=\"text-align: right;\">\n      <th></th>\n      <th>A</th>\n      <th>B</th>\n      <th>C</th>\n      <th>D</th>\n    </tr>\n  </thead>\n  <tbody>\n    <tr>\n      <th>count</th>\n      <td>1.0</td>\n      <td>3.0</td>\n      <td>0.0</td>\n      <td>4.000000</td>\n    </tr>\n    <tr>\n      <th>mean</th>\n      <td>3.0</td>\n      <td>3.0</td>\n      <td>NaN</td>\n      <td>2.500000</td>\n    </tr>\n    <tr>\n      <th>std</th>\n      <td>NaN</td>\n      <td>1.0</td>\n      <td>NaN</td>\n      <td>2.380476</td>\n    </tr>\n    <tr>\n      <th>min</th>\n      <td>3.0</td>\n      <td>2.0</td>\n      <td>NaN</td>\n      <td>0.000000</td>\n    </tr>\n    <tr>\n      <th>25%</th>\n      <td>3.0</td>\n      <td>2.5</td>\n      <td>NaN</td>\n      <td>0.750000</td>\n    </tr>\n    <tr>\n      <th>50%</th>\n      <td>3.0</td>\n      <td>3.0</td>\n      <td>NaN</td>\n      <td>2.500000</td>\n    </tr>\n    <tr>\n      <th>75%</th>\n      <td>3.0</td>\n      <td>3.5</td>\n      <td>NaN</td>\n      <td>4.250000</td>\n    </tr>\n    <tr>\n      <th>max</th>\n      <td>3.0</td>\n      <td>4.0</td>\n      <td>NaN</td>\n      <td>5.000000</td>\n    </tr>\n  </tbody>\n</table>\n</div>", 
                        "text/plain": "         A    B    C         D\ncount  1.0  3.0  0.0  4.000000\nmean   3.0  3.0  NaN  2.500000\nstd    NaN  1.0  NaN  2.380476\nmin    3.0  2.0  NaN  0.000000\n25%    3.0  2.5  NaN  0.750000\n50%    3.0  3.0  NaN  2.500000\n75%    3.0  3.5  NaN  4.250000\nmax    3.0  4.0  NaN  5.000000"
                    }, 
                    "output_type": "execute_result"
                }, 
                {
                    "execution_count": 4, 
                    "metadata": {}, 
                    "data": {
                        "text/plain": "A    3.0\nB    3.0\nC    NaN\nD    2.5\ndtype: float64"
                    }, 
                    "output_type": "execute_result"
                }, 
                {
                    "execution_count": 4, 
                    "metadata": {}, 
                    "data": {
                        "text/html": "<div>\n<style scoped>\n    .dataframe tbody tr th:only-of-type {\n        vertical-align: middle;\n    }\n\n    .dataframe tbody tr th {\n        vertical-align: top;\n    }\n\n    .dataframe thead th {\n        text-align: right;\n    }\n</style>\n<table border=\"1\" class=\"dataframe\">\n  <thead>\n    <tr style=\"text-align: right;\">\n      <th></th>\n      <th>A</th>\n      <th>B</th>\n      <th>C</th>\n      <th>D</th>\n    </tr>\n  </thead>\n  <tbody>\n    <tr>\n      <th>A</th>\n      <td>NaN</td>\n      <td>NaN</td>\n      <td>NaN</td>\n      <td>NaN</td>\n    </tr>\n    <tr>\n      <th>B</th>\n      <td>NaN</td>\n      <td>1.000000</td>\n      <td>NaN</td>\n      <td>0.240192</td>\n    </tr>\n    <tr>\n      <th>C</th>\n      <td>NaN</td>\n      <td>NaN</td>\n      <td>NaN</td>\n      <td>NaN</td>\n    </tr>\n    <tr>\n      <th>D</th>\n      <td>NaN</td>\n      <td>0.240192</td>\n      <td>NaN</td>\n      <td>1.000000</td>\n    </tr>\n  </tbody>\n</table>\n</div>", 
                        "text/plain": "    A         B   C         D\nA NaN       NaN NaN       NaN\nB NaN  1.000000 NaN  0.240192\nC NaN       NaN NaN       NaN\nD NaN  0.240192 NaN  1.000000"
                    }, 
                    "output_type": "execute_result"
                }, 
                {
                    "execution_count": 4, 
                    "metadata": {}, 
                    "data": {
                        "text/plain": "(4, 4)"
                    }, 
                    "output_type": "execute_result"
                }
            ], 
            "source": "df0\ndf0.describe()\ndf0.mean()#tambi\u00e9n con .std(), min(), max(), mode()\ndf0.corr() #correlaciones\ndf0.shape"
        }, 
        {
            "source": "### 1.1. Por \u00edndices num\u00e9ricos", 
            "cell_type": "markdown", 
            "metadata": {}
        }, 
        {
            "execution_count": 5, 
            "cell_type": "code", 
            "metadata": {}, 
            "outputs": [
                {
                    "execution_count": 5, 
                    "metadata": {}, 
                    "data": {
                        "text/html": "<div>\n<style scoped>\n    .dataframe tbody tr th:only-of-type {\n        vertical-align: middle;\n    }\n\n    .dataframe tbody tr th {\n        vertical-align: top;\n    }\n\n    .dataframe thead th {\n        text-align: right;\n    }\n</style>\n<table border=\"1\" class=\"dataframe\">\n  <thead>\n    <tr style=\"text-align: right;\">\n      <th></th>\n      <th>B</th>\n      <th>D</th>\n    </tr>\n  </thead>\n  <tbody>\n    <tr>\n      <th>0</th>\n      <td>2.0</td>\n      <td>0</td>\n    </tr>\n    <tr>\n      <th>1</th>\n      <td>4.0</td>\n      <td>1</td>\n    </tr>\n    <tr>\n      <th>2</th>\n      <td>NaN</td>\n      <td>5</td>\n    </tr>\n    <tr>\n      <th>3</th>\n      <td>3.0</td>\n      <td>4</td>\n    </tr>\n  </tbody>\n</table>\n</div>", 
                        "text/plain": "     B  D\n0  2.0  0\n1  4.0  1\n2  NaN  5\n3  3.0  4"
                    }, 
                    "output_type": "execute_result"
                }, 
                {
                    "execution_count": 5, 
                    "metadata": {}, 
                    "data": {
                        "text/html": "<div>\n<style scoped>\n    .dataframe tbody tr th:only-of-type {\n        vertical-align: middle;\n    }\n\n    .dataframe tbody tr th {\n        vertical-align: top;\n    }\n\n    .dataframe thead th {\n        text-align: right;\n    }\n</style>\n<table border=\"1\" class=\"dataframe\">\n  <thead>\n    <tr style=\"text-align: right;\">\n      <th></th>\n      <th>A</th>\n      <th>B</th>\n      <th>C</th>\n      <th>D</th>\n    </tr>\n  </thead>\n  <tbody>\n    <tr>\n      <th>1</th>\n      <td>3.0</td>\n      <td>4.0</td>\n      <td>NaN</td>\n      <td>1</td>\n    </tr>\n    <tr>\n      <th>3</th>\n      <td>NaN</td>\n      <td>3.0</td>\n      <td>NaN</td>\n      <td>4</td>\n    </tr>\n  </tbody>\n</table>\n</div>", 
                        "text/plain": "     A    B   C  D\n1  3.0  4.0 NaN  1\n3  NaN  3.0 NaN  4"
                    }, 
                    "output_type": "execute_result"
                }, 
                {
                    "execution_count": 5, 
                    "metadata": {}, 
                    "data": {
                        "text/html": "<div>\n<style scoped>\n    .dataframe tbody tr th:only-of-type {\n        vertical-align: middle;\n    }\n\n    .dataframe tbody tr th {\n        vertical-align: top;\n    }\n\n    .dataframe thead th {\n        text-align: right;\n    }\n</style>\n<table border=\"1\" class=\"dataframe\">\n  <thead>\n    <tr style=\"text-align: right;\">\n      <th></th>\n      <th>A</th>\n      <th>B</th>\n      <th>C</th>\n      <th>D</th>\n    </tr>\n  </thead>\n  <tbody>\n    <tr>\n      <th>1</th>\n      <td>3.0</td>\n      <td>4.0</td>\n      <td>NaN</td>\n      <td>1</td>\n    </tr>\n    <tr>\n      <th>3</th>\n      <td>NaN</td>\n      <td>3.0</td>\n      <td>NaN</td>\n      <td>4</td>\n    </tr>\n  </tbody>\n</table>\n</div>", 
                        "text/plain": "     A    B   C  D\n1  3.0  4.0 NaN  1\n3  NaN  3.0 NaN  4"
                    }, 
                    "output_type": "execute_result"
                }, 
                {
                    "execution_count": 5, 
                    "metadata": {}, 
                    "data": {
                        "text/html": "<div>\n<style scoped>\n    .dataframe tbody tr th:only-of-type {\n        vertical-align: middle;\n    }\n\n    .dataframe tbody tr th {\n        vertical-align: top;\n    }\n\n    .dataframe thead th {\n        text-align: right;\n    }\n</style>\n<table border=\"1\" class=\"dataframe\">\n  <thead>\n    <tr style=\"text-align: right;\">\n      <th></th>\n      <th>A</th>\n      <th>B</th>\n      <th>C</th>\n      <th>D</th>\n    </tr>\n  </thead>\n  <tbody>\n    <tr>\n      <th>1</th>\n      <td>3.0</td>\n      <td>4.0</td>\n      <td>NaN</td>\n      <td>1</td>\n    </tr>\n    <tr>\n      <th>2</th>\n      <td>NaN</td>\n      <td>NaN</td>\n      <td>NaN</td>\n      <td>5</td>\n    </tr>\n    <tr>\n      <th>3</th>\n      <td>NaN</td>\n      <td>3.0</td>\n      <td>NaN</td>\n      <td>4</td>\n    </tr>\n  </tbody>\n</table>\n</div>", 
                        "text/plain": "     A    B   C  D\n1  3.0  4.0 NaN  1\n2  NaN  NaN NaN  5\n3  NaN  3.0 NaN  4"
                    }, 
                    "output_type": "execute_result"
                }, 
                {
                    "execution_count": 5, 
                    "metadata": {}, 
                    "data": {
                        "text/html": "<div>\n<style scoped>\n    .dataframe tbody tr th:only-of-type {\n        vertical-align: middle;\n    }\n\n    .dataframe tbody tr th {\n        vertical-align: top;\n    }\n\n    .dataframe thead th {\n        text-align: right;\n    }\n</style>\n<table border=\"1\" class=\"dataframe\">\n  <thead>\n    <tr style=\"text-align: right;\">\n      <th></th>\n      <th>D</th>\n    </tr>\n  </thead>\n  <tbody>\n    <tr>\n      <th>1</th>\n      <td>1</td>\n    </tr>\n    <tr>\n      <th>2</th>\n      <td>5</td>\n    </tr>\n    <tr>\n      <th>3</th>\n      <td>4</td>\n    </tr>\n  </tbody>\n</table>\n</div>", 
                        "text/plain": "   D\n1  1\n2  5\n3  4"
                    }, 
                    "output_type": "execute_result"
                }, 
                {
                    "execution_count": 5, 
                    "metadata": {}, 
                    "data": {
                        "text/plain": "pandas.core.series.Series"
                    }, 
                    "output_type": "execute_result"
                }, 
                {
                    "execution_count": 5, 
                    "metadata": {}, 
                    "data": {
                        "text/html": "<div>\n<style scoped>\n    .dataframe tbody tr th:only-of-type {\n        vertical-align: middle;\n    }\n\n    .dataframe tbody tr th {\n        vertical-align: top;\n    }\n\n    .dataframe thead th {\n        text-align: right;\n    }\n</style>\n<table border=\"1\" class=\"dataframe\">\n  <thead>\n    <tr style=\"text-align: right;\">\n      <th></th>\n      <th>A</th>\n      <th>B</th>\n      <th>C</th>\n      <th>D</th>\n    </tr>\n  </thead>\n  <tbody>\n    <tr>\n      <th>2</th>\n      <td>NaN</td>\n      <td>NaN</td>\n      <td>NaN</td>\n      <td>5</td>\n    </tr>\n    <tr>\n      <th>3</th>\n      <td>NaN</td>\n      <td>3.0</td>\n      <td>NaN</td>\n      <td>4</td>\n    </tr>\n  </tbody>\n</table>\n</div>", 
                        "text/plain": "    A    B   C  D\n2 NaN  NaN NaN  5\n3 NaN  3.0 NaN  4"
                    }, 
                    "output_type": "execute_result"
                }
            ], 
            "source": "#Por \u00edndices num\u00e9ricos con funci\u00f3n iloc\ndf0.iloc[:,[2-1,4-1]]#seleccionar columnas 2 y 4\ndf0.iloc[[2-1,4-1],:]#seleccionar filas 2 y 4 RECORDAR EMPIEZAN EN 0\ndf0.iloc[[2-1,4-1]] # Igual al anterior, retorna dataframe con filas pasadas como lista\ndf0.iloc[1:(3+1)]#Regresa dataframe con filas con \u00edndices 1 a 3\ndf0.iloc[1:(3+1),[3]] #regresa dataframe con filas con \u00edndice 1 a 3, y s\u00f3lo la columna con \u00edndice 3. La \u00fanica columna debe estar en una lista [] para dar una dataframe, de no hacerlo ser\u00e1 un pandas series\ntype(df0.iloc[1:(2+1),3]) #regresa SERIE al meterse la \u00fanica columna SIN ESTAR en una lista\ndf0[-2:] #tomar \u00faltimos dos registros"
        }, 
        {
            "execution_count": 6, 
            "cell_type": "code", 
            "metadata": {}, 
            "outputs": [
                {
                    "execution_count": 6, 
                    "metadata": {}, 
                    "data": {
                        "text/html": "<div>\n<style scoped>\n    .dataframe tbody tr th:only-of-type {\n        vertical-align: middle;\n    }\n\n    .dataframe tbody tr th {\n        vertical-align: top;\n    }\n\n    .dataframe thead th {\n        text-align: right;\n    }\n</style>\n<table border=\"1\" class=\"dataframe\">\n  <thead>\n    <tr style=\"text-align: right;\">\n      <th></th>\n      <th>A</th>\n      <th>B</th>\n      <th>C</th>\n      <th>D</th>\n    </tr>\n  </thead>\n  <tbody>\n    <tr>\n      <th>1</th>\n      <td>3.0</td>\n      <td>4.0</td>\n      <td>NaN</td>\n      <td>1</td>\n    </tr>\n    <tr>\n      <th>2</th>\n      <td>NaN</td>\n      <td>NaN</td>\n      <td>NaN</td>\n      <td>5</td>\n    </tr>\n  </tbody>\n</table>\n</div>", 
                        "text/plain": "     A    B   C  D\n1  3.0  4.0 NaN  1\n2  NaN  NaN NaN  5"
                    }, 
                    "output_type": "execute_result"
                }
            ], 
            "source": "#Por \u00edndices seg\u00fan su nombre, que podr\u00edan no ser num\u00e9ricos con loc (notar es diferente a iloc)\ndf0.loc[[1,2]]#filas llamadas 1 y 2"
        }, 
        {
            "source": "### 1.2. Por \u00edndices seg\u00fan variable o nombres de variables", 
            "cell_type": "markdown", 
            "metadata": {}
        }, 
        {
            "execution_count": 7, 
            "cell_type": "code", 
            "metadata": {}, 
            "outputs": [
                {
                    "execution_count": 7, 
                    "metadata": {}, 
                    "data": {
                        "text/html": "<div>\n<style scoped>\n    .dataframe tbody tr th:only-of-type {\n        vertical-align: middle;\n    }\n\n    .dataframe tbody tr th {\n        vertical-align: top;\n    }\n\n    .dataframe thead th {\n        text-align: right;\n    }\n</style>\n<table border=\"1\" class=\"dataframe\">\n  <thead>\n    <tr style=\"text-align: right;\">\n      <th></th>\n      <th>A</th>\n      <th>B</th>\n      <th>C</th>\n      <th>D</th>\n      <th>Cedula</th>\n      <th>Nombre</th>\n    </tr>\n  </thead>\n  <tbody>\n    <tr>\n      <th>0</th>\n      <td>NaN</td>\n      <td>2.0</td>\n      <td>NaN</td>\n      <td>0</td>\n      <td>20</td>\n      <td>Juan</td>\n    </tr>\n    <tr>\n      <th>1</th>\n      <td>3.0</td>\n      <td>4.0</td>\n      <td>NaN</td>\n      <td>1</td>\n      <td>21</td>\n      <td>Esteban</td>\n    </tr>\n    <tr>\n      <th>2</th>\n      <td>NaN</td>\n      <td>NaN</td>\n      <td>NaN</td>\n      <td>5</td>\n      <td>2</td>\n      <td>Pepe</td>\n    </tr>\n    <tr>\n      <th>3</th>\n      <td>NaN</td>\n      <td>3.0</td>\n      <td>NaN</td>\n      <td>4</td>\n      <td>8</td>\n      <td>Jengibre</td>\n    </tr>\n  </tbody>\n</table>\n</div>", 
                        "text/plain": "     A    B   C  D  Cedula    Nombre\n0  NaN  2.0 NaN  0      20      Juan\n1  3.0  4.0 NaN  1      21   Esteban\n2  NaN  NaN NaN  5       2      Pepe\n3  NaN  3.0 NaN  4       8  Jengibre"
                    }, 
                    "output_type": "execute_result"
                }, 
                {
                    "execution_count": 7, 
                    "metadata": {}, 
                    "data": {
                        "text/html": "<div>\n<style scoped>\n    .dataframe tbody tr th:only-of-type {\n        vertical-align: middle;\n    }\n\n    .dataframe tbody tr th {\n        vertical-align: top;\n    }\n\n    .dataframe thead th {\n        text-align: right;\n    }\n</style>\n<table border=\"1\" class=\"dataframe\">\n  <thead>\n    <tr style=\"text-align: right;\">\n      <th></th>\n      <th>A</th>\n      <th>B</th>\n      <th>C</th>\n      <th>D</th>\n      <th>Cedula</th>\n    </tr>\n    <tr>\n      <th>Nombre</th>\n      <th></th>\n      <th></th>\n      <th></th>\n      <th></th>\n      <th></th>\n    </tr>\n  </thead>\n  <tbody>\n    <tr>\n      <th>Juan</th>\n      <td>NaN</td>\n      <td>2.0</td>\n      <td>NaN</td>\n      <td>0</td>\n      <td>20</td>\n    </tr>\n    <tr>\n      <th>Esteban</th>\n      <td>3.0</td>\n      <td>4.0</td>\n      <td>NaN</td>\n      <td>1</td>\n      <td>21</td>\n    </tr>\n    <tr>\n      <th>Pepe</th>\n      <td>NaN</td>\n      <td>NaN</td>\n      <td>NaN</td>\n      <td>5</td>\n      <td>2</td>\n    </tr>\n    <tr>\n      <th>Jengibre</th>\n      <td>NaN</td>\n      <td>3.0</td>\n      <td>NaN</td>\n      <td>4</td>\n      <td>8</td>\n    </tr>\n  </tbody>\n</table>\n</div>", 
                        "text/plain": "            A    B   C  D  Cedula\nNombre                           \nJuan      NaN  2.0 NaN  0      20\nEsteban   3.0  4.0 NaN  1      21\nPepe      NaN  NaN NaN  5       2\nJengibre  NaN  3.0 NaN  4       8"
                    }, 
                    "output_type": "execute_result"
                }, 
                {
                    "execution_count": 7, 
                    "metadata": {}, 
                    "data": {
                        "text/html": "<div>\n<style scoped>\n    .dataframe tbody tr th:only-of-type {\n        vertical-align: middle;\n    }\n\n    .dataframe tbody tr th {\n        vertical-align: top;\n    }\n\n    .dataframe thead th {\n        text-align: right;\n    }\n</style>\n<table border=\"1\" class=\"dataframe\">\n  <thead>\n    <tr style=\"text-align: right;\">\n      <th></th>\n      <th>B</th>\n      <th>C</th>\n    </tr>\n    <tr>\n      <th>Nombre</th>\n      <th></th>\n      <th></th>\n    </tr>\n  </thead>\n  <tbody>\n    <tr>\n      <th>Juan</th>\n      <td>2.0</td>\n      <td>NaN</td>\n    </tr>\n    <tr>\n      <th>Pepe</th>\n      <td>NaN</td>\n      <td>NaN</td>\n    </tr>\n  </tbody>\n</table>\n</div>", 
                        "text/plain": "          B   C\nNombre         \nJuan    2.0 NaN\nPepe    NaN NaN"
                    }, 
                    "output_type": "execute_result"
                }, 
                {
                    "execution_count": 7, 
                    "metadata": {}, 
                    "data": {
                        "text/html": "<div>\n<style scoped>\n    .dataframe tbody tr th:only-of-type {\n        vertical-align: middle;\n    }\n\n    .dataframe tbody tr th {\n        vertical-align: top;\n    }\n\n    .dataframe thead th {\n        text-align: right;\n    }\n</style>\n<table border=\"1\" class=\"dataframe\">\n  <thead>\n    <tr style=\"text-align: right;\">\n      <th></th>\n      <th>B</th>\n      <th>C</th>\n    </tr>\n    <tr>\n      <th>Nombre</th>\n      <th></th>\n      <th></th>\n    </tr>\n  </thead>\n  <tbody>\n    <tr>\n      <th>Juan</th>\n      <td>2.0</td>\n      <td>NaN</td>\n    </tr>\n    <tr>\n      <th>Esteban</th>\n      <td>4.0</td>\n      <td>NaN</td>\n    </tr>\n    <tr>\n      <th>Pepe</th>\n      <td>NaN</td>\n      <td>NaN</td>\n    </tr>\n    <tr>\n      <th>Jengibre</th>\n      <td>3.0</td>\n      <td>NaN</td>\n    </tr>\n  </tbody>\n</table>\n</div>", 
                        "text/plain": "            B   C\nNombre           \nJuan      2.0 NaN\nEsteban   4.0 NaN\nPepe      NaN NaN\nJengibre  3.0 NaN"
                    }, 
                    "output_type": "execute_result"
                }, 
                {
                    "execution_count": 7, 
                    "metadata": {}, 
                    "data": {
                        "text/html": "<div>\n<style scoped>\n    .dataframe tbody tr th:only-of-type {\n        vertical-align: middle;\n    }\n\n    .dataframe tbody tr th {\n        vertical-align: top;\n    }\n\n    .dataframe thead th {\n        text-align: right;\n    }\n</style>\n<table border=\"1\" class=\"dataframe\">\n  <thead>\n    <tr style=\"text-align: right;\">\n      <th></th>\n      <th>B</th>\n      <th>C</th>\n      <th>D</th>\n    </tr>\n    <tr>\n      <th>Nombre</th>\n      <th></th>\n      <th></th>\n      <th></th>\n    </tr>\n  </thead>\n  <tbody>\n    <tr>\n      <th>Juan</th>\n      <td>2.0</td>\n      <td>NaN</td>\n      <td>0</td>\n    </tr>\n    <tr>\n      <th>Pepe</th>\n      <td>NaN</td>\n      <td>NaN</td>\n      <td>5</td>\n    </tr>\n  </tbody>\n</table>\n</div>", 
                        "text/plain": "          B   C  D\nNombre            \nJuan    2.0 NaN  0\nPepe    NaN NaN  5"
                    }, 
                    "output_type": "execute_result"
                }, 
                {
                    "execution_count": 7, 
                    "metadata": {}, 
                    "data": {
                        "text/html": "<div>\n<style scoped>\n    .dataframe tbody tr th:only-of-type {\n        vertical-align: middle;\n    }\n\n    .dataframe tbody tr th {\n        vertical-align: top;\n    }\n\n    .dataframe thead th {\n        text-align: right;\n    }\n</style>\n<table border=\"1\" class=\"dataframe\">\n  <thead>\n    <tr style=\"text-align: right;\">\n      <th></th>\n      <th>A</th>\n      <th>B</th>\n      <th>C</th>\n      <th>D</th>\n    </tr>\n    <tr>\n      <th>Cedula</th>\n      <th></th>\n      <th></th>\n      <th></th>\n      <th></th>\n    </tr>\n  </thead>\n  <tbody>\n    <tr>\n      <th>20</th>\n      <td>NaN</td>\n      <td>2.0</td>\n      <td>NaN</td>\n      <td>0</td>\n    </tr>\n    <tr>\n      <th>21</th>\n      <td>3.0</td>\n      <td>4.0</td>\n      <td>NaN</td>\n      <td>1</td>\n    </tr>\n    <tr>\n      <th>2</th>\n      <td>NaN</td>\n      <td>NaN</td>\n      <td>NaN</td>\n      <td>5</td>\n    </tr>\n    <tr>\n      <th>8</th>\n      <td>NaN</td>\n      <td>3.0</td>\n      <td>NaN</td>\n      <td>4</td>\n    </tr>\n  </tbody>\n</table>\n</div>", 
                        "text/plain": "          A    B   C  D\nCedula                 \n20      NaN  2.0 NaN  0\n21      3.0  4.0 NaN  1\n2       NaN  NaN NaN  5\n8       NaN  3.0 NaN  4"
                    }, 
                    "output_type": "execute_result"
                }, 
                {
                    "output_type": "stream", 
                    "name": "stderr", 
                    "text": "/usr/local/src/conda3_runtime/home/envs/DSX-Python35-Spark/lib/python3.5/site-packages/ipykernel/__main__.py:14: FutureWarning: \nPassing list-likes to .loc or [] with any missing label will raise\nKeyError in the future, you can use .reindex() as an alternative.\n\nSee the documentation here:\nhttp://pandas.pydata.org/pandas-docs/stable/indexing.html#deprecate-loc-reindex-listlike\n"
                }, 
                {
                    "execution_count": 7, 
                    "metadata": {}, 
                    "data": {
                        "text/html": "<div>\n<style scoped>\n    .dataframe tbody tr th:only-of-type {\n        vertical-align: middle;\n    }\n\n    .dataframe tbody tr th {\n        vertical-align: top;\n    }\n\n    .dataframe thead th {\n        text-align: right;\n    }\n</style>\n<table border=\"1\" class=\"dataframe\">\n  <thead>\n    <tr style=\"text-align: right;\">\n      <th></th>\n      <th>Nombre</th>\n      <th>B</th>\n      <th>C</th>\n    </tr>\n    <tr>\n      <th>Cedula</th>\n      <th></th>\n      <th></th>\n      <th></th>\n    </tr>\n  </thead>\n  <tbody>\n    <tr>\n      <th>2</th>\n      <td>NaN</td>\n      <td>NaN</td>\n      <td>NaN</td>\n    </tr>\n    <tr>\n      <th>8</th>\n      <td>NaN</td>\n      <td>3.0</td>\n      <td>NaN</td>\n    </tr>\n  </tbody>\n</table>\n</div>", 
                        "text/plain": "        Nombre    B   C\nCedula                 \n2          NaN  NaN NaN\n8          NaN  3.0 NaN"
                    }, 
                    "output_type": "execute_result"
                }, 
                {
                    "execution_count": 7, 
                    "metadata": {}, 
                    "data": {
                        "text/html": "<div>\n<style scoped>\n    .dataframe tbody tr th:only-of-type {\n        vertical-align: middle;\n    }\n\n    .dataframe tbody tr th {\n        vertical-align: top;\n    }\n\n    .dataframe thead th {\n        text-align: right;\n    }\n</style>\n<table border=\"1\" class=\"dataframe\">\n  <thead>\n    <tr style=\"text-align: right;\">\n      <th></th>\n      <th>Nombre</th>\n      <th>B</th>\n      <th>C</th>\n    </tr>\n  </thead>\n  <tbody>\n    <tr>\n      <th>2</th>\n      <td>NaN</td>\n      <td>NaN</td>\n      <td>NaN</td>\n    </tr>\n    <tr>\n      <th>4</th>\n      <td>NaN</td>\n      <td>NaN</td>\n      <td>NaN</td>\n    </tr>\n    <tr>\n      <th>5</th>\n      <td>NaN</td>\n      <td>NaN</td>\n      <td>NaN</td>\n    </tr>\n  </tbody>\n</table>\n</div>", 
                        "text/plain": "   Nombre   B   C\n2     NaN NaN NaN\n4     NaN NaN NaN\n5     NaN NaN NaN"
                    }, 
                    "output_type": "execute_result"
                }
            ], 
            "source": "df0[\"Cedula\"] = pd.Series(np.array([20,21,2,8])) #Se agrega para el ejercicio\ndf0[\"Nombre\"] = pd.Series([\"Juan\",\"Esteban\",\"Pepe\",\"Jengibre\"])#Se agrega para el ejercicio\ndf0\n\n#Para establecer Cedula como \u00edndice usando loc se debe hacer el siguiente paso\ndf0.set_index(\"Nombre\", inplace=True)#Notar que deja de aparecer como una variable, por lo que cambiar\u00eda la estructura de datos\ndf0\ndf0.loc[[\"Juan\", \"Pepe\"],[\"B\",\"C\"]]\ndf0.loc[:,[\"B\",\"C\"]]\ndf0.loc[[\"Juan\", \"Pepe\"],\"B\":\"D\"] #Como rango de columnas\n\ndf0.set_index(\"Cedula\", inplace=True)\ndf0\ndf0.loc[[2, 8],[\"Nombre\",\"B\",\"C\"]]#Notar que Nombre ya no aparece como variable al hacerse el cambio de \u00edndice\n\npd.DataFrame(df0,index=[2,4,5],columns=[\"Nombre\",\"B\",\"C\"]) #Alternativa con nombre de \u00edndices y columnas\n#VER SIGUIENTE LINEA PARA HACER SELECCION SIN AFECTAR ESTRUCTURA DE DATOS"
        }, 
        {
            "execution_count": 8, 
            "cell_type": "code", 
            "metadata": {}, 
            "outputs": [
                {
                    "execution_count": 8, 
                    "metadata": {}, 
                    "data": {
                        "text/html": "<div>\n<style scoped>\n    .dataframe tbody tr th:only-of-type {\n        vertical-align: middle;\n    }\n\n    .dataframe tbody tr th {\n        vertical-align: top;\n    }\n\n    .dataframe thead th {\n        text-align: right;\n    }\n</style>\n<table border=\"1\" class=\"dataframe\">\n  <thead>\n    <tr style=\"text-align: right;\">\n      <th></th>\n      <th>A</th>\n      <th>B</th>\n      <th>C</th>\n      <th>D</th>\n      <th>Cedula</th>\n      <th>Nombre</th>\n    </tr>\n  </thead>\n  <tbody>\n    <tr>\n      <th>0</th>\n      <td>NaN</td>\n      <td>2.0</td>\n      <td>NaN</td>\n      <td>0</td>\n      <td>20</td>\n      <td>Juan</td>\n    </tr>\n    <tr>\n      <th>1</th>\n      <td>3.0</td>\n      <td>4.0</td>\n      <td>NaN</td>\n      <td>1</td>\n      <td>21</td>\n      <td>Esteban</td>\n    </tr>\n    <tr>\n      <th>2</th>\n      <td>NaN</td>\n      <td>NaN</td>\n      <td>NaN</td>\n      <td>5</td>\n      <td>2</td>\n      <td>Pepe</td>\n    </tr>\n    <tr>\n      <th>3</th>\n      <td>NaN</td>\n      <td>3.0</td>\n      <td>NaN</td>\n      <td>4</td>\n      <td>8</td>\n      <td>Jengibre</td>\n    </tr>\n  </tbody>\n</table>\n</div>", 
                        "text/plain": "     A    B   C  D  Cedula    Nombre\n0  NaN  2.0 NaN  0      20      Juan\n1  3.0  4.0 NaN  1      21   Esteban\n2  NaN  NaN NaN  5       2      Pepe\n3  NaN  3.0 NaN  4       8  Jengibre"
                    }, 
                    "output_type": "execute_result"
                }
            ], 
            "source": "#Se vuelve a crear df original\ndf0 = pd.DataFrame([[np.nan, 2, np.nan, 0],\n                    [3, 4, np.nan, 1],\n                    [np.nan, np.nan, np.nan, 5],\n                    [np.nan, 3, np.nan, 4]],\n                    columns=list('ABCD'))\ndf0[\"Cedula\"] = pd.Series(np.array([20,21,2,8])) #Se agrega para el ejercicio\ndf0[\"Nombre\"] = pd.Series([\"Juan\",\"Esteban\",\"Pepe\",\"Jengibre\"])#Se agrega para el ejercicio\ndf0"
        }, 
        {
            "source": "### 1.3. Seg\u00fan criterio", 
            "cell_type": "markdown", 
            "metadata": {}
        }, 
        {
            "execution_count": 9, 
            "cell_type": "code", 
            "metadata": {}, 
            "outputs": [
                {
                    "execution_count": 9, 
                    "metadata": {}, 
                    "data": {
                        "text/plain": "0     True\n1    False\n2    False\n3    False\nName: Nombre, dtype: bool"
                    }, 
                    "output_type": "execute_result"
                }, 
                {
                    "execution_count": 9, 
                    "metadata": {}, 
                    "data": {
                        "text/plain": "pandas.core.series.Series"
                    }, 
                    "output_type": "execute_result"
                }, 
                {
                    "execution_count": 9, 
                    "metadata": {}, 
                    "data": {
                        "text/html": "<div>\n<style scoped>\n    .dataframe tbody tr th:only-of-type {\n        vertical-align: middle;\n    }\n\n    .dataframe tbody tr th {\n        vertical-align: top;\n    }\n\n    .dataframe thead th {\n        text-align: right;\n    }\n</style>\n<table border=\"1\" class=\"dataframe\">\n  <thead>\n    <tr style=\"text-align: right;\">\n      <th></th>\n      <th>A</th>\n      <th>B</th>\n      <th>C</th>\n      <th>D</th>\n      <th>Cedula</th>\n      <th>Nombre</th>\n    </tr>\n  </thead>\n  <tbody>\n    <tr>\n      <th>0</th>\n      <td>NaN</td>\n      <td>2.0</td>\n      <td>NaN</td>\n      <td>0</td>\n      <td>20</td>\n      <td>Juan</td>\n    </tr>\n  </tbody>\n</table>\n</div>", 
                        "text/plain": "    A    B   C  D  Cedula Nombre\n0 NaN  2.0 NaN  0      20   Juan"
                    }, 
                    "output_type": "execute_result"
                }, 
                {
                    "execution_count": 9, 
                    "metadata": {}, 
                    "data": {
                        "text/html": "<div>\n<style scoped>\n    .dataframe tbody tr th:only-of-type {\n        vertical-align: middle;\n    }\n\n    .dataframe tbody tr th {\n        vertical-align: top;\n    }\n\n    .dataframe thead th {\n        text-align: right;\n    }\n</style>\n<table border=\"1\" class=\"dataframe\">\n  <thead>\n    <tr style=\"text-align: right;\">\n      <th></th>\n      <th>B</th>\n      <th>D</th>\n    </tr>\n  </thead>\n  <tbody>\n    <tr>\n      <th>0</th>\n      <td>2.0</td>\n      <td>0</td>\n    </tr>\n  </tbody>\n</table>\n</div>", 
                        "text/plain": "     B  D\n0  2.0  0"
                    }, 
                    "output_type": "execute_result"
                }, 
                {
                    "execution_count": 9, 
                    "metadata": {}, 
                    "data": {
                        "text/html": "<div>\n<style scoped>\n    .dataframe tbody tr th:only-of-type {\n        vertical-align: middle;\n    }\n\n    .dataframe tbody tr th {\n        vertical-align: top;\n    }\n\n    .dataframe thead th {\n        text-align: right;\n    }\n</style>\n<table border=\"1\" class=\"dataframe\">\n  <thead>\n    <tr style=\"text-align: right;\">\n      <th></th>\n      <th>A</th>\n      <th>B</th>\n      <th>C</th>\n      <th>D</th>\n      <th>Cedula</th>\n      <th>Nombre</th>\n    </tr>\n  </thead>\n  <tbody>\n    <tr>\n      <th>0</th>\n      <td>NaN</td>\n      <td>2.0</td>\n      <td>NaN</td>\n      <td>0</td>\n      <td>20</td>\n      <td>Juan</td>\n    </tr>\n    <tr>\n      <th>1</th>\n      <td>3.0</td>\n      <td>4.0</td>\n      <td>NaN</td>\n      <td>1</td>\n      <td>21</td>\n      <td>Esteban</td>\n    </tr>\n    <tr>\n      <th>2</th>\n      <td>NaN</td>\n      <td>NaN</td>\n      <td>NaN</td>\n      <td>5</td>\n      <td>2</td>\n      <td>Pepe</td>\n    </tr>\n    <tr>\n      <th>3</th>\n      <td>NaN</td>\n      <td>3.0</td>\n      <td>NaN</td>\n      <td>4</td>\n      <td>8</td>\n      <td>Jengibre</td>\n    </tr>\n  </tbody>\n</table>\n</div>", 
                        "text/plain": "     A    B   C  D  Cedula    Nombre\n0  NaN  2.0 NaN  0      20      Juan\n1  3.0  4.0 NaN  1      21   Esteban\n2  NaN  NaN NaN  5       2      Pepe\n3  NaN  3.0 NaN  4       8  Jengibre"
                    }, 
                    "output_type": "execute_result"
                }, 
                {
                    "execution_count": 9, 
                    "metadata": {}, 
                    "data": {
                        "text/html": "<div>\n<style scoped>\n    .dataframe tbody tr th:only-of-type {\n        vertical-align: middle;\n    }\n\n    .dataframe tbody tr th {\n        vertical-align: top;\n    }\n\n    .dataframe thead th {\n        text-align: right;\n    }\n</style>\n<table border=\"1\" class=\"dataframe\">\n  <thead>\n    <tr style=\"text-align: right;\">\n      <th></th>\n      <th>A</th>\n      <th>B</th>\n      <th>C</th>\n      <th>D</th>\n      <th>Cedula</th>\n      <th>Nombre</th>\n    </tr>\n  </thead>\n  <tbody>\n    <tr>\n      <th>0</th>\n      <td>NaN</td>\n      <td>2.0</td>\n      <td>NaN</td>\n      <td>0</td>\n      <td>20</td>\n      <td>Juan</td>\n    </tr>\n    <tr>\n      <th>3</th>\n      <td>NaN</td>\n      <td>3.0</td>\n      <td>NaN</td>\n      <td>4</td>\n      <td>8</td>\n      <td>Jengibre</td>\n    </tr>\n  </tbody>\n</table>\n</div>", 
                        "text/plain": "    A    B   C  D  Cedula    Nombre\n0 NaN  2.0 NaN  0      20      Juan\n3 NaN  3.0 NaN  4       8  Jengibre"
                    }, 
                    "output_type": "execute_result"
                }, 
                {
                    "execution_count": 9, 
                    "metadata": {}, 
                    "data": {
                        "text/html": "<div>\n<style scoped>\n    .dataframe tbody tr th:only-of-type {\n        vertical-align: middle;\n    }\n\n    .dataframe tbody tr th {\n        vertical-align: top;\n    }\n\n    .dataframe thead th {\n        text-align: right;\n    }\n</style>\n<table border=\"1\" class=\"dataframe\">\n  <thead>\n    <tr style=\"text-align: right;\">\n      <th></th>\n      <th>A</th>\n      <th>B</th>\n      <th>C</th>\n      <th>D</th>\n      <th>Cedula</th>\n      <th>Nombre</th>\n    </tr>\n  </thead>\n  <tbody>\n    <tr>\n      <th>1</th>\n      <td>3.0</td>\n      <td>4.0</td>\n      <td>NaN</td>\n      <td>1</td>\n      <td>21</td>\n      <td>Esteban</td>\n    </tr>\n    <tr>\n      <th>2</th>\n      <td>NaN</td>\n      <td>NaN</td>\n      <td>NaN</td>\n      <td>5</td>\n      <td>2</td>\n      <td>Pepe</td>\n    </tr>\n  </tbody>\n</table>\n</div>", 
                        "text/plain": "     A    B   C  D  Cedula   Nombre\n1  3.0  4.0 NaN  1      21  Esteban\n2  NaN  NaN NaN  5       2     Pepe"
                    }, 
                    "output_type": "execute_result"
                }, 
                {
                    "execution_count": 9, 
                    "metadata": {}, 
                    "data": {
                        "text/html": "<div>\n<style scoped>\n    .dataframe tbody tr th:only-of-type {\n        vertical-align: middle;\n    }\n\n    .dataframe tbody tr th {\n        vertical-align: top;\n    }\n\n    .dataframe thead th {\n        text-align: right;\n    }\n</style>\n<table border=\"1\" class=\"dataframe\">\n  <thead>\n    <tr style=\"text-align: right;\">\n      <th></th>\n      <th>A</th>\n      <th>B</th>\n      <th>C</th>\n      <th>D</th>\n      <th>Cedula</th>\n      <th>Nombre</th>\n    </tr>\n  </thead>\n  <tbody>\n    <tr>\n      <th>0</th>\n      <td>NaN</td>\n      <td>2.0</td>\n      <td>NaN</td>\n      <td>0</td>\n      <td>20</td>\n      <td>Juan</td>\n    </tr>\n    <tr>\n      <th>1</th>\n      <td>3.0</td>\n      <td>4.0</td>\n      <td>NaN</td>\n      <td>1</td>\n      <td>21</td>\n      <td>Esteban</td>\n    </tr>\n  </tbody>\n</table>\n</div>", 
                        "text/plain": "     A    B   C  D  Cedula   Nombre\n0  NaN  2.0 NaN  0      20     Juan\n1  3.0  4.0 NaN  1      21  Esteban"
                    }, 
                    "output_type": "execute_result"
                }
            ], 
            "source": "df0[\"Nombre\"]==\"Juan\"\ntype(df0[\"Nombre\"]==\"Juan\")\ndf0.loc[df0[\"Nombre\"]==\"Juan\"] #Seleccionar Nombre igual a Juan. Lo que est\u00e1 al interior de df0.loc es una pandas series booleana\ndf0.loc[df0[\"Nombre\"]==\"Juan\",[\"B\",\"D\"]] #Seleccionar Nombre igual a Juan solo las columnas B y D. Aplica misma l\u00f3gica que antes, si se selecciona una sola columna sin [] va a retornar una serie y no un dataframe\ndf0\ndf0.loc[df0[\"Nombre\"].isin([\"Juan\", \"Jengibre\"])] #Seleccionar Nombre que sea igual a alg\u00fan elemento de la lista\ndf0.loc[(df0[\"Cedula\"]>20) | (df0[\"Nombre\"]==\"Pepe\")] #que cumpla alguno de los dos criterios, se puede usar & como un Y\ndf0.loc[df0[\"Nombre\"].str.contains(\"an\")] #Nombres que contengan \"an\""
        }, 
        {
            "execution_count": 10, 
            "cell_type": "code", 
            "metadata": {}, 
            "outputs": [
                {
                    "execution_count": 10, 
                    "metadata": {}, 
                    "data": {
                        "text/html": "<div>\n<style scoped>\n    .dataframe tbody tr th:only-of-type {\n        vertical-align: middle;\n    }\n\n    .dataframe tbody tr th {\n        vertical-align: top;\n    }\n\n    .dataframe thead th {\n        text-align: right;\n    }\n</style>\n<table border=\"1\" class=\"dataframe\">\n  <thead>\n    <tr style=\"text-align: right;\">\n      <th></th>\n      <th>A</th>\n      <th>B</th>\n      <th>C</th>\n      <th>D</th>\n      <th>Cedula</th>\n      <th>Nombre</th>\n    </tr>\n  </thead>\n  <tbody>\n    <tr>\n      <th>0</th>\n      <td>NaN</td>\n      <td>2.0</td>\n      <td>NaN</td>\n      <td>0</td>\n      <td>20</td>\n      <td>Juan</td>\n    </tr>\n    <tr>\n      <th>2</th>\n      <td>NaN</td>\n      <td>NaN</td>\n      <td>NaN</td>\n      <td>5</td>\n      <td>2</td>\n      <td>Pepe</td>\n    </tr>\n  </tbody>\n</table>\n</div>", 
                        "text/plain": "    A    B   C  D  Cedula Nombre\n0 NaN  2.0 NaN  0      20   Juan\n2 NaN  NaN NaN  5       2   Pepe"
                    }, 
                    "output_type": "execute_result"
                }, 
                {
                    "execution_count": 10, 
                    "metadata": {}, 
                    "data": {
                        "text/plain": "4"
                    }, 
                    "output_type": "execute_result"
                }
            ], 
            "source": "#Se puede tambi\u00e9n seleccionar seg\u00fan un c\u00e1lculo realizado sobre una variable\n#Con lambda se crea una funci\u00f3n an\u00f3nima, la cual no ser\u00e1 asignada a ning\u00fan nombre\ndf0.loc[df0[\"Nombre\"].apply(lambda x: len(x))==4] #Seleccionar registros con nombre de 4 letras. Se debe usar como funci\u00f3n para que nombre por nombre mida el tama\u00f1o\nlen(df0[\"Nombre\"])# De hacerse asi dar\u00e1 numero de filas de la dataframe y no el n\u00famero de caracteres del nombre"
        }, 
        {
            "source": "\n\n\n## 2. Rellenar", 
            "cell_type": "markdown", 
            "metadata": {}
        }, 
        {
            "execution_count": 11, 
            "cell_type": "code", 
            "metadata": {}, 
            "outputs": [
                {
                    "execution_count": 11, 
                    "metadata": {}, 
                    "data": {
                        "text/html": "<div>\n<style scoped>\n    .dataframe tbody tr th:only-of-type {\n        vertical-align: middle;\n    }\n\n    .dataframe tbody tr th {\n        vertical-align: top;\n    }\n\n    .dataframe thead th {\n        text-align: right;\n    }\n</style>\n<table border=\"1\" class=\"dataframe\">\n  <thead>\n    <tr style=\"text-align: right;\">\n      <th></th>\n      <th>A</th>\n      <th>B</th>\n      <th>C</th>\n      <th>D</th>\n      <th>Cedula</th>\n      <th>Nombre</th>\n    </tr>\n  </thead>\n  <tbody>\n    <tr>\n      <th>0</th>\n      <td>NaN</td>\n      <td>2.0</td>\n      <td>NaN</td>\n      <td>0</td>\n      <td>20</td>\n      <td>Juan</td>\n    </tr>\n    <tr>\n      <th>1</th>\n      <td>3.0</td>\n      <td>4.0</td>\n      <td>NaN</td>\n      <td>1</td>\n      <td>21</td>\n      <td>Esteban</td>\n    </tr>\n    <tr>\n      <th>2</th>\n      <td>NaN</td>\n      <td>NaN</td>\n      <td>NaN</td>\n      <td>5</td>\n      <td>2</td>\n      <td>Pepe</td>\n    </tr>\n    <tr>\n      <th>3</th>\n      <td>NaN</td>\n      <td>3.0</td>\n      <td>NaN</td>\n      <td>4</td>\n      <td>8</td>\n      <td>Jengibre</td>\n    </tr>\n  </tbody>\n</table>\n</div>", 
                        "text/plain": "     A    B   C  D  Cedula    Nombre\n0  NaN  2.0 NaN  0      20      Juan\n1  3.0  4.0 NaN  1      21   Esteban\n2  NaN  NaN NaN  5       2      Pepe\n3  NaN  3.0 NaN  4       8  Jengibre"
                    }, 
                    "output_type": "execute_result"
                }, 
                {
                    "execution_count": 11, 
                    "metadata": {}, 
                    "data": {
                        "text/html": "<div>\n<style scoped>\n    .dataframe tbody tr th:only-of-type {\n        vertical-align: middle;\n    }\n\n    .dataframe tbody tr th {\n        vertical-align: top;\n    }\n\n    .dataframe thead th {\n        text-align: right;\n    }\n</style>\n<table border=\"1\" class=\"dataframe\">\n  <thead>\n    <tr style=\"text-align: right;\">\n      <th></th>\n      <th>A</th>\n    </tr>\n  </thead>\n  <tbody>\n    <tr>\n      <th>0</th>\n      <td>NaN</td>\n    </tr>\n    <tr>\n      <th>1</th>\n      <td>3.0</td>\n    </tr>\n    <tr>\n      <th>2</th>\n      <td>NaN</td>\n    </tr>\n    <tr>\n      <th>3</th>\n      <td>NaN</td>\n    </tr>\n  </tbody>\n</table>\n</div>", 
                        "text/plain": "     A\n0  NaN\n1  3.0\n2  NaN\n3  NaN"
                    }, 
                    "output_type": "execute_result"
                }, 
                {
                    "execution_count": 11, 
                    "metadata": {}, 
                    "data": {
                        "text/html": "<div>\n<style scoped>\n    .dataframe tbody tr th:only-of-type {\n        vertical-align: middle;\n    }\n\n    .dataframe tbody tr th {\n        vertical-align: top;\n    }\n\n    .dataframe thead th {\n        text-align: right;\n    }\n</style>\n<table border=\"1\" class=\"dataframe\">\n  <thead>\n    <tr style=\"text-align: right;\">\n      <th></th>\n      <th>A</th>\n      <th>B</th>\n      <th>C</th>\n      <th>D</th>\n      <th>Cedula</th>\n      <th>Nombre</th>\n    </tr>\n  </thead>\n  <tbody>\n    <tr>\n      <th>0</th>\n      <td>500.0</td>\n      <td>2.0</td>\n      <td>NaN</td>\n      <td>0</td>\n      <td>20</td>\n      <td>Juan</td>\n    </tr>\n    <tr>\n      <th>1</th>\n      <td>3.0</td>\n      <td>4.0</td>\n      <td>NaN</td>\n      <td>1</td>\n      <td>21</td>\n      <td>Esteban</td>\n    </tr>\n    <tr>\n      <th>2</th>\n      <td>NaN</td>\n      <td>NaN</td>\n      <td>NaN</td>\n      <td>5</td>\n      <td>2</td>\n      <td>Pepe</td>\n    </tr>\n    <tr>\n      <th>3</th>\n      <td>NaN</td>\n      <td>3.0</td>\n      <td>NaN</td>\n      <td>4</td>\n      <td>8</td>\n      <td>Jengibre</td>\n    </tr>\n  </tbody>\n</table>\n</div>", 
                        "text/plain": "       A    B   C  D  Cedula    Nombre\n0  500.0  2.0 NaN  0      20      Juan\n1    3.0  4.0 NaN  1      21   Esteban\n2    NaN  NaN NaN  5       2      Pepe\n3    NaN  3.0 NaN  4       8  Jengibre"
                    }, 
                    "output_type": "execute_result"
                }, 
                {
                    "execution_count": 11, 
                    "metadata": {}, 
                    "data": {
                        "text/html": "<div>\n<style scoped>\n    .dataframe tbody tr th:only-of-type {\n        vertical-align: middle;\n    }\n\n    .dataframe tbody tr th {\n        vertical-align: top;\n    }\n\n    .dataframe thead th {\n        text-align: right;\n    }\n</style>\n<table border=\"1\" class=\"dataframe\">\n  <thead>\n    <tr style=\"text-align: right;\">\n      <th></th>\n      <th>A</th>\n      <th>B</th>\n      <th>C</th>\n      <th>D</th>\n      <th>Cedula</th>\n      <th>Nombre</th>\n    </tr>\n  </thead>\n  <tbody>\n    <tr>\n      <th>0</th>\n      <td>500.0</td>\n      <td>2.0</td>\n      <td>NaN</td>\n      <td>0</td>\n      <td>20</td>\n      <td>Juan</td>\n    </tr>\n    <tr>\n      <th>1</th>\n      <td>3.0</td>\n      <td>4.0</td>\n      <td>NaN</td>\n      <td>1</td>\n      <td>21</td>\n      <td>Esteban</td>\n    </tr>\n    <tr>\n      <th>2</th>\n      <td>NaN</td>\n      <td>1234.0</td>\n      <td>NaN</td>\n      <td>1234</td>\n      <td>2</td>\n      <td>Pepe</td>\n    </tr>\n    <tr>\n      <th>3</th>\n      <td>NaN</td>\n      <td>1234.0</td>\n      <td>NaN</td>\n      <td>1234</td>\n      <td>8</td>\n      <td>Jengibre</td>\n    </tr>\n  </tbody>\n</table>\n</div>", 
                        "text/plain": "       A       B   C     D  Cedula    Nombre\n0  500.0     2.0 NaN     0      20      Juan\n1    3.0     4.0 NaN     1      21   Esteban\n2    NaN  1234.0 NaN  1234       2      Pepe\n3    NaN  1234.0 NaN  1234       8  Jengibre"
                    }, 
                    "output_type": "execute_result"
                }, 
                {
                    "execution_count": 11, 
                    "metadata": {}, 
                    "data": {
                        "text/html": "<div>\n<style scoped>\n    .dataframe tbody tr th:only-of-type {\n        vertical-align: middle;\n    }\n\n    .dataframe tbody tr th {\n        vertical-align: top;\n    }\n\n    .dataframe thead th {\n        text-align: right;\n    }\n</style>\n<table border=\"1\" class=\"dataframe\">\n  <thead>\n    <tr style=\"text-align: right;\">\n      <th></th>\n      <th>A</th>\n      <th>B</th>\n      <th>C</th>\n      <th>D</th>\n      <th>Cedula</th>\n      <th>Nombre</th>\n    </tr>\n  </thead>\n  <tbody>\n    <tr>\n      <th>0</th>\n      <td>500.0</td>\n      <td>2.0</td>\n      <td>NaN</td>\n      <td>0</td>\n      <td>20</td>\n      <td>Juan</td>\n    </tr>\n    <tr>\n      <th>1</th>\n      <td>3.0</td>\n      <td>4.0</td>\n      <td>NaN</td>\n      <td>1</td>\n      <td>21</td>\n      <td>Esteban</td>\n    </tr>\n    <tr>\n      <th>2</th>\n      <td>NaN</td>\n      <td>10.0</td>\n      <td>NaN</td>\n      <td>10</td>\n      <td>2</td>\n      <td>Pepe</td>\n    </tr>\n    <tr>\n      <th>3</th>\n      <td>NaN</td>\n      <td>10.0</td>\n      <td>NaN</td>\n      <td>10</td>\n      <td>8</td>\n      <td>Jengibre</td>\n    </tr>\n  </tbody>\n</table>\n</div>", 
                        "text/plain": "       A     B   C   D  Cedula    Nombre\n0  500.0   2.0 NaN   0      20      Juan\n1    3.0   4.0 NaN   1      21   Esteban\n2    NaN  10.0 NaN  10       2      Pepe\n3    NaN  10.0 NaN  10       8  Jengibre"
                    }, 
                    "output_type": "execute_result"
                }
            ], 
            "source": "df1=pd.DataFrame.copy(df0) #De hacer df1=df0, df1 va a estar haciendo referencia a df0, por lo que de cambiarse luego df1, tambi\u00e9n cambiar\u00e1 df0. Por esta raz\u00f3n para crear dataframe completamente nueva se debe usar copy\ndf1\ndf1.loc[:,[\"A\"]] #Ver la columna A con todas las filas\ndf1.loc[df1[\"Nombre\"]==\"Juan\", \"A\"]= 500 #Cambiar variable A para aquellos nombres que sean Juan por el valor 500\ndf1\ndf1.loc[df1[\"Nombre\"].isin([\"Pepe\",\"Jengibre\"]), [\"B\",\"D\"]]=1234 #Cambiar varias columnas seg\u00fan criterio\ndf1\n\n#Reemplazar tambi\u00e9n se puede\ndf1.replace(1234,10) #cambiar todos los 1234 por 10\n"
        }, 
        {
            "execution_count": 12, 
            "cell_type": "code", 
            "metadata": {}, 
            "outputs": [
                {
                    "execution_count": 12, 
                    "metadata": {}, 
                    "data": {
                        "text/plain": "pandas.core.series.Series"
                    }, 
                    "output_type": "execute_result"
                }, 
                {
                    "execution_count": 12, 
                    "metadata": {}, 
                    "data": {
                        "text/plain": "pandas.core.frame.DataFrame"
                    }, 
                    "output_type": "execute_result"
                }, 
                {
                    "execution_count": 12, 
                    "metadata": {}, 
                    "data": {
                        "text/html": "<div>\n<style scoped>\n    .dataframe tbody tr th:only-of-type {\n        vertical-align: middle;\n    }\n\n    .dataframe tbody tr th {\n        vertical-align: top;\n    }\n\n    .dataframe thead th {\n        text-align: right;\n    }\n</style>\n<table border=\"1\" class=\"dataframe\">\n  <thead>\n    <tr style=\"text-align: right;\">\n      <th></th>\n      <th>0</th>\n      <th>1</th>\n    </tr>\n  </thead>\n  <tbody>\n    <tr>\n      <th>0</th>\n      <td>500</td>\n      <td>300</td>\n    </tr>\n    <tr>\n      <th>1</th>\n      <td>200</td>\n      <td>400</td>\n    </tr>\n    <tr>\n      <th>2</th>\n      <td>20000</td>\n      <td>500</td>\n    </tr>\n    <tr>\n      <th>3</th>\n      <td>35000</td>\n      <td>600</td>\n    </tr>\n  </tbody>\n</table>\n</div>", 
                        "text/plain": "       0    1\n0    500  300\n1    200  400\n2  20000  500\n3  35000  600"
                    }, 
                    "output_type": "execute_result"
                }, 
                {
                    "execution_count": 12, 
                    "metadata": {}, 
                    "data": {
                        "text/html": "<div>\n<style scoped>\n    .dataframe tbody tr th:only-of-type {\n        vertical-align: middle;\n    }\n\n    .dataframe tbody tr th {\n        vertical-align: top;\n    }\n\n    .dataframe thead th {\n        text-align: right;\n    }\n</style>\n<table border=\"1\" class=\"dataframe\">\n  <thead>\n    <tr style=\"text-align: right;\">\n      <th></th>\n      <th>A</th>\n      <th>B</th>\n      <th>C</th>\n      <th>D</th>\n      <th>Cedula</th>\n      <th>Nombre</th>\n      <th>Ingresos</th>\n      <th>Activos</th>\n      <th>Pasivos</th>\n    </tr>\n  </thead>\n  <tbody>\n    <tr>\n      <th>0</th>\n      <td>NaN</td>\n      <td>2.0</td>\n      <td>NaN</td>\n      <td>0</td>\n      <td>20</td>\n      <td>Juan</td>\n      <td>1000</td>\n      <td>500</td>\n      <td>300</td>\n    </tr>\n    <tr>\n      <th>1</th>\n      <td>3.0</td>\n      <td>4.0</td>\n      <td>NaN</td>\n      <td>1</td>\n      <td>21</td>\n      <td>Esteban</td>\n      <td>1100</td>\n      <td>200</td>\n      <td>400</td>\n    </tr>\n    <tr>\n      <th>2</th>\n      <td>NaN</td>\n      <td>NaN</td>\n      <td>NaN</td>\n      <td>5</td>\n      <td>2</td>\n      <td>Pepe</td>\n      <td>5000</td>\n      <td>20000</td>\n      <td>500</td>\n    </tr>\n    <tr>\n      <th>3</th>\n      <td>NaN</td>\n      <td>3.0</td>\n      <td>NaN</td>\n      <td>4</td>\n      <td>8</td>\n      <td>Jengibre</td>\n      <td>3000</td>\n      <td>35000</td>\n      <td>600</td>\n    </tr>\n  </tbody>\n</table>\n</div>", 
                        "text/plain": "     A    B   C  D  Cedula    Nombre  Ingresos  Activos  Pasivos\n0  NaN  2.0 NaN  0      20      Juan      1000      500      300\n1  3.0  4.0 NaN  1      21   Esteban      1100      200      400\n2  NaN  NaN NaN  5       2      Pepe      5000    20000      500\n3  NaN  3.0 NaN  4       8  Jengibre      3000    35000      600"
                    }, 
                    "output_type": "execute_result"
                }, 
                {
                    "execution_count": 12, 
                    "metadata": {}, 
                    "data": {
                        "text/html": "<div>\n<style scoped>\n    .dataframe tbody tr th:only-of-type {\n        vertical-align: middle;\n    }\n\n    .dataframe tbody tr th {\n        vertical-align: top;\n    }\n\n    .dataframe thead th {\n        text-align: right;\n    }\n</style>\n<table border=\"1\" class=\"dataframe\">\n  <thead>\n    <tr style=\"text-align: right;\">\n      <th></th>\n      <th>A</th>\n      <th>B</th>\n      <th>C</th>\n      <th>D</th>\n      <th>Cedula</th>\n      <th>Nombre</th>\n      <th>Ingresos</th>\n      <th>Activos</th>\n      <th>Pasivos</th>\n    </tr>\n  </thead>\n  <tbody>\n    <tr>\n      <th>0</th>\n      <td>NaN</td>\n      <td>2.0</td>\n      <td>NaN</td>\n      <td>0</td>\n      <td>20</td>\n      <td>Juan</td>\n      <td>1000</td>\n      <td>80.0</td>\n      <td>48.0</td>\n    </tr>\n    <tr>\n      <th>1</th>\n      <td>3.0</td>\n      <td>4.0</td>\n      <td>NaN</td>\n      <td>1</td>\n      <td>21</td>\n      <td>Esteban</td>\n      <td>1100</td>\n      <td>32.0</td>\n      <td>64.0</td>\n    </tr>\n    <tr>\n      <th>2</th>\n      <td>NaN</td>\n      <td>NaN</td>\n      <td>NaN</td>\n      <td>5</td>\n      <td>2</td>\n      <td>Pepe</td>\n      <td>5000</td>\n      <td>3200.0</td>\n      <td>80.0</td>\n    </tr>\n    <tr>\n      <th>3</th>\n      <td>NaN</td>\n      <td>3.0</td>\n      <td>NaN</td>\n      <td>4</td>\n      <td>8</td>\n      <td>Jengibre</td>\n      <td>3000</td>\n      <td>5600.0</td>\n      <td>96.0</td>\n    </tr>\n  </tbody>\n</table>\n</div>", 
                        "text/plain": "     A    B   C  D  Cedula    Nombre  Ingresos  Activos  Pasivos\n0  NaN  2.0 NaN  0      20      Juan      1000     80.0     48.0\n1  3.0  4.0 NaN  1      21   Esteban      1100     32.0     64.0\n2  NaN  NaN NaN  5       2      Pepe      5000   3200.0     80.0\n3  NaN  3.0 NaN  4       8  Jengibre      3000   5600.0     96.0"
                    }, 
                    "output_type": "execute_result"
                }, 
                {
                    "execution_count": 12, 
                    "metadata": {}, 
                    "data": {
                        "text/html": "<div>\n<style scoped>\n    .dataframe tbody tr th:only-of-type {\n        vertical-align: middle;\n    }\n\n    .dataframe tbody tr th {\n        vertical-align: top;\n    }\n\n    .dataframe thead th {\n        text-align: right;\n    }\n</style>\n<table border=\"1\" class=\"dataframe\">\n  <thead>\n    <tr style=\"text-align: right;\">\n      <th></th>\n      <th>A</th>\n      <th>B</th>\n      <th>C</th>\n      <th>D</th>\n      <th>Cedula</th>\n      <th>Nombre</th>\n      <th>Ingresos</th>\n      <th>Activos</th>\n      <th>Pasivos</th>\n    </tr>\n  </thead>\n  <tbody>\n    <tr>\n      <th>0</th>\n      <td>NaN</td>\n      <td>2.0</td>\n      <td>NaN</td>\n      <td>0</td>\n      <td>20</td>\n      <td>Juan</td>\n      <td>1000</td>\n      <td>1600.0</td>\n      <td>960.0</td>\n    </tr>\n    <tr>\n      <th>1</th>\n      <td>3.0</td>\n      <td>4.0</td>\n      <td>NaN</td>\n      <td>1</td>\n      <td>21</td>\n      <td>Esteban</td>\n      <td>1100</td>\n      <td>640.0</td>\n      <td>1280.0</td>\n    </tr>\n    <tr>\n      <th>2</th>\n      <td>NaN</td>\n      <td>NaN</td>\n      <td>NaN</td>\n      <td>5</td>\n      <td>2</td>\n      <td>Pepe</td>\n      <td>5000</td>\n      <td>3200.0</td>\n      <td>80.0</td>\n    </tr>\n    <tr>\n      <th>3</th>\n      <td>NaN</td>\n      <td>3.0</td>\n      <td>NaN</td>\n      <td>4</td>\n      <td>8</td>\n      <td>Jengibre</td>\n      <td>3000</td>\n      <td>5600.0</td>\n      <td>96.0</td>\n    </tr>\n  </tbody>\n</table>\n</div>", 
                        "text/plain": "     A    B   C  D  Cedula    Nombre  Ingresos  Activos  Pasivos\n0  NaN  2.0 NaN  0      20      Juan      1000   1600.0    960.0\n1  3.0  4.0 NaN  1      21   Esteban      1100    640.0   1280.0\n2  NaN  NaN NaN  5       2      Pepe      5000   3200.0     80.0\n3  NaN  3.0 NaN  4       8  Jengibre      3000   5600.0     96.0"
                    }, 
                    "output_type": "execute_result"
                }
            ], 
            "source": "#Antes se crea nueva variable para hacer operaciones\ndf0[\"Ingresos\"]=[1000,1100,5000,3000]# Al ser reemplazada una pandas series se puede agregar as\u00ed o con pd.Series() y la lista adentro\ntype(df0[\"Ingresos\"])\ntype(df0[[\"A\", \"B\"]])\npd.DataFrame([[500,200,20000,35000],[300,400,500,600]]).transpose()\n\n#Agregar varias columnas\ndf0[[\"Activos\", \"Pasivos\"]]= pd.DataFrame([[500,200,20000,35000],[300,400,500,600]]).transpose()\ndf0\n\n#Rellenar varias columnas. Utilizando como criterio Siempre\ndf0[[\"Activos\", \"Pasivos\"]]=df0[[\"Activos\", \"Pasivos\"]]*0.16 #Se cambian dos columnas por su 16%\ndf0\n\n#Rellenar varias columnas. Utilizando \"En funci\u00f3n de una condici\u00f3n\"\ndf0.loc[(df0[\"Cedula\"]>=20),[\"Activos\", \"Pasivos\"]] = df0[[\"Activos\",\"Pasivos\"]]*20 #Multiplicar por 20 activos y pasivos de personas con una c\u00e9dula con valor igual o superior a 20\ndf0"
        }, 
        {
            "execution_count": 13, 
            "cell_type": "code", 
            "metadata": {}, 
            "outputs": [], 
            "source": "df0 = pd.DataFrame([[np.nan, 2, np.nan, np.nan],\n                    [2, 4, np.nan, 1],\n                    [np.nan, np.nan, np.nan, 5],\n                    [np.nan, 3, np.nan, 4]],\n                    columns=list('ABCD'))"
        }, 
        {
            "execution_count": 14, 
            "cell_type": "code", 
            "metadata": {}, 
            "outputs": [
                {
                    "execution_count": 14, 
                    "metadata": {}, 
                    "data": {
                        "text/html": "<div>\n<style scoped>\n    .dataframe tbody tr th:only-of-type {\n        vertical-align: middle;\n    }\n\n    .dataframe tbody tr th {\n        vertical-align: top;\n    }\n\n    .dataframe thead th {\n        text-align: right;\n    }\n</style>\n<table border=\"1\" class=\"dataframe\">\n  <thead>\n    <tr style=\"text-align: right;\">\n      <th></th>\n      <th>A</th>\n      <th>B</th>\n      <th>C</th>\n      <th>D</th>\n    </tr>\n  </thead>\n  <tbody>\n    <tr>\n      <th>0</th>\n      <td>NaN</td>\n      <td>2.0</td>\n      <td>NaN</td>\n      <td>NaN</td>\n    </tr>\n    <tr>\n      <th>1</th>\n      <td>2.0</td>\n      <td>4.0</td>\n      <td>NaN</td>\n      <td>1.0</td>\n    </tr>\n    <tr>\n      <th>2</th>\n      <td>NaN</td>\n      <td>NaN</td>\n      <td>NaN</td>\n      <td>5.0</td>\n    </tr>\n    <tr>\n      <th>3</th>\n      <td>NaN</td>\n      <td>3.0</td>\n      <td>NaN</td>\n      <td>4.0</td>\n    </tr>\n  </tbody>\n</table>\n</div>", 
                        "text/plain": "     A    B   C    D\n0  NaN  2.0 NaN  NaN\n1  2.0  4.0 NaN  1.0\n2  NaN  NaN NaN  5.0\n3  NaN  3.0 NaN  4.0"
                    }, 
                    "output_type": "execute_result"
                }, 
                {
                    "execution_count": 14, 
                    "metadata": {}, 
                    "data": {
                        "text/plain": "A    True\nB    True\ndtype: bool"
                    }, 
                    "output_type": "execute_result"
                }, 
                {
                    "execution_count": 14, 
                    "metadata": {}, 
                    "data": {
                        "text/plain": "0     True\n1    False\n2     True\n3     True\ndtype: bool"
                    }, 
                    "output_type": "execute_result"
                }, 
                {
                    "execution_count": 14, 
                    "metadata": {}, 
                    "data": {
                        "text/plain": "0     True\n1     True\n2    False\n3     True\ndtype: bool"
                    }, 
                    "output_type": "execute_result"
                }, 
                {
                    "execution_count": 14, 
                    "metadata": {}, 
                    "data": {
                        "text/html": "<div>\n<style scoped>\n    .dataframe tbody tr th:only-of-type {\n        vertical-align: middle;\n    }\n\n    .dataframe tbody tr th {\n        vertical-align: top;\n    }\n\n    .dataframe thead th {\n        text-align: right;\n    }\n</style>\n<table border=\"1\" class=\"dataframe\">\n  <thead>\n    <tr style=\"text-align: right;\">\n      <th></th>\n      <th>A</th>\n      <th>B</th>\n      <th>C</th>\n      <th>D</th>\n    </tr>\n  </thead>\n  <tbody>\n    <tr>\n      <th>0</th>\n      <td>2.0</td>\n      <td>2.0</td>\n      <td>NaN</td>\n      <td>3.333333</td>\n    </tr>\n    <tr>\n      <th>1</th>\n      <td>2.0</td>\n      <td>4.0</td>\n      <td>NaN</td>\n      <td>1.000000</td>\n    </tr>\n    <tr>\n      <th>2</th>\n      <td>2.0</td>\n      <td>3.0</td>\n      <td>NaN</td>\n      <td>5.000000</td>\n    </tr>\n    <tr>\n      <th>3</th>\n      <td>2.0</td>\n      <td>3.0</td>\n      <td>NaN</td>\n      <td>4.000000</td>\n    </tr>\n  </tbody>\n</table>\n</div>", 
                        "text/plain": "     A    B   C         D\n0  2.0  2.0 NaN  3.333333\n1  2.0  4.0 NaN  1.000000\n2  2.0  3.0 NaN  5.000000\n3  2.0  3.0 NaN  4.000000"
                    }, 
                    "output_type": "execute_result"
                }, 
                {
                    "execution_count": 14, 
                    "metadata": {}, 
                    "data": {
                        "text/plain": "A    2.000000\nB    3.000000\nC         NaN\nD    3.333333\ndtype: float64"
                    }, 
                    "output_type": "execute_result"
                }, 
                {
                    "execution_count": 14, 
                    "metadata": {}, 
                    "data": {
                        "text/plain": "pandas.core.series.Series"
                    }, 
                    "output_type": "execute_result"
                }
            ], 
            "source": "#Rellenar valores nulos de ciertas columnas con 0\ndf1=pd.DataFrame.copy(df0)#Crear dataframe copia de df0\ndf1\ndf1[[\"A\",\"B\"]].isna().any(axis=0)# Ver si hay alg\u00fan NA en las columnas A y B. Es una pandas series\ndf1[[\"A\",\"B\"]].isna().any(axis=1)#Ver filas con alg\u00fan na en la columna A o B. Se toma la dataframe con solo estas dos columnas, se reemplazan valores por True o False dependiendo si son NA, y se mira si alguno es true\n~df1[[\"A\",\"B\"]].isna().all(axis=1) #Ver si todos son NO nulos. notar el \"~\"\n\ndf1.loc[df1[[\"B\"]].isna().any(axis=1),[\"B\"]] = df1[\"B\"].mean()#Forma de imputar datos faltantes en una columna por su media, no es compacta\ndf1.fillna(df1.mean())#imputar todas las columnas con la media. Se puede con otra funci\u00f3n siempre y cuando se ingrese como pd.Series un valor por cada columna\ndf1.mean()\ntype(df1.mean())\n\n#   df1.dropna() # para eliminar filas con na"
        }, 
        {
            "source": "## 3. Derivar", 
            "cell_type": "markdown", 
            "metadata": {}
        }, 
        {
            "execution_count": 15, 
            "cell_type": "code", 
            "metadata": {}, 
            "outputs": [
                {
                    "execution_count": 15, 
                    "metadata": {}, 
                    "data": {
                        "text/html": "<div>\n<style scoped>\n    .dataframe tbody tr th:only-of-type {\n        vertical-align: middle;\n    }\n\n    .dataframe tbody tr th {\n        vertical-align: top;\n    }\n\n    .dataframe thead th {\n        text-align: right;\n    }\n</style>\n<table border=\"1\" class=\"dataframe\">\n  <thead>\n    <tr style=\"text-align: right;\">\n      <th></th>\n      <th>A</th>\n      <th>B</th>\n      <th>C</th>\n      <th>D</th>\n      <th>Ingresos</th>\n    </tr>\n  </thead>\n  <tbody>\n    <tr>\n      <th>0</th>\n      <td>NaN</td>\n      <td>2.0</td>\n      <td>NaN</td>\n      <td>NaN</td>\n      <td>1000</td>\n    </tr>\n    <tr>\n      <th>1</th>\n      <td>2.0</td>\n      <td>4.0</td>\n      <td>NaN</td>\n      <td>1.0</td>\n      <td>2100</td>\n    </tr>\n    <tr>\n      <th>2</th>\n      <td>NaN</td>\n      <td>NaN</td>\n      <td>NaN</td>\n      <td>5.0</td>\n      <td>1500</td>\n    </tr>\n    <tr>\n      <th>3</th>\n      <td>NaN</td>\n      <td>3.0</td>\n      <td>NaN</td>\n      <td>4.0</td>\n      <td>3000</td>\n    </tr>\n  </tbody>\n</table>\n</div>", 
                        "text/plain": "     A    B   C    D  Ingresos\n0  NaN  2.0 NaN  NaN      1000\n1  2.0  4.0 NaN  1.0      2100\n2  NaN  NaN NaN  5.0      1500\n3  NaN  3.0 NaN  4.0      3000"
                    }, 
                    "output_type": "execute_result"
                }, 
                {
                    "execution_count": 15, 
                    "metadata": {}, 
                    "data": {
                        "text/html": "<div>\n<style scoped>\n    .dataframe tbody tr th:only-of-type {\n        vertical-align: middle;\n    }\n\n    .dataframe tbody tr th {\n        vertical-align: top;\n    }\n\n    .dataframe thead th {\n        text-align: right;\n    }\n</style>\n<table border=\"1\" class=\"dataframe\">\n  <thead>\n    <tr style=\"text-align: right;\">\n      <th></th>\n      <th>A</th>\n      <th>B</th>\n      <th>C</th>\n      <th>D</th>\n      <th>Ingresos</th>\n      <th>Variable_nueva</th>\n    </tr>\n  </thead>\n  <tbody>\n    <tr>\n      <th>0</th>\n      <td>NaN</td>\n      <td>2.0</td>\n      <td>NaN</td>\n      <td>NaN</td>\n      <td>1000</td>\n      <td>2000</td>\n    </tr>\n    <tr>\n      <th>1</th>\n      <td>2.0</td>\n      <td>4.0</td>\n      <td>NaN</td>\n      <td>1.0</td>\n      <td>2100</td>\n      <td>4200</td>\n    </tr>\n    <tr>\n      <th>2</th>\n      <td>NaN</td>\n      <td>NaN</td>\n      <td>NaN</td>\n      <td>5.0</td>\n      <td>1500</td>\n      <td>3000</td>\n    </tr>\n    <tr>\n      <th>3</th>\n      <td>NaN</td>\n      <td>3.0</td>\n      <td>NaN</td>\n      <td>4.0</td>\n      <td>3000</td>\n      <td>6000</td>\n    </tr>\n  </tbody>\n</table>\n</div>", 
                        "text/plain": "     A    B   C    D  Ingresos  Variable_nueva\n0  NaN  2.0 NaN  NaN      1000            2000\n1  2.0  4.0 NaN  1.0      2100            4200\n2  NaN  NaN NaN  5.0      1500            3000\n3  NaN  3.0 NaN  4.0      3000            6000"
                    }, 
                    "output_type": "execute_result"
                }, 
                {
                    "execution_count": 15, 
                    "metadata": {}, 
                    "data": {
                        "text/html": "<div>\n<style scoped>\n    .dataframe tbody tr th:only-of-type {\n        vertical-align: middle;\n    }\n\n    .dataframe tbody tr th {\n        vertical-align: top;\n    }\n\n    .dataframe thead th {\n        text-align: right;\n    }\n</style>\n<table border=\"1\" class=\"dataframe\">\n  <thead>\n    <tr style=\"text-align: right;\">\n      <th></th>\n      <th>A</th>\n      <th>B</th>\n      <th>C</th>\n      <th>D</th>\n      <th>Ingresos</th>\n      <th>Variable_nueva</th>\n      <th>Varnueva2</th>\n      <th>Varnueva3</th>\n    </tr>\n  </thead>\n  <tbody>\n    <tr>\n      <th>0</th>\n      <td>NaN</td>\n      <td>2.0</td>\n      <td>NaN</td>\n      <td>NaN</td>\n      <td>1000</td>\n      <td>2000</td>\n      <td>1.0</td>\n      <td>500</td>\n    </tr>\n    <tr>\n      <th>1</th>\n      <td>2.0</td>\n      <td>4.0</td>\n      <td>NaN</td>\n      <td>1.0</td>\n      <td>2100</td>\n      <td>4200</td>\n      <td>2.0</td>\n      <td>1050</td>\n    </tr>\n    <tr>\n      <th>2</th>\n      <td>NaN</td>\n      <td>NaN</td>\n      <td>NaN</td>\n      <td>5.0</td>\n      <td>1500</td>\n      <td>3000</td>\n      <td>NaN</td>\n      <td>750</td>\n    </tr>\n    <tr>\n      <th>3</th>\n      <td>NaN</td>\n      <td>3.0</td>\n      <td>NaN</td>\n      <td>4.0</td>\n      <td>3000</td>\n      <td>6000</td>\n      <td>1.5</td>\n      <td>1500</td>\n    </tr>\n  </tbody>\n</table>\n</div>", 
                        "text/plain": "     A    B   C    D  Ingresos  Variable_nueva  Varnueva2  Varnueva3\n0  NaN  2.0 NaN  NaN      1000            2000        1.0        500\n1  2.0  4.0 NaN  1.0      2100            4200        2.0       1050\n2  NaN  NaN NaN  5.0      1500            3000        NaN        750\n3  NaN  3.0 NaN  4.0      3000            6000        1.5       1500"
                    }, 
                    "output_type": "execute_result"
                }
            ], 
            "source": "df0[\"Ingresos\"]=[1000,2100,1500,3000]# Al ser reemplazada una pandas series se puede agregar as\u00ed o con pd.Series() y la lista adentro\ndf0\ndf0[\"Variable_nueva\"] = df0[\"Ingresos\"]*2\ndf0\ndf0[[\"Varnueva2\",\"Varnueva3\"]]=df0[[\"B\",\"Ingresos\"]]/2 #Varias nuevas con la misma funci\u00f3n. Tomar la mitad de B y mitad de Ingresos y llamarlas varnueva2 y varnueva3\ndf0"
        }, 
        {
            "execution_count": 16, 
            "cell_type": "code", 
            "metadata": {}, 
            "outputs": [
                {
                    "execution_count": 16, 
                    "metadata": {}, 
                    "data": {
                        "text/html": "<div>\n<style scoped>\n    .dataframe tbody tr th:only-of-type {\n        vertical-align: middle;\n    }\n\n    .dataframe tbody tr th {\n        vertical-align: top;\n    }\n\n    .dataframe thead th {\n        text-align: right;\n    }\n</style>\n<table border=\"1\" class=\"dataframe\">\n  <thead>\n    <tr style=\"text-align: right;\">\n      <th></th>\n      <th>A</th>\n      <th>B</th>\n      <th>C</th>\n      <th>D</th>\n      <th>Ingresos</th>\n      <th>Variable_nueva</th>\n      <th>Varnueva2</th>\n      <th>Varnueva3</th>\n      <th>Var4</th>\n    </tr>\n  </thead>\n  <tbody>\n    <tr>\n      <th>0</th>\n      <td>NaN</td>\n      <td>2.0</td>\n      <td>NaN</td>\n      <td>NaN</td>\n      <td>1000</td>\n      <td>2000</td>\n      <td>1.0</td>\n      <td>500</td>\n      <td>Categoria 1</td>\n    </tr>\n    <tr>\n      <th>1</th>\n      <td>2.0</td>\n      <td>4.0</td>\n      <td>NaN</td>\n      <td>1.0</td>\n      <td>2100</td>\n      <td>4200</td>\n      <td>2.0</td>\n      <td>1050</td>\n      <td>Categoria 2</td>\n    </tr>\n    <tr>\n      <th>2</th>\n      <td>NaN</td>\n      <td>NaN</td>\n      <td>NaN</td>\n      <td>5.0</td>\n      <td>1500</td>\n      <td>3000</td>\n      <td>NaN</td>\n      <td>750</td>\n      <td>Categoria 1</td>\n    </tr>\n    <tr>\n      <th>3</th>\n      <td>NaN</td>\n      <td>3.0</td>\n      <td>NaN</td>\n      <td>4.0</td>\n      <td>3000</td>\n      <td>6000</td>\n      <td>1.5</td>\n      <td>1500</td>\n      <td>Categoria 2</td>\n    </tr>\n  </tbody>\n</table>\n</div>", 
                        "text/plain": "     A    B   C    D  Ingresos  Variable_nueva  Varnueva2  Varnueva3  \\\n0  NaN  2.0 NaN  NaN      1000            2000        1.0        500   \n1  2.0  4.0 NaN  1.0      2100            4200        2.0       1050   \n2  NaN  NaN NaN  5.0      1500            3000        NaN        750   \n3  NaN  3.0 NaN  4.0      3000            6000        1.5       1500   \n\n          Var4  \n0  Categoria 1  \n1  Categoria 2  \n2  Categoria 1  \n3  Categoria 2  "
                    }, 
                    "output_type": "execute_result"
                }, 
                {
                    "execution_count": 16, 
                    "metadata": {}, 
                    "data": {
                        "text/html": "<div>\n<style scoped>\n    .dataframe tbody tr th:only-of-type {\n        vertical-align: middle;\n    }\n\n    .dataframe tbody tr th {\n        vertical-align: top;\n    }\n\n    .dataframe thead th {\n        text-align: right;\n    }\n</style>\n<table border=\"1\" class=\"dataframe\">\n  <thead>\n    <tr style=\"text-align: right;\">\n      <th></th>\n      <th>copia_de_Ingresos</th>\n      <th>A</th>\n      <th>B</th>\n      <th>C</th>\n      <th>D</th>\n      <th>Ingresos</th>\n      <th>Variable_nueva</th>\n      <th>Varnueva2</th>\n      <th>Varnueva3</th>\n      <th>Var4</th>\n    </tr>\n  </thead>\n  <tbody>\n    <tr>\n      <th>0</th>\n      <td>1000</td>\n      <td>NaN</td>\n      <td>2.0</td>\n      <td>NaN</td>\n      <td>NaN</td>\n      <td>1000</td>\n      <td>2000</td>\n      <td>1.0</td>\n      <td>500</td>\n      <td>Categoria 1</td>\n    </tr>\n    <tr>\n      <th>1</th>\n      <td>2100</td>\n      <td>2.0</td>\n      <td>4.0</td>\n      <td>NaN</td>\n      <td>1.0</td>\n      <td>2100</td>\n      <td>4200</td>\n      <td>2.0</td>\n      <td>1050</td>\n      <td>Categoria 2</td>\n    </tr>\n    <tr>\n      <th>2</th>\n      <td>1500</td>\n      <td>NaN</td>\n      <td>NaN</td>\n      <td>NaN</td>\n      <td>5.0</td>\n      <td>1500</td>\n      <td>3000</td>\n      <td>NaN</td>\n      <td>750</td>\n      <td>Categoria 1</td>\n    </tr>\n    <tr>\n      <th>3</th>\n      <td>3000</td>\n      <td>NaN</td>\n      <td>3.0</td>\n      <td>NaN</td>\n      <td>4.0</td>\n      <td>3000</td>\n      <td>6000</td>\n      <td>1.5</td>\n      <td>1500</td>\n      <td>Categoria 2</td>\n    </tr>\n  </tbody>\n</table>\n</div>", 
                        "text/plain": "   copia_de_Ingresos    A    B   C    D  Ingresos  Variable_nueva  Varnueva2  \\\n0               1000  NaN  2.0 NaN  NaN      1000            2000        1.0   \n1               2100  2.0  4.0 NaN  1.0      2100            4200        2.0   \n2               1500  NaN  NaN NaN  5.0      1500            3000        NaN   \n3               3000  NaN  3.0 NaN  4.0      3000            6000        1.5   \n\n   Varnueva3         Var4  \n0        500  Categoria 1  \n1       1050  Categoria 2  \n2        750  Categoria 1  \n3       1500  Categoria 2  "
                    }, 
                    "output_type": "execute_result"
                }
            ], 
            "source": "#Con un condicional\nprueba=df0[\"Ingresos\"]<1600 #Condici\u00f3n almacenada como Pandas Series\n#type(prueba)#Pandas Series\ndf0.loc[prueba, \"Var4\"]=\"Categoria 1\" #En caso de cumplir\ndf0.loc[~prueba,\"Var4\"]=\"Categoria 2\" #En caso de no cumplir, se invierten valores de boolean pandas series con el signo \"~\"\ndf0\n\n#Tambi\u00e9n se puede con la siguiente funci\u00f3n, donde el primer argumento es para especificar la ubicaci\u00f3n de la nueva columna\ndf0.insert(0,'copia_de_Ingresos', df0['Ingresos']) #el primer argumento es para especificar la ubicaci\u00f3n de la nueva columna\ndf0"
        }, 
        {
            "execution_count": 17, 
            "cell_type": "code", 
            "metadata": {}, 
            "outputs": [
                {
                    "execution_count": 17, 
                    "metadata": {}, 
                    "data": {
                        "text/plain": "[1000, 2100, 1500, 3000]"
                    }, 
                    "output_type": "execute_result"
                }, 
                {
                    "execution_count": 17, 
                    "metadata": {}, 
                    "data": {
                        "text/plain": "[2, 0, 4, 0]"
                    }, 
                    "output_type": "execute_result"
                }
            ], 
            "source": "#Recuento\n\n#Se define funci\u00f3n para contar\nvalor_inicial=0 #Definir valor inicial\npaso=2 #Definir paso\n\n#Se define funci\u00f3n acumulador usando como entrada una lista\ndef acumulador(lista):\n    total=valor_inicial #valor\n    \n    for x in lista:\n        if (x <1600):\n            total+=paso\n            yield total\n        else:\n            yield valor_inicial\n        \nlista2=df0[\"Ingresos\"].values.tolist()\nlista2\nlist(acumulador(lista2))\n#list(acumulador([1,2,3,4]))"
        }, 
        {
            "source": "## 4. Muestra", 
            "cell_type": "markdown", 
            "metadata": {}
        }, 
        {
            "execution_count": 18, 
            "cell_type": "code", 
            "metadata": {}, 
            "outputs": [
                {
                    "execution_count": 18, 
                    "metadata": {}, 
                    "data": {
                        "text/html": "<div>\n<style scoped>\n    .dataframe tbody tr th:only-of-type {\n        vertical-align: middle;\n    }\n\n    .dataframe tbody tr th {\n        vertical-align: top;\n    }\n\n    .dataframe thead th {\n        text-align: right;\n    }\n</style>\n<table border=\"1\" class=\"dataframe\">\n  <thead>\n    <tr style=\"text-align: right;\">\n      <th></th>\n      <th>A</th>\n      <th>B</th>\n      <th>C</th>\n      <th>D</th>\n    </tr>\n  </thead>\n  <tbody>\n    <tr>\n      <th>3</th>\n      <td>-0.979689</td>\n      <td>-0.401245</td>\n      <td>0.384039</td>\n      <td>1.100147</td>\n    </tr>\n    <tr>\n      <th>81</th>\n      <td>-0.360399</td>\n      <td>-0.041960</td>\n      <td>-1.403892</td>\n      <td>0.531917</td>\n    </tr>\n    <tr>\n      <th>94</th>\n      <td>1.460975</td>\n      <td>0.837088</td>\n      <td>-0.203524</td>\n      <td>0.097242</td>\n    </tr>\n    <tr>\n      <th>46</th>\n      <td>-0.245814</td>\n      <td>-0.653534</td>\n      <td>-0.678005</td>\n      <td>-1.006977</td>\n    </tr>\n    <tr>\n      <th>10</th>\n      <td>2.132101</td>\n      <td>0.254168</td>\n      <td>0.079209</td>\n      <td>2.141527</td>\n    </tr>\n  </tbody>\n</table>\n</div>", 
                        "text/plain": "           A         B         C         D\n3  -0.979689 -0.401245  0.384039  1.100147\n81 -0.360399 -0.041960 -1.403892  0.531917\n94  1.460975  0.837088 -0.203524  0.097242\n46 -0.245814 -0.653534 -0.678005 -1.006977\n10  2.132101  0.254168  0.079209  2.141527"
                    }, 
                    "output_type": "execute_result"
                }, 
                {
                    "execution_count": 18, 
                    "metadata": {}, 
                    "data": {
                        "text/html": "<div>\n<style scoped>\n    .dataframe tbody tr th:only-of-type {\n        vertical-align: middle;\n    }\n\n    .dataframe tbody tr th {\n        vertical-align: top;\n    }\n\n    .dataframe thead th {\n        text-align: right;\n    }\n</style>\n<table border=\"1\" class=\"dataframe\">\n  <thead>\n    <tr style=\"text-align: right;\">\n      <th></th>\n      <th>A</th>\n      <th>B</th>\n      <th>C</th>\n      <th>D</th>\n    </tr>\n  </thead>\n  <tbody>\n    <tr>\n      <th>4</th>\n      <td>-0.284033</td>\n      <td>1.115581</td>\n      <td>0.043039</td>\n      <td>0.881393</td>\n    </tr>\n    <tr>\n      <th>46</th>\n      <td>-0.245814</td>\n      <td>-0.653534</td>\n      <td>-0.678005</td>\n      <td>-1.006977</td>\n    </tr>\n    <tr>\n      <th>29</th>\n      <td>0.195814</td>\n      <td>-1.166887</td>\n      <td>0.075661</td>\n      <td>1.926856</td>\n    </tr>\n    <tr>\n      <th>46</th>\n      <td>-0.245814</td>\n      <td>-0.653534</td>\n      <td>-0.678005</td>\n      <td>-1.006977</td>\n    </tr>\n    <tr>\n      <th>84</th>\n      <td>-1.123880</td>\n      <td>-0.960755</td>\n      <td>0.631535</td>\n      <td>-0.940292</td>\n    </tr>\n    <tr>\n      <th>78</th>\n      <td>-0.289271</td>\n      <td>-0.457588</td>\n      <td>-0.672811</td>\n      <td>-0.695561</td>\n    </tr>\n    <tr>\n      <th>63</th>\n      <td>-0.721907</td>\n      <td>-0.617200</td>\n      <td>-0.608174</td>\n      <td>-0.340344</td>\n    </tr>\n    <tr>\n      <th>58</th>\n      <td>-0.611108</td>\n      <td>-0.311843</td>\n      <td>0.935054</td>\n      <td>-0.070954</td>\n    </tr>\n    <tr>\n      <th>43</th>\n      <td>-0.755401</td>\n      <td>-0.081904</td>\n      <td>0.072763</td>\n      <td>0.683441</td>\n    </tr>\n    <tr>\n      <th>49</th>\n      <td>0.507801</td>\n      <td>-0.824944</td>\n      <td>-1.049721</td>\n      <td>1.158368</td>\n    </tr>\n  </tbody>\n</table>\n</div>", 
                        "text/plain": "           A         B         C         D\n4  -0.284033  1.115581  0.043039  0.881393\n46 -0.245814 -0.653534 -0.678005 -1.006977\n29  0.195814 -1.166887  0.075661  1.926856\n46 -0.245814 -0.653534 -0.678005 -1.006977\n84 -1.123880 -0.960755  0.631535 -0.940292\n78 -0.289271 -0.457588 -0.672811 -0.695561\n63 -0.721907 -0.617200 -0.608174 -0.340344\n58 -0.611108 -0.311843  0.935054 -0.070954\n43 -0.755401 -0.081904  0.072763  0.683441\n49  0.507801 -0.824944 -1.049721  1.158368"
                    }, 
                    "output_type": "execute_result"
                }, 
                {
                    "execution_count": 18, 
                    "metadata": {}, 
                    "data": {
                        "text/html": "<div>\n<style scoped>\n    .dataframe tbody tr th:only-of-type {\n        vertical-align: middle;\n    }\n\n    .dataframe tbody tr th {\n        vertical-align: top;\n    }\n\n    .dataframe thead th {\n        text-align: right;\n    }\n</style>\n<table border=\"1\" class=\"dataframe\">\n  <thead>\n    <tr style=\"text-align: right;\">\n      <th></th>\n      <th>A</th>\n      <th>B</th>\n      <th>C</th>\n      <th>D</th>\n    </tr>\n  </thead>\n  <tbody>\n    <tr>\n      <th>2</th>\n      <td>0.055969</td>\n      <td>-1.579678</td>\n      <td>0.240952</td>\n      <td>-0.144257</td>\n    </tr>\n    <tr>\n      <th>27</th>\n      <td>-1.955459</td>\n      <td>0.638861</td>\n      <td>1.858856</td>\n      <td>-0.813325</td>\n    </tr>\n    <tr>\n      <th>87</th>\n      <td>-1.380494</td>\n      <td>-0.084725</td>\n      <td>-1.700712</td>\n      <td>2.366907</td>\n    </tr>\n    <tr>\n      <th>77</th>\n      <td>-0.306832</td>\n      <td>-0.700624</td>\n      <td>0.228686</td>\n      <td>-0.487807</td>\n    </tr>\n    <tr>\n      <th>51</th>\n      <td>0.147307</td>\n      <td>0.502849</td>\n      <td>1.453051</td>\n      <td>0.527884</td>\n    </tr>\n  </tbody>\n</table>\n</div>", 
                        "text/plain": "           A         B         C         D\n2   0.055969 -1.579678  0.240952 -0.144257\n27 -1.955459  0.638861  1.858856 -0.813325\n87 -1.380494 -0.084725 -1.700712  2.366907\n77 -0.306832 -0.700624  0.228686 -0.487807\n51  0.147307  0.502849  1.453051  0.527884"
                    }, 
                    "output_type": "execute_result"
                }, 
                {
                    "execution_count": 18, 
                    "metadata": {}, 
                    "data": {
                        "text/html": "<div>\n<style scoped>\n    .dataframe tbody tr th:only-of-type {\n        vertical-align: middle;\n    }\n\n    .dataframe tbody tr th {\n        vertical-align: top;\n    }\n\n    .dataframe thead th {\n        text-align: right;\n    }\n</style>\n<table border=\"1\" class=\"dataframe\">\n  <thead>\n    <tr style=\"text-align: right;\">\n      <th></th>\n      <th>A</th>\n      <th>B</th>\n      <th>C</th>\n      <th>D</th>\n    </tr>\n  </thead>\n  <tbody>\n    <tr>\n      <th>34</th>\n      <td>0.102027</td>\n      <td>0.066173</td>\n      <td>0.561444</td>\n      <td>0.132480</td>\n    </tr>\n    <tr>\n      <th>2</th>\n      <td>0.055969</td>\n      <td>-1.579678</td>\n      <td>0.240952</td>\n      <td>-0.144257</td>\n    </tr>\n    <tr>\n      <th>72</th>\n      <td>1.288475</td>\n      <td>0.609272</td>\n      <td>-0.443475</td>\n      <td>-0.742915</td>\n    </tr>\n    <tr>\n      <th>37</th>\n      <td>0.311532</td>\n      <td>0.913476</td>\n      <td>0.749068</td>\n      <td>0.134326</td>\n    </tr>\n    <tr>\n      <th>86</th>\n      <td>-0.820151</td>\n      <td>0.541801</td>\n      <td>-0.397516</td>\n      <td>-0.174174</td>\n    </tr>\n  </tbody>\n</table>\n</div>", 
                        "text/plain": "           A         B         C         D\n34  0.102027  0.066173  0.561444  0.132480\n2   0.055969 -1.579678  0.240952 -0.144257\n72  1.288475  0.609272 -0.443475 -0.742915\n37  0.311532  0.913476  0.749068  0.134326\n86 -0.820151  0.541801 -0.397516 -0.174174"
                    }, 
                    "output_type": "execute_result"
                }, 
                {
                    "execution_count": 18, 
                    "metadata": {}, 
                    "data": {
                        "text/html": "<div>\n<style scoped>\n    .dataframe tbody tr th:only-of-type {\n        vertical-align: middle;\n    }\n\n    .dataframe tbody tr th {\n        vertical-align: top;\n    }\n\n    .dataframe thead th {\n        text-align: right;\n    }\n</style>\n<table border=\"1\" class=\"dataframe\">\n  <thead>\n    <tr style=\"text-align: right;\">\n      <th></th>\n      <th>D</th>\n      <th>C</th>\n    </tr>\n  </thead>\n  <tbody>\n    <tr>\n      <th>0</th>\n      <td>0.648023</td>\n      <td>1.489259</td>\n    </tr>\n    <tr>\n      <th>1</th>\n      <td>0.048788</td>\n      <td>0.395437</td>\n    </tr>\n    <tr>\n      <th>2</th>\n      <td>-0.144257</td>\n      <td>0.240952</td>\n    </tr>\n    <tr>\n      <th>3</th>\n      <td>1.100147</td>\n      <td>0.384039</td>\n    </tr>\n    <tr>\n      <th>4</th>\n      <td>0.881393</td>\n      <td>0.043039</td>\n    </tr>\n    <tr>\n      <th>5</th>\n      <td>-0.758431</td>\n      <td>-0.895052</td>\n    </tr>\n    <tr>\n      <th>6</th>\n      <td>-0.636581</td>\n      <td>0.660084</td>\n    </tr>\n    <tr>\n      <th>7</th>\n      <td>-0.395367</td>\n      <td>0.285199</td>\n    </tr>\n    <tr>\n      <th>8</th>\n      <td>0.780412</td>\n      <td>0.223272</td>\n    </tr>\n    <tr>\n      <th>9</th>\n      <td>-1.698745</td>\n      <td>-0.568131</td>\n    </tr>\n    <tr>\n      <th>10</th>\n      <td>2.141527</td>\n      <td>0.079209</td>\n    </tr>\n    <tr>\n      <th>11</th>\n      <td>-1.412809</td>\n      <td>0.798402</td>\n    </tr>\n    <tr>\n      <th>12</th>\n      <td>0.313614</td>\n      <td>0.077769</td>\n    </tr>\n    <tr>\n      <th>13</th>\n      <td>0.484531</td>\n      <td>1.063760</td>\n    </tr>\n    <tr>\n      <th>14</th>\n      <td>-0.054744</td>\n      <td>0.788453</td>\n    </tr>\n    <tr>\n      <th>15</th>\n      <td>2.819100</td>\n      <td>0.128987</td>\n    </tr>\n    <tr>\n      <th>16</th>\n      <td>-0.450024</td>\n      <td>-0.706012</td>\n    </tr>\n    <tr>\n      <th>17</th>\n      <td>-1.009143</td>\n      <td>-0.587806</td>\n    </tr>\n    <tr>\n      <th>18</th>\n      <td>0.774515</td>\n      <td>0.360717</td>\n    </tr>\n    <tr>\n      <th>19</th>\n      <td>-0.142191</td>\n      <td>-1.151786</td>\n    </tr>\n    <tr>\n      <th>20</th>\n      <td>-0.513114</td>\n      <td>0.876786</td>\n    </tr>\n    <tr>\n      <th>21</th>\n      <td>-1.355634</td>\n      <td>0.804325</td>\n    </tr>\n    <tr>\n      <th>22</th>\n      <td>-0.807533</td>\n      <td>-0.632549</td>\n    </tr>\n    <tr>\n      <th>23</th>\n      <td>0.311910</td>\n      <td>-0.954202</td>\n    </tr>\n    <tr>\n      <th>24</th>\n      <td>-0.276206</td>\n      <td>0.597994</td>\n    </tr>\n    <tr>\n      <th>25</th>\n      <td>0.845116</td>\n      <td>1.546611</td>\n    </tr>\n    <tr>\n      <th>26</th>\n      <td>0.842322</td>\n      <td>-0.205039</td>\n    </tr>\n    <tr>\n      <th>27</th>\n      <td>-0.813325</td>\n      <td>1.858856</td>\n    </tr>\n    <tr>\n      <th>28</th>\n      <td>1.070477</td>\n      <td>1.208916</td>\n    </tr>\n    <tr>\n      <th>29</th>\n      <td>1.926856</td>\n      <td>0.075661</td>\n    </tr>\n    <tr>\n      <th>...</th>\n      <td>...</td>\n      <td>...</td>\n    </tr>\n    <tr>\n      <th>70</th>\n      <td>-0.169875</td>\n      <td>-1.373162</td>\n    </tr>\n    <tr>\n      <th>71</th>\n      <td>1.674352</td>\n      <td>-0.179405</td>\n    </tr>\n    <tr>\n      <th>72</th>\n      <td>-0.742915</td>\n      <td>-0.443475</td>\n    </tr>\n    <tr>\n      <th>73</th>\n      <td>-0.188620</td>\n      <td>0.135399</td>\n    </tr>\n    <tr>\n      <th>74</th>\n      <td>-0.736800</td>\n      <td>1.142164</td>\n    </tr>\n    <tr>\n      <th>75</th>\n      <td>1.416570</td>\n      <td>-0.903681</td>\n    </tr>\n    <tr>\n      <th>76</th>\n      <td>-1.689858</td>\n      <td>-0.823162</td>\n    </tr>\n    <tr>\n      <th>77</th>\n      <td>-0.487807</td>\n      <td>0.228686</td>\n    </tr>\n    <tr>\n      <th>78</th>\n      <td>-0.695561</td>\n      <td>-0.672811</td>\n    </tr>\n    <tr>\n      <th>79</th>\n      <td>-0.584523</td>\n      <td>-0.083464</td>\n    </tr>\n    <tr>\n      <th>80</th>\n      <td>1.127083</td>\n      <td>-0.281946</td>\n    </tr>\n    <tr>\n      <th>81</th>\n      <td>0.531917</td>\n      <td>-1.403892</td>\n    </tr>\n    <tr>\n      <th>82</th>\n      <td>0.273946</td>\n      <td>-0.393641</td>\n    </tr>\n    <tr>\n      <th>83</th>\n      <td>0.865709</td>\n      <td>-0.882519</td>\n    </tr>\n    <tr>\n      <th>84</th>\n      <td>-0.940292</td>\n      <td>0.631535</td>\n    </tr>\n    <tr>\n      <th>85</th>\n      <td>-1.547190</td>\n      <td>0.581131</td>\n    </tr>\n    <tr>\n      <th>86</th>\n      <td>-0.174174</td>\n      <td>-0.397516</td>\n    </tr>\n    <tr>\n      <th>87</th>\n      <td>2.366907</td>\n      <td>-1.700712</td>\n    </tr>\n    <tr>\n      <th>88</th>\n      <td>-0.542706</td>\n      <td>-0.573407</td>\n    </tr>\n    <tr>\n      <th>89</th>\n      <td>0.546963</td>\n      <td>-0.104610</td>\n    </tr>\n    <tr>\n      <th>90</th>\n      <td>-0.685382</td>\n      <td>0.812602</td>\n    </tr>\n    <tr>\n      <th>91</th>\n      <td>0.503730</td>\n      <td>0.047751</td>\n    </tr>\n    <tr>\n      <th>92</th>\n      <td>-1.902619</td>\n      <td>1.015693</td>\n    </tr>\n    <tr>\n      <th>93</th>\n      <td>1.225933</td>\n      <td>0.077003</td>\n    </tr>\n    <tr>\n      <th>94</th>\n      <td>0.097242</td>\n      <td>-0.203524</td>\n    </tr>\n    <tr>\n      <th>95</th>\n      <td>-0.901604</td>\n      <td>-0.429746</td>\n    </tr>\n    <tr>\n      <th>96</th>\n      <td>-0.417224</td>\n      <td>-1.878524</td>\n    </tr>\n    <tr>\n      <th>97</th>\n      <td>0.477566</td>\n      <td>0.904087</td>\n    </tr>\n    <tr>\n      <th>98</th>\n      <td>0.289052</td>\n      <td>0.549112</td>\n    </tr>\n    <tr>\n      <th>99</th>\n      <td>-0.492248</td>\n      <td>-0.536980</td>\n    </tr>\n  </tbody>\n</table>\n<p>100 rows \u00d7 2 columns</p>\n</div>", 
                        "text/plain": "           D         C\n0   0.648023  1.489259\n1   0.048788  0.395437\n2  -0.144257  0.240952\n3   1.100147  0.384039\n4   0.881393  0.043039\n5  -0.758431 -0.895052\n6  -0.636581  0.660084\n7  -0.395367  0.285199\n8   0.780412  0.223272\n9  -1.698745 -0.568131\n10  2.141527  0.079209\n11 -1.412809  0.798402\n12  0.313614  0.077769\n13  0.484531  1.063760\n14 -0.054744  0.788453\n15  2.819100  0.128987\n16 -0.450024 -0.706012\n17 -1.009143 -0.587806\n18  0.774515  0.360717\n19 -0.142191 -1.151786\n20 -0.513114  0.876786\n21 -1.355634  0.804325\n22 -0.807533 -0.632549\n23  0.311910 -0.954202\n24 -0.276206  0.597994\n25  0.845116  1.546611\n26  0.842322 -0.205039\n27 -0.813325  1.858856\n28  1.070477  1.208916\n29  1.926856  0.075661\n..       ...       ...\n70 -0.169875 -1.373162\n71  1.674352 -0.179405\n72 -0.742915 -0.443475\n73 -0.188620  0.135399\n74 -0.736800  1.142164\n75  1.416570 -0.903681\n76 -1.689858 -0.823162\n77 -0.487807  0.228686\n78 -0.695561 -0.672811\n79 -0.584523 -0.083464\n80  1.127083 -0.281946\n81  0.531917 -1.403892\n82  0.273946 -0.393641\n83  0.865709 -0.882519\n84 -0.940292  0.631535\n85 -1.547190  0.581131\n86 -0.174174 -0.397516\n87  2.366907 -1.700712\n88 -0.542706 -0.573407\n89  0.546963 -0.104610\n90 -0.685382  0.812602\n91  0.503730  0.047751\n92 -1.902619  1.015693\n93  1.225933  0.077003\n94  0.097242 -0.203524\n95 -0.901604 -0.429746\n96 -0.417224 -1.878524\n97  0.477566  0.904087\n98  0.289052  0.549112\n99 -0.492248 -0.536980\n\n[100 rows x 2 columns]"
                    }, 
                    "output_type": "execute_result"
                }, 
                {
                    "execution_count": 18, 
                    "metadata": {}, 
                    "data": {
                        "text/html": "<div>\n<style scoped>\n    .dataframe tbody tr th:only-of-type {\n        vertical-align: middle;\n    }\n\n    .dataframe tbody tr th {\n        vertical-align: top;\n    }\n\n    .dataframe thead th {\n        text-align: right;\n    }\n</style>\n<table border=\"1\" class=\"dataframe\">\n  <thead>\n    <tr style=\"text-align: right;\">\n      <th></th>\n      <th>A</th>\n      <th>B</th>\n      <th>C</th>\n      <th>D</th>\n    </tr>\n  </thead>\n  <tbody>\n    <tr>\n      <th>52</th>\n      <td>-1.143786</td>\n      <td>1.277108</td>\n      <td>-1.574606</td>\n      <td>-0.014848</td>\n    </tr>\n    <tr>\n      <th>67</th>\n      <td>0.375080</td>\n      <td>-0.024636</td>\n      <td>-1.022003</td>\n      <td>0.760330</td>\n    </tr>\n    <tr>\n      <th>98</th>\n      <td>0.604749</td>\n      <td>-1.040649</td>\n      <td>0.549112</td>\n      <td>0.289052</td>\n    </tr>\n    <tr>\n      <th>84</th>\n      <td>-1.123880</td>\n      <td>-0.960755</td>\n      <td>0.631535</td>\n      <td>-0.940292</td>\n    </tr>\n    <tr>\n      <th>24</th>\n      <td>-0.865857</td>\n      <td>-1.993732</td>\n      <td>0.597994</td>\n      <td>-0.276206</td>\n    </tr>\n    <tr>\n      <th>94</th>\n      <td>1.460975</td>\n      <td>0.837088</td>\n      <td>-0.203524</td>\n      <td>0.097242</td>\n    </tr>\n    <tr>\n      <th>36</th>\n      <td>-1.387369</td>\n      <td>0.216926</td>\n      <td>-0.441867</td>\n      <td>-0.329722</td>\n    </tr>\n    <tr>\n      <th>61</th>\n      <td>-0.303865</td>\n      <td>-0.545799</td>\n      <td>0.721028</td>\n      <td>1.082903</td>\n    </tr>\n    <tr>\n      <th>14</th>\n      <td>-2.412816</td>\n      <td>0.568203</td>\n      <td>0.788453</td>\n      <td>-0.054744</td>\n    </tr>\n    <tr>\n      <th>72</th>\n      <td>1.288475</td>\n      <td>0.609272</td>\n      <td>-0.443475</td>\n      <td>-0.742915</td>\n    </tr>\n  </tbody>\n</table>\n</div>", 
                        "text/plain": "           A         B         C         D\n52 -1.143786  1.277108 -1.574606 -0.014848\n67  0.375080 -0.024636 -1.022003  0.760330\n98  0.604749 -1.040649  0.549112  0.289052\n84 -1.123880 -0.960755  0.631535 -0.940292\n24 -0.865857 -1.993732  0.597994 -0.276206\n94  1.460975  0.837088 -0.203524  0.097242\n36 -1.387369  0.216926 -0.441867 -0.329722\n61 -0.303865 -0.545799  0.721028  1.082903\n14 -2.412816  0.568203  0.788453 -0.054744\n72  1.288475  0.609272 -0.443475 -0.742915"
                    }, 
                    "output_type": "execute_result"
                }
            ], 
            "source": "df1 =  pd.DataFrame(np.random.randn(100, 4), columns=list('ABCD')) #dataframe con 4 columnas y 100 registros aleatorios con distribuci\u00f3n normal\npesos = pd.Series(range(1,101)) #Serie empezando en 1 y terminando en 100\n#pesos\n#DataFrame.sample(n=None, frac=None, replace=False, weights=None, random_state=None, axis=None)\n# https://pandas.pydata.org/pandas-docs/stable/generated/pandas.DataFrame.sample.html\n\ndf1.sample(5)# 5 aleatorios\ndf1.sample(n=10,replace=True)# 10 registros con posibilidad de reemplazamiento\ndf1.sample(frac=0.05)#5% de los registros. De no coincidir exactamente se aproximar\u00e1 al valor m\u00e1s cercano\ndf1.sample(5, random_state=200)# Semilla igual a 200 para hacer muestra pseudoaleatoria y garantizar replicaci\u00f3n\ndf1.sample(n=2,axis=1)# Para tomar dos columnas aleatorias\ndf1.sample(n=10, weights=pesos, replace=True)#D\u00e1ndole pesos, notar entre m\u00e1s grande el \u00edndice mayor la probabilidad en este caso\n"
        }, 
        {
            "execution_count": 19, 
            "cell_type": "code", 
            "metadata": {}, 
            "outputs": [
                {
                    "execution_count": 19, 
                    "metadata": {}, 
                    "data": {
                        "text/html": "<div>\n<style scoped>\n    .dataframe tbody tr th:only-of-type {\n        vertical-align: middle;\n    }\n\n    .dataframe tbody tr th {\n        vertical-align: top;\n    }\n\n    .dataframe thead th {\n        text-align: right;\n    }\n</style>\n<table border=\"1\" class=\"dataframe\">\n  <thead>\n    <tr style=\"text-align: right;\">\n      <th></th>\n      <th>A</th>\n      <th>B</th>\n      <th>C</th>\n      <th>D</th>\n    </tr>\n  </thead>\n  <tbody>\n    <tr>\n      <th>0</th>\n      <td>-1.605878</td>\n      <td>-0.308693</td>\n      <td>1.489259</td>\n      <td>0.648023</td>\n    </tr>\n    <tr>\n      <th>1</th>\n      <td>0.127310</td>\n      <td>1.253033</td>\n      <td>0.395437</td>\n      <td>0.048788</td>\n    </tr>\n    <tr>\n      <th>2</th>\n      <td>0.055969</td>\n      <td>-1.579678</td>\n      <td>0.240952</td>\n      <td>-0.144257</td>\n    </tr>\n    <tr>\n      <th>3</th>\n      <td>-0.979689</td>\n      <td>-0.401245</td>\n      <td>0.384039</td>\n      <td>1.100147</td>\n    </tr>\n    <tr>\n      <th>4</th>\n      <td>-0.284033</td>\n      <td>1.115581</td>\n      <td>0.043039</td>\n      <td>0.881393</td>\n    </tr>\n  </tbody>\n</table>\n</div>", 
                        "text/plain": "          A         B         C         D\n0 -1.605878 -0.308693  1.489259  0.648023\n1  0.127310  1.253033  0.395437  0.048788\n2  0.055969 -1.579678  0.240952 -0.144257\n3 -0.979689 -0.401245  0.384039  1.100147\n4 -0.284033  1.115581  0.043039  0.881393"
                    }, 
                    "output_type": "execute_result"
                }, 
                {
                    "execution_count": 19, 
                    "metadata": {}, 
                    "data": {
                        "text/html": "<div>\n<style scoped>\n    .dataframe tbody tr th:only-of-type {\n        vertical-align: middle;\n    }\n\n    .dataframe tbody tr th {\n        vertical-align: top;\n    }\n\n    .dataframe thead th {\n        text-align: right;\n    }\n</style>\n<table border=\"1\" class=\"dataframe\">\n  <thead>\n    <tr style=\"text-align: right;\">\n      <th></th>\n      <th>A</th>\n      <th>B</th>\n      <th>C</th>\n      <th>D</th>\n    </tr>\n  </thead>\n  <tbody>\n    <tr>\n      <th>0</th>\n      <td>-1.605878</td>\n      <td>-0.308693</td>\n      <td>1.489259</td>\n      <td>0.648023</td>\n    </tr>\n    <tr>\n      <th>5</th>\n      <td>0.326295</td>\n      <td>-0.789287</td>\n      <td>-0.895052</td>\n      <td>-0.758431</td>\n    </tr>\n    <tr>\n      <th>10</th>\n      <td>2.132101</td>\n      <td>0.254168</td>\n      <td>0.079209</td>\n      <td>2.141527</td>\n    </tr>\n    <tr>\n      <th>15</th>\n      <td>-0.263352</td>\n      <td>-0.643587</td>\n      <td>0.128987</td>\n      <td>2.819100</td>\n    </tr>\n    <tr>\n      <th>20</th>\n      <td>1.667128</td>\n      <td>-0.816894</td>\n      <td>0.876786</td>\n      <td>-0.513114</td>\n    </tr>\n    <tr>\n      <th>25</th>\n      <td>2.283286</td>\n      <td>0.621918</td>\n      <td>1.546611</td>\n      <td>0.845116</td>\n    </tr>\n    <tr>\n      <th>30</th>\n      <td>-0.227174</td>\n      <td>-0.392056</td>\n      <td>1.692662</td>\n      <td>0.668766</td>\n    </tr>\n    <tr>\n      <th>35</th>\n      <td>-1.585287</td>\n      <td>0.336675</td>\n      <td>1.017687</td>\n      <td>-0.400518</td>\n    </tr>\n    <tr>\n      <th>40</th>\n      <td>0.146597</td>\n      <td>0.698030</td>\n      <td>-0.102819</td>\n      <td>-0.412526</td>\n    </tr>\n    <tr>\n      <th>45</th>\n      <td>1.512241</td>\n      <td>0.075762</td>\n      <td>0.468267</td>\n      <td>-0.306745</td>\n    </tr>\n    <tr>\n      <th>50</th>\n      <td>-0.715827</td>\n      <td>0.643756</td>\n      <td>0.929229</td>\n      <td>-0.910056</td>\n    </tr>\n    <tr>\n      <th>55</th>\n      <td>-1.715667</td>\n      <td>2.087216</td>\n      <td>-0.361029</td>\n      <td>-0.829719</td>\n    </tr>\n    <tr>\n      <th>60</th>\n      <td>0.407454</td>\n      <td>-1.946548</td>\n      <td>0.252324</td>\n      <td>1.109254</td>\n    </tr>\n    <tr>\n      <th>65</th>\n      <td>-0.532224</td>\n      <td>1.996273</td>\n      <td>1.193366</td>\n      <td>0.463770</td>\n    </tr>\n    <tr>\n      <th>70</th>\n      <td>0.808744</td>\n      <td>-0.612829</td>\n      <td>-1.373162</td>\n      <td>-0.169875</td>\n    </tr>\n    <tr>\n      <th>75</th>\n      <td>-0.568391</td>\n      <td>1.420362</td>\n      <td>-0.903681</td>\n      <td>1.416570</td>\n    </tr>\n    <tr>\n      <th>80</th>\n      <td>-0.634643</td>\n      <td>-0.033255</td>\n      <td>-0.281946</td>\n      <td>1.127083</td>\n    </tr>\n    <tr>\n      <th>85</th>\n      <td>-0.367356</td>\n      <td>0.334255</td>\n      <td>0.581131</td>\n      <td>-1.547190</td>\n    </tr>\n    <tr>\n      <th>90</th>\n      <td>0.222857</td>\n      <td>-0.819378</td>\n      <td>0.812602</td>\n      <td>-0.685382</td>\n    </tr>\n    <tr>\n      <th>95</th>\n      <td>0.365438</td>\n      <td>-0.399441</td>\n      <td>-0.429746</td>\n      <td>-0.901604</td>\n    </tr>\n  </tbody>\n</table>\n</div>", 
                        "text/plain": "           A         B         C         D\n0  -1.605878 -0.308693  1.489259  0.648023\n5   0.326295 -0.789287 -0.895052 -0.758431\n10  2.132101  0.254168  0.079209  2.141527\n15 -0.263352 -0.643587  0.128987  2.819100\n20  1.667128 -0.816894  0.876786 -0.513114\n25  2.283286  0.621918  1.546611  0.845116\n30 -0.227174 -0.392056  1.692662  0.668766\n35 -1.585287  0.336675  1.017687 -0.400518\n40  0.146597  0.698030 -0.102819 -0.412526\n45  1.512241  0.075762  0.468267 -0.306745\n50 -0.715827  0.643756  0.929229 -0.910056\n55 -1.715667  2.087216 -0.361029 -0.829719\n60  0.407454 -1.946548  0.252324  1.109254\n65 -0.532224  1.996273  1.193366  0.463770\n70  0.808744 -0.612829 -1.373162 -0.169875\n75 -0.568391  1.420362 -0.903681  1.416570\n80 -0.634643 -0.033255 -0.281946  1.127083\n85 -0.367356  0.334255  0.581131 -1.547190\n90  0.222857 -0.819378  0.812602 -0.685382\n95  0.365438 -0.399441 -0.429746 -0.901604"
                    }, 
                    "output_type": "execute_result"
                }, 
                {
                    "execution_count": 19, 
                    "metadata": {}, 
                    "data": {
                        "text/html": "<div>\n<style scoped>\n    .dataframe tbody tr th:only-of-type {\n        vertical-align: middle;\n    }\n\n    .dataframe tbody tr th {\n        vertical-align: top;\n    }\n\n    .dataframe thead th {\n        text-align: right;\n    }\n</style>\n<table border=\"1\" class=\"dataframe\">\n  <thead>\n    <tr style=\"text-align: right;\">\n      <th></th>\n      <th>A</th>\n      <th>B</th>\n      <th>C</th>\n      <th>D</th>\n    </tr>\n  </thead>\n  <tbody>\n    <tr>\n      <th>0</th>\n      <td>-1.605878</td>\n      <td>-0.308693</td>\n      <td>1.489259</td>\n      <td>0.648023</td>\n    </tr>\n    <tr>\n      <th>5</th>\n      <td>0.326295</td>\n      <td>-0.789287</td>\n      <td>-0.895052</td>\n      <td>-0.758431</td>\n    </tr>\n    <tr>\n      <th>10</th>\n      <td>2.132101</td>\n      <td>0.254168</td>\n      <td>0.079209</td>\n      <td>2.141527</td>\n    </tr>\n    <tr>\n      <th>15</th>\n      <td>-0.263352</td>\n      <td>-0.643587</td>\n      <td>0.128987</td>\n      <td>2.819100</td>\n    </tr>\n    <tr>\n      <th>20</th>\n      <td>1.667128</td>\n      <td>-0.816894</td>\n      <td>0.876786</td>\n      <td>-0.513114</td>\n    </tr>\n    <tr>\n      <th>25</th>\n      <td>2.283286</td>\n      <td>0.621918</td>\n      <td>1.546611</td>\n      <td>0.845116</td>\n    </tr>\n    <tr>\n      <th>30</th>\n      <td>-0.227174</td>\n      <td>-0.392056</td>\n      <td>1.692662</td>\n      <td>0.668766</td>\n    </tr>\n    <tr>\n      <th>35</th>\n      <td>-1.585287</td>\n      <td>0.336675</td>\n      <td>1.017687</td>\n      <td>-0.400518</td>\n    </tr>\n    <tr>\n      <th>40</th>\n      <td>0.146597</td>\n      <td>0.698030</td>\n      <td>-0.102819</td>\n      <td>-0.412526</td>\n    </tr>\n    <tr>\n      <th>45</th>\n      <td>1.512241</td>\n      <td>0.075762</td>\n      <td>0.468267</td>\n      <td>-0.306745</td>\n    </tr>\n    <tr>\n      <th>50</th>\n      <td>-0.715827</td>\n      <td>0.643756</td>\n      <td>0.929229</td>\n      <td>-0.910056</td>\n    </tr>\n    <tr>\n      <th>55</th>\n      <td>-1.715667</td>\n      <td>2.087216</td>\n      <td>-0.361029</td>\n      <td>-0.829719</td>\n    </tr>\n    <tr>\n      <th>60</th>\n      <td>0.407454</td>\n      <td>-1.946548</td>\n      <td>0.252324</td>\n      <td>1.109254</td>\n    </tr>\n    <tr>\n      <th>65</th>\n      <td>-0.532224</td>\n      <td>1.996273</td>\n      <td>1.193366</td>\n      <td>0.463770</td>\n    </tr>\n    <tr>\n      <th>70</th>\n      <td>0.808744</td>\n      <td>-0.612829</td>\n      <td>-1.373162</td>\n      <td>-0.169875</td>\n    </tr>\n    <tr>\n      <th>75</th>\n      <td>-0.568391</td>\n      <td>1.420362</td>\n      <td>-0.903681</td>\n      <td>1.416570</td>\n    </tr>\n    <tr>\n      <th>80</th>\n      <td>-0.634643</td>\n      <td>-0.033255</td>\n      <td>-0.281946</td>\n      <td>1.127083</td>\n    </tr>\n    <tr>\n      <th>85</th>\n      <td>-0.367356</td>\n      <td>0.334255</td>\n      <td>0.581131</td>\n      <td>-1.547190</td>\n    </tr>\n    <tr>\n      <th>90</th>\n      <td>0.222857</td>\n      <td>-0.819378</td>\n      <td>0.812602</td>\n      <td>-0.685382</td>\n    </tr>\n    <tr>\n      <th>95</th>\n      <td>0.365438</td>\n      <td>-0.399441</td>\n      <td>-0.429746</td>\n      <td>-0.901604</td>\n    </tr>\n  </tbody>\n</table>\n</div>", 
                        "text/plain": "           A         B         C         D\n0  -1.605878 -0.308693  1.489259  0.648023\n5   0.326295 -0.789287 -0.895052 -0.758431\n10  2.132101  0.254168  0.079209  2.141527\n15 -0.263352 -0.643587  0.128987  2.819100\n20  1.667128 -0.816894  0.876786 -0.513114\n25  2.283286  0.621918  1.546611  0.845116\n30 -0.227174 -0.392056  1.692662  0.668766\n35 -1.585287  0.336675  1.017687 -0.400518\n40  0.146597  0.698030 -0.102819 -0.412526\n45  1.512241  0.075762  0.468267 -0.306745\n50 -0.715827  0.643756  0.929229 -0.910056\n55 -1.715667  2.087216 -0.361029 -0.829719\n60  0.407454 -1.946548  0.252324  1.109254\n65 -0.532224  1.996273  1.193366  0.463770\n70  0.808744 -0.612829 -1.373162 -0.169875\n75 -0.568391  1.420362 -0.903681  1.416570\n80 -0.634643 -0.033255 -0.281946  1.127083\n85 -0.367356  0.334255  0.581131 -1.547190\n90  0.222857 -0.819378  0.812602 -0.685382\n95  0.365438 -0.399441 -0.429746 -0.901604"
                    }, 
                    "output_type": "execute_result"
                }, 
                {
                    "execution_count": 19, 
                    "metadata": {}, 
                    "data": {
                        "text/html": "<div>\n<style scoped>\n    .dataframe tbody tr th:only-of-type {\n        vertical-align: middle;\n    }\n\n    .dataframe tbody tr th {\n        vertical-align: top;\n    }\n\n    .dataframe thead th {\n        text-align: right;\n    }\n</style>\n<table border=\"1\" class=\"dataframe\">\n  <thead>\n    <tr style=\"text-align: right;\">\n      <th></th>\n      <th>A</th>\n      <th>B</th>\n      <th>C</th>\n      <th>D</th>\n    </tr>\n  </thead>\n  <tbody>\n    <tr>\n      <th>1</th>\n      <td>0.127310</td>\n      <td>1.253033</td>\n      <td>0.395437</td>\n      <td>0.048788</td>\n    </tr>\n    <tr>\n      <th>2</th>\n      <td>0.055969</td>\n      <td>-1.579678</td>\n      <td>0.240952</td>\n      <td>-0.144257</td>\n    </tr>\n    <tr>\n      <th>3</th>\n      <td>-0.979689</td>\n      <td>-0.401245</td>\n      <td>0.384039</td>\n      <td>1.100147</td>\n    </tr>\n    <tr>\n      <th>4</th>\n      <td>-0.284033</td>\n      <td>1.115581</td>\n      <td>0.043039</td>\n      <td>0.881393</td>\n    </tr>\n    <tr>\n      <th>6</th>\n      <td>-0.517947</td>\n      <td>-0.546250</td>\n      <td>0.660084</td>\n      <td>-0.636581</td>\n    </tr>\n    <tr>\n      <th>7</th>\n      <td>-2.755493</td>\n      <td>-0.675249</td>\n      <td>0.285199</td>\n      <td>-0.395367</td>\n    </tr>\n    <tr>\n      <th>8</th>\n      <td>0.068657</td>\n      <td>-1.589982</td>\n      <td>0.223272</td>\n      <td>0.780412</td>\n    </tr>\n    <tr>\n      <th>9</th>\n      <td>-1.101715</td>\n      <td>-0.385126</td>\n      <td>-0.568131</td>\n      <td>-1.698745</td>\n    </tr>\n    <tr>\n      <th>11</th>\n      <td>-1.175627</td>\n      <td>0.718741</td>\n      <td>0.798402</td>\n      <td>-1.412809</td>\n    </tr>\n    <tr>\n      <th>12</th>\n      <td>-0.815450</td>\n      <td>-0.336959</td>\n      <td>0.077769</td>\n      <td>0.313614</td>\n    </tr>\n    <tr>\n      <th>13</th>\n      <td>0.253312</td>\n      <td>-0.498412</td>\n      <td>1.063760</td>\n      <td>0.484531</td>\n    </tr>\n    <tr>\n      <th>14</th>\n      <td>-2.412816</td>\n      <td>0.568203</td>\n      <td>0.788453</td>\n      <td>-0.054744</td>\n    </tr>\n    <tr>\n      <th>16</th>\n      <td>1.359310</td>\n      <td>0.378142</td>\n      <td>-0.706012</td>\n      <td>-0.450024</td>\n    </tr>\n    <tr>\n      <th>17</th>\n      <td>-1.002286</td>\n      <td>0.254658</td>\n      <td>-0.587806</td>\n      <td>-1.009143</td>\n    </tr>\n    <tr>\n      <th>18</th>\n      <td>0.404961</td>\n      <td>1.562185</td>\n      <td>0.360717</td>\n      <td>0.774515</td>\n    </tr>\n    <tr>\n      <th>19</th>\n      <td>-1.740454</td>\n      <td>0.742075</td>\n      <td>-1.151786</td>\n      <td>-0.142191</td>\n    </tr>\n    <tr>\n      <th>21</th>\n      <td>0.351619</td>\n      <td>-0.835987</td>\n      <td>0.804325</td>\n      <td>-1.355634</td>\n    </tr>\n    <tr>\n      <th>22</th>\n      <td>1.161508</td>\n      <td>-1.099341</td>\n      <td>-0.632549</td>\n      <td>-0.807533</td>\n    </tr>\n    <tr>\n      <th>23</th>\n      <td>-1.221176</td>\n      <td>-1.334553</td>\n      <td>-0.954202</td>\n      <td>0.311910</td>\n    </tr>\n    <tr>\n      <th>24</th>\n      <td>-0.865857</td>\n      <td>-1.993732</td>\n      <td>0.597994</td>\n      <td>-0.276206</td>\n    </tr>\n    <tr>\n      <th>26</th>\n      <td>0.838034</td>\n      <td>-0.110971</td>\n      <td>-0.205039</td>\n      <td>0.842322</td>\n    </tr>\n    <tr>\n      <th>27</th>\n      <td>-1.955459</td>\n      <td>0.638861</td>\n      <td>1.858856</td>\n      <td>-0.813325</td>\n    </tr>\n    <tr>\n      <th>28</th>\n      <td>-0.873813</td>\n      <td>1.736340</td>\n      <td>1.208916</td>\n      <td>1.070477</td>\n    </tr>\n    <tr>\n      <th>29</th>\n      <td>0.195814</td>\n      <td>-1.166887</td>\n      <td>0.075661</td>\n      <td>1.926856</td>\n    </tr>\n    <tr>\n      <th>31</th>\n      <td>1.635296</td>\n      <td>-1.367605</td>\n      <td>1.684811</td>\n      <td>-1.128734</td>\n    </tr>\n    <tr>\n      <th>32</th>\n      <td>1.164956</td>\n      <td>-0.636362</td>\n      <td>0.849301</td>\n      <td>0.868564</td>\n    </tr>\n    <tr>\n      <th>33</th>\n      <td>-0.304857</td>\n      <td>-0.812428</td>\n      <td>0.358984</td>\n      <td>0.804204</td>\n    </tr>\n    <tr>\n      <th>34</th>\n      <td>0.102027</td>\n      <td>0.066173</td>\n      <td>0.561444</td>\n      <td>0.132480</td>\n    </tr>\n    <tr>\n      <th>36</th>\n      <td>-1.387369</td>\n      <td>0.216926</td>\n      <td>-0.441867</td>\n      <td>-0.329722</td>\n    </tr>\n    <tr>\n      <th>37</th>\n      <td>0.311532</td>\n      <td>0.913476</td>\n      <td>0.749068</td>\n      <td>0.134326</td>\n    </tr>\n    <tr>\n      <th>...</th>\n      <td>...</td>\n      <td>...</td>\n      <td>...</td>\n      <td>...</td>\n    </tr>\n    <tr>\n      <th>63</th>\n      <td>-0.721907</td>\n      <td>-0.617200</td>\n      <td>-0.608174</td>\n      <td>-0.340344</td>\n    </tr>\n    <tr>\n      <th>64</th>\n      <td>-0.715828</td>\n      <td>-0.353532</td>\n      <td>-0.107312</td>\n      <td>0.833493</td>\n    </tr>\n    <tr>\n      <th>66</th>\n      <td>-1.150299</td>\n      <td>0.846795</td>\n      <td>0.133829</td>\n      <td>-0.311836</td>\n    </tr>\n    <tr>\n      <th>67</th>\n      <td>0.375080</td>\n      <td>-0.024636</td>\n      <td>-1.022003</td>\n      <td>0.760330</td>\n    </tr>\n    <tr>\n      <th>68</th>\n      <td>-0.675480</td>\n      <td>1.306041</td>\n      <td>-0.760395</td>\n      <td>-0.258639</td>\n    </tr>\n    <tr>\n      <th>69</th>\n      <td>0.324163</td>\n      <td>0.006016</td>\n      <td>2.634983</td>\n      <td>1.470186</td>\n    </tr>\n    <tr>\n      <th>71</th>\n      <td>-0.143055</td>\n      <td>2.247025</td>\n      <td>-0.179405</td>\n      <td>1.674352</td>\n    </tr>\n    <tr>\n      <th>72</th>\n      <td>1.288475</td>\n      <td>0.609272</td>\n      <td>-0.443475</td>\n      <td>-0.742915</td>\n    </tr>\n    <tr>\n      <th>73</th>\n      <td>0.896468</td>\n      <td>0.727205</td>\n      <td>0.135399</td>\n      <td>-0.188620</td>\n    </tr>\n    <tr>\n      <th>74</th>\n      <td>-0.775033</td>\n      <td>-0.628606</td>\n      <td>1.142164</td>\n      <td>-0.736800</td>\n    </tr>\n    <tr>\n      <th>76</th>\n      <td>-1.851981</td>\n      <td>-1.866856</td>\n      <td>-0.823162</td>\n      <td>-1.689858</td>\n    </tr>\n    <tr>\n      <th>77</th>\n      <td>-0.306832</td>\n      <td>-0.700624</td>\n      <td>0.228686</td>\n      <td>-0.487807</td>\n    </tr>\n    <tr>\n      <th>78</th>\n      <td>-0.289271</td>\n      <td>-0.457588</td>\n      <td>-0.672811</td>\n      <td>-0.695561</td>\n    </tr>\n    <tr>\n      <th>79</th>\n      <td>0.781004</td>\n      <td>0.798985</td>\n      <td>-0.083464</td>\n      <td>-0.584523</td>\n    </tr>\n    <tr>\n      <th>81</th>\n      <td>-0.360399</td>\n      <td>-0.041960</td>\n      <td>-1.403892</td>\n      <td>0.531917</td>\n    </tr>\n    <tr>\n      <th>82</th>\n      <td>-1.053868</td>\n      <td>-1.281061</td>\n      <td>-0.393641</td>\n      <td>0.273946</td>\n    </tr>\n    <tr>\n      <th>83</th>\n      <td>-0.639755</td>\n      <td>-1.664843</td>\n      <td>-0.882519</td>\n      <td>0.865709</td>\n    </tr>\n    <tr>\n      <th>84</th>\n      <td>-1.123880</td>\n      <td>-0.960755</td>\n      <td>0.631535</td>\n      <td>-0.940292</td>\n    </tr>\n    <tr>\n      <th>86</th>\n      <td>-0.820151</td>\n      <td>0.541801</td>\n      <td>-0.397516</td>\n      <td>-0.174174</td>\n    </tr>\n    <tr>\n      <th>87</th>\n      <td>-1.380494</td>\n      <td>-0.084725</td>\n      <td>-1.700712</td>\n      <td>2.366907</td>\n    </tr>\n    <tr>\n      <th>88</th>\n      <td>1.022480</td>\n      <td>0.290512</td>\n      <td>-0.573407</td>\n      <td>-0.542706</td>\n    </tr>\n    <tr>\n      <th>89</th>\n      <td>1.157037</td>\n      <td>-1.919218</td>\n      <td>-0.104610</td>\n      <td>0.546963</td>\n    </tr>\n    <tr>\n      <th>91</th>\n      <td>0.460514</td>\n      <td>-1.244324</td>\n      <td>0.047751</td>\n      <td>0.503730</td>\n    </tr>\n    <tr>\n      <th>92</th>\n      <td>0.906427</td>\n      <td>1.087807</td>\n      <td>1.015693</td>\n      <td>-1.902619</td>\n    </tr>\n    <tr>\n      <th>93</th>\n      <td>-0.000086</td>\n      <td>-1.625863</td>\n      <td>0.077003</td>\n      <td>1.225933</td>\n    </tr>\n    <tr>\n      <th>94</th>\n      <td>1.460975</td>\n      <td>0.837088</td>\n      <td>-0.203524</td>\n      <td>0.097242</td>\n    </tr>\n    <tr>\n      <th>96</th>\n      <td>0.886416</td>\n      <td>-0.122412</td>\n      <td>-1.878524</td>\n      <td>-0.417224</td>\n    </tr>\n    <tr>\n      <th>97</th>\n      <td>0.856855</td>\n      <td>1.318905</td>\n      <td>0.904087</td>\n      <td>0.477566</td>\n    </tr>\n    <tr>\n      <th>98</th>\n      <td>0.604749</td>\n      <td>-1.040649</td>\n      <td>0.549112</td>\n      <td>0.289052</td>\n    </tr>\n    <tr>\n      <th>99</th>\n      <td>1.380309</td>\n      <td>-0.806758</td>\n      <td>-0.536980</td>\n      <td>-0.492248</td>\n    </tr>\n  </tbody>\n</table>\n<p>80 rows \u00d7 4 columns</p>\n</div>", 
                        "text/plain": "           A         B         C         D\n1   0.127310  1.253033  0.395437  0.048788\n2   0.055969 -1.579678  0.240952 -0.144257\n3  -0.979689 -0.401245  0.384039  1.100147\n4  -0.284033  1.115581  0.043039  0.881393\n6  -0.517947 -0.546250  0.660084 -0.636581\n7  -2.755493 -0.675249  0.285199 -0.395367\n8   0.068657 -1.589982  0.223272  0.780412\n9  -1.101715 -0.385126 -0.568131 -1.698745\n11 -1.175627  0.718741  0.798402 -1.412809\n12 -0.815450 -0.336959  0.077769  0.313614\n13  0.253312 -0.498412  1.063760  0.484531\n14 -2.412816  0.568203  0.788453 -0.054744\n16  1.359310  0.378142 -0.706012 -0.450024\n17 -1.002286  0.254658 -0.587806 -1.009143\n18  0.404961  1.562185  0.360717  0.774515\n19 -1.740454  0.742075 -1.151786 -0.142191\n21  0.351619 -0.835987  0.804325 -1.355634\n22  1.161508 -1.099341 -0.632549 -0.807533\n23 -1.221176 -1.334553 -0.954202  0.311910\n24 -0.865857 -1.993732  0.597994 -0.276206\n26  0.838034 -0.110971 -0.205039  0.842322\n27 -1.955459  0.638861  1.858856 -0.813325\n28 -0.873813  1.736340  1.208916  1.070477\n29  0.195814 -1.166887  0.075661  1.926856\n31  1.635296 -1.367605  1.684811 -1.128734\n32  1.164956 -0.636362  0.849301  0.868564\n33 -0.304857 -0.812428  0.358984  0.804204\n34  0.102027  0.066173  0.561444  0.132480\n36 -1.387369  0.216926 -0.441867 -0.329722\n37  0.311532  0.913476  0.749068  0.134326\n..       ...       ...       ...       ...\n63 -0.721907 -0.617200 -0.608174 -0.340344\n64 -0.715828 -0.353532 -0.107312  0.833493\n66 -1.150299  0.846795  0.133829 -0.311836\n67  0.375080 -0.024636 -1.022003  0.760330\n68 -0.675480  1.306041 -0.760395 -0.258639\n69  0.324163  0.006016  2.634983  1.470186\n71 -0.143055  2.247025 -0.179405  1.674352\n72  1.288475  0.609272 -0.443475 -0.742915\n73  0.896468  0.727205  0.135399 -0.188620\n74 -0.775033 -0.628606  1.142164 -0.736800\n76 -1.851981 -1.866856 -0.823162 -1.689858\n77 -0.306832 -0.700624  0.228686 -0.487807\n78 -0.289271 -0.457588 -0.672811 -0.695561\n79  0.781004  0.798985 -0.083464 -0.584523\n81 -0.360399 -0.041960 -1.403892  0.531917\n82 -1.053868 -1.281061 -0.393641  0.273946\n83 -0.639755 -1.664843 -0.882519  0.865709\n84 -1.123880 -0.960755  0.631535 -0.940292\n86 -0.820151  0.541801 -0.397516 -0.174174\n87 -1.380494 -0.084725 -1.700712  2.366907\n88  1.022480  0.290512 -0.573407 -0.542706\n89  1.157037 -1.919218 -0.104610  0.546963\n91  0.460514 -1.244324  0.047751  0.503730\n92  0.906427  1.087807  1.015693 -1.902619\n93 -0.000086 -1.625863  0.077003  1.225933\n94  1.460975  0.837088 -0.203524  0.097242\n96  0.886416 -0.122412 -1.878524 -0.417224\n97  0.856855  1.318905  0.904087  0.477566\n98  0.604749 -1.040649  0.549112  0.289052\n99  1.380309 -0.806758 -0.536980 -0.492248\n\n[80 rows x 4 columns]"
                    }, 
                    "output_type": "execute_result"
                }
            ], 
            "source": "#Muestra de las primeras n filas\nn=5\ndf1.head(n)\ndf1.iloc[0::5,:]#la primera y cada uno con \u00edndice que es m\u00faltiplo de 5\ndf1[df1.index % 5==0] #Igual al caso anterior, si el residuo de la divisi\u00f3n es 0\ndf1[df1.index % 5!=0] #Sacando el primero y m\u00faltiplos de 5. Caso contrario al anterior"
        }, 
        {
            "source": "## 5. Ordenar", 
            "cell_type": "markdown", 
            "metadata": {}
        }, 
        {
            "execution_count": 20, 
            "cell_type": "code", 
            "metadata": {}, 
            "outputs": [
                {
                    "execution_count": 20, 
                    "metadata": {}, 
                    "data": {
                        "text/html": "<div>\n<style scoped>\n    .dataframe tbody tr th:only-of-type {\n        vertical-align: middle;\n    }\n\n    .dataframe tbody tr th {\n        vertical-align: top;\n    }\n\n    .dataframe thead th {\n        text-align: right;\n    }\n</style>\n<table border=\"1\" class=\"dataframe\">\n  <thead>\n    <tr style=\"text-align: right;\">\n      <th></th>\n      <th>A</th>\n      <th>B</th>\n      <th>C</th>\n      <th>D</th>\n    </tr>\n  </thead>\n  <tbody>\n    <tr>\n      <th>16</th>\n      <td>3.0</td>\n      <td>9.0</td>\n      <td>8.0</td>\n      <td>1.0</td>\n    </tr>\n    <tr>\n      <th>6</th>\n      <td>8.0</td>\n      <td>8.0</td>\n      <td>7.0</td>\n      <td>8.0</td>\n    </tr>\n    <tr>\n      <th>12</th>\n      <td>6.0</td>\n      <td>8.0</td>\n      <td>5.0</td>\n      <td>9.0</td>\n    </tr>\n    <tr>\n      <th>19</th>\n      <td>6.0</td>\n      <td>7.0</td>\n      <td>6.0</td>\n      <td>2.0</td>\n    </tr>\n    <tr>\n      <th>15</th>\n      <td>8.0</td>\n      <td>6.0</td>\n      <td>7.0</td>\n      <td>7.0</td>\n    </tr>\n    <tr>\n      <th>13</th>\n      <td>8.0</td>\n      <td>6.0</td>\n      <td>2.0</td>\n      <td>8.0</td>\n    </tr>\n    <tr>\n      <th>10</th>\n      <td>0.0</td>\n      <td>4.0</td>\n      <td>5.0</td>\n      <td>4.0</td>\n    </tr>\n    <tr>\n      <th>9</th>\n      <td>7.0</td>\n      <td>3.0</td>\n      <td>4.0</td>\n      <td>8.0</td>\n    </tr>\n    <tr>\n      <th>17</th>\n      <td>4.0</td>\n      <td>2.0</td>\n      <td>7.0</td>\n      <td>1.0</td>\n    </tr>\n    <tr>\n      <th>7</th>\n      <td>9.0</td>\n      <td>1.0</td>\n      <td>7.0</td>\n      <td>9.0</td>\n    </tr>\n    <tr>\n      <th>8</th>\n      <td>4.0</td>\n      <td>1.0</td>\n      <td>5.0</td>\n      <td>7.0</td>\n    </tr>\n    <tr>\n      <th>11</th>\n      <td>1.0</td>\n      <td>1.0</td>\n      <td>4.0</td>\n      <td>6.0</td>\n    </tr>\n    <tr>\n      <th>14</th>\n      <td>2.0</td>\n      <td>0.0</td>\n      <td>7.0</td>\n      <td>1.0</td>\n    </tr>\n    <tr>\n      <th>18</th>\n      <td>9.0</td>\n      <td>0.0</td>\n      <td>6.0</td>\n      <td>3.0</td>\n    </tr>\n    <tr>\n      <th>0</th>\n      <td>NaN</td>\n      <td>NaN</td>\n      <td>NaN</td>\n      <td>NaN</td>\n    </tr>\n    <tr>\n      <th>1</th>\n      <td>NaN</td>\n      <td>NaN</td>\n      <td>NaN</td>\n      <td>NaN</td>\n    </tr>\n    <tr>\n      <th>2</th>\n      <td>NaN</td>\n      <td>NaN</td>\n      <td>NaN</td>\n      <td>NaN</td>\n    </tr>\n    <tr>\n      <th>3</th>\n      <td>NaN</td>\n      <td>NaN</td>\n      <td>NaN</td>\n      <td>NaN</td>\n    </tr>\n    <tr>\n      <th>4</th>\n      <td>NaN</td>\n      <td>NaN</td>\n      <td>NaN</td>\n      <td>NaN</td>\n    </tr>\n    <tr>\n      <th>5</th>\n      <td>NaN</td>\n      <td>NaN</td>\n      <td>NaN</td>\n      <td>NaN</td>\n    </tr>\n  </tbody>\n</table>\n</div>", 
                        "text/plain": "      A    B    C    D\n16  3.0  9.0  8.0  1.0\n6   8.0  8.0  7.0  8.0\n12  6.0  8.0  5.0  9.0\n19  6.0  7.0  6.0  2.0\n15  8.0  6.0  7.0  7.0\n13  8.0  6.0  2.0  8.0\n10  0.0  4.0  5.0  4.0\n9   7.0  3.0  4.0  8.0\n17  4.0  2.0  7.0  1.0\n7   9.0  1.0  7.0  9.0\n8   4.0  1.0  5.0  7.0\n11  1.0  1.0  4.0  6.0\n14  2.0  0.0  7.0  1.0\n18  9.0  0.0  6.0  3.0\n0   NaN  NaN  NaN  NaN\n1   NaN  NaN  NaN  NaN\n2   NaN  NaN  NaN  NaN\n3   NaN  NaN  NaN  NaN\n4   NaN  NaN  NaN  NaN\n5   NaN  NaN  NaN  NaN"
                    }, 
                    "output_type": "execute_result"
                }, 
                {
                    "execution_count": 20, 
                    "metadata": {}, 
                    "data": {
                        "text/html": "<div>\n<style scoped>\n    .dataframe tbody tr th:only-of-type {\n        vertical-align: middle;\n    }\n\n    .dataframe tbody tr th {\n        vertical-align: top;\n    }\n\n    .dataframe thead th {\n        text-align: right;\n    }\n</style>\n<table border=\"1\" class=\"dataframe\">\n  <thead>\n    <tr style=\"text-align: right;\">\n      <th></th>\n      <th>A</th>\n      <th>B</th>\n      <th>C</th>\n      <th>D</th>\n    </tr>\n  </thead>\n  <tbody>\n    <tr>\n      <th>0</th>\n      <td>3.0</td>\n      <td>9.0</td>\n      <td>8.0</td>\n      <td>1.0</td>\n    </tr>\n    <tr>\n      <th>1</th>\n      <td>8.0</td>\n      <td>8.0</td>\n      <td>7.0</td>\n      <td>8.0</td>\n    </tr>\n    <tr>\n      <th>2</th>\n      <td>6.0</td>\n      <td>8.0</td>\n      <td>5.0</td>\n      <td>9.0</td>\n    </tr>\n    <tr>\n      <th>3</th>\n      <td>6.0</td>\n      <td>7.0</td>\n      <td>6.0</td>\n      <td>2.0</td>\n    </tr>\n    <tr>\n      <th>4</th>\n      <td>8.0</td>\n      <td>6.0</td>\n      <td>7.0</td>\n      <td>7.0</td>\n    </tr>\n    <tr>\n      <th>5</th>\n      <td>8.0</td>\n      <td>6.0</td>\n      <td>2.0</td>\n      <td>8.0</td>\n    </tr>\n    <tr>\n      <th>6</th>\n      <td>0.0</td>\n      <td>4.0</td>\n      <td>5.0</td>\n      <td>4.0</td>\n    </tr>\n    <tr>\n      <th>7</th>\n      <td>7.0</td>\n      <td>3.0</td>\n      <td>4.0</td>\n      <td>8.0</td>\n    </tr>\n    <tr>\n      <th>8</th>\n      <td>4.0</td>\n      <td>2.0</td>\n      <td>7.0</td>\n      <td>1.0</td>\n    </tr>\n    <tr>\n      <th>9</th>\n      <td>9.0</td>\n      <td>1.0</td>\n      <td>7.0</td>\n      <td>9.0</td>\n    </tr>\n    <tr>\n      <th>10</th>\n      <td>4.0</td>\n      <td>1.0</td>\n      <td>5.0</td>\n      <td>7.0</td>\n    </tr>\n    <tr>\n      <th>11</th>\n      <td>1.0</td>\n      <td>1.0</td>\n      <td>4.0</td>\n      <td>6.0</td>\n    </tr>\n    <tr>\n      <th>12</th>\n      <td>2.0</td>\n      <td>0.0</td>\n      <td>7.0</td>\n      <td>1.0</td>\n    </tr>\n    <tr>\n      <th>13</th>\n      <td>9.0</td>\n      <td>0.0</td>\n      <td>6.0</td>\n      <td>3.0</td>\n    </tr>\n    <tr>\n      <th>14</th>\n      <td>NaN</td>\n      <td>NaN</td>\n      <td>NaN</td>\n      <td>NaN</td>\n    </tr>\n    <tr>\n      <th>15</th>\n      <td>NaN</td>\n      <td>NaN</td>\n      <td>NaN</td>\n      <td>NaN</td>\n    </tr>\n    <tr>\n      <th>16</th>\n      <td>NaN</td>\n      <td>NaN</td>\n      <td>NaN</td>\n      <td>NaN</td>\n    </tr>\n    <tr>\n      <th>17</th>\n      <td>NaN</td>\n      <td>NaN</td>\n      <td>NaN</td>\n      <td>NaN</td>\n    </tr>\n    <tr>\n      <th>18</th>\n      <td>NaN</td>\n      <td>NaN</td>\n      <td>NaN</td>\n      <td>NaN</td>\n    </tr>\n    <tr>\n      <th>19</th>\n      <td>NaN</td>\n      <td>NaN</td>\n      <td>NaN</td>\n      <td>NaN</td>\n    </tr>\n  </tbody>\n</table>\n</div>", 
                        "text/plain": "      A    B    C    D\n0   3.0  9.0  8.0  1.0\n1   8.0  8.0  7.0  8.0\n2   6.0  8.0  5.0  9.0\n3   6.0  7.0  6.0  2.0\n4   8.0  6.0  7.0  7.0\n5   8.0  6.0  2.0  8.0\n6   0.0  4.0  5.0  4.0\n7   7.0  3.0  4.0  8.0\n8   4.0  2.0  7.0  1.0\n9   9.0  1.0  7.0  9.0\n10  4.0  1.0  5.0  7.0\n11  1.0  1.0  4.0  6.0\n12  2.0  0.0  7.0  1.0\n13  9.0  0.0  6.0  3.0\n14  NaN  NaN  NaN  NaN\n15  NaN  NaN  NaN  NaN\n16  NaN  NaN  NaN  NaN\n17  NaN  NaN  NaN  NaN\n18  NaN  NaN  NaN  NaN\n19  NaN  NaN  NaN  NaN"
                    }, 
                    "output_type": "execute_result"
                }
            ], 
            "source": "# http://pandas.pydata.org/pandas-docs/version/0.19/generated/pandas.DataFrame.sort_values.html#pandas.DataFrame.sort_values\n# DataFrame.sort_values(by, axis=0, ascending=True, inplace=False, kind='quicksort', na_position='last')\n\n#Se crea dataframe para ejemplo\ndf1 = pd.DataFrame(np.random.randint(0,10,size=(20, 4)), columns=list('ABCD'))\ndf1.loc[df1.index<6]=np.nan #Se le asigna valores nulos a las primeras 6 filas, con \u00edndice menor a 6\n\n#Se organizan seg\u00fan B y luego seg\u00fan C\ndf1.sort_values(by=[\"B\",\"C\"], ascending=False, inplace=True) #ordenando primero por columna B, y en caso de tener el mismo valor, seg\u00fan columna C. Notar NaN por defecto al final\n#Con inplace= True como par\u00e1metro, se puede hacer que se reemplace la df original\ndf1\n\n#Y si queremos actualizar los indices\ndf1 = df1.reset_index(drop=True)\ndf1\n"
        }, 
        {
            "source": "## 6. Equilibrar", 
            "cell_type": "markdown", 
            "metadata": {}
        }, 
        {
            "execution_count": 21, 
            "cell_type": "code", 
            "metadata": {}, 
            "outputs": [
                {
                    "execution_count": 21, 
                    "metadata": {}, 
                    "data": {
                        "text/plain": "Categoria2    13\nCategoria1     7\nName: A, dtype: int64"
                    }, 
                    "output_type": "execute_result"
                }, 
                {
                    "output_type": "stream", 
                    "name": "stdout", 
                    "text": "La muestra a obtener para la menor categor\u00eda es:6\n"
                }, 
                {
                    "execution_count": 21, 
                    "metadata": {}, 
                    "data": {
                        "text/plain": "'Categoria2'"
                    }, 
                    "output_type": "execute_result"
                }, 
                {
                    "output_type": "stream", 
                    "name": "stdout", 
                    "text": "UPSAMPLING\n"
                }, 
                {
                    "execution_count": 21, 
                    "metadata": {}, 
                    "data": {
                        "text/html": "<div>\n<style scoped>\n    .dataframe tbody tr th:only-of-type {\n        vertical-align: middle;\n    }\n\n    .dataframe tbody tr th {\n        vertical-align: top;\n    }\n\n    .dataframe thead th {\n        text-align: right;\n    }\n</style>\n<table border=\"1\" class=\"dataframe\">\n  <thead>\n    <tr style=\"text-align: right;\">\n      <th></th>\n      <th>A</th>\n      <th>B</th>\n      <th>C</th>\n      <th>D</th>\n    </tr>\n  </thead>\n  <tbody>\n    <tr>\n      <th>6</th>\n      <td>Categoria1</td>\n      <td>4</td>\n      <td>6</td>\n      <td>9</td>\n    </tr>\n    <tr>\n      <th>8</th>\n      <td>Categoria1</td>\n      <td>9</td>\n      <td>7</td>\n      <td>2</td>\n    </tr>\n    <tr>\n      <th>10</th>\n      <td>Categoria1</td>\n      <td>3</td>\n      <td>7</td>\n      <td>5</td>\n    </tr>\n    <tr>\n      <th>5</th>\n      <td>Categoria1</td>\n      <td>1</td>\n      <td>9</td>\n      <td>0</td>\n    </tr>\n    <tr>\n      <th>6</th>\n      <td>Categoria1</td>\n      <td>4</td>\n      <td>6</td>\n      <td>9</td>\n    </tr>\n    <tr>\n      <th>6</th>\n      <td>Categoria1</td>\n      <td>4</td>\n      <td>6</td>\n      <td>9</td>\n    </tr>\n  </tbody>\n</table>\n</div>", 
                        "text/plain": "             A  B  C  D\n6   Categoria1  4  6  9\n8   Categoria1  9  7  2\n10  Categoria1  3  7  5\n5   Categoria1  1  9  0\n6   Categoria1  4  6  9\n6   Categoria1  4  6  9"
                    }, 
                    "output_type": "execute_result"
                }, 
                {
                    "execution_count": 21, 
                    "metadata": {}, 
                    "data": {
                        "text/html": "<div>\n<style scoped>\n    .dataframe tbody tr th:only-of-type {\n        vertical-align: middle;\n    }\n\n    .dataframe tbody tr th {\n        vertical-align: top;\n    }\n\n    .dataframe thead th {\n        text-align: right;\n    }\n</style>\n<table border=\"1\" class=\"dataframe\">\n  <thead>\n    <tr style=\"text-align: right;\">\n      <th></th>\n      <th>A</th>\n      <th>B</th>\n      <th>C</th>\n      <th>D</th>\n    </tr>\n  </thead>\n  <tbody>\n    <tr>\n      <th>0</th>\n      <td>Categoria2</td>\n      <td>6</td>\n      <td>4</td>\n      <td>0</td>\n    </tr>\n    <tr>\n      <th>1</th>\n      <td>Categoria2</td>\n      <td>2</td>\n      <td>8</td>\n      <td>2</td>\n    </tr>\n    <tr>\n      <th>2</th>\n      <td>Categoria2</td>\n      <td>6</td>\n      <td>5</td>\n      <td>4</td>\n    </tr>\n    <tr>\n      <th>3</th>\n      <td>Categoria1</td>\n      <td>3</td>\n      <td>4</td>\n      <td>6</td>\n    </tr>\n    <tr>\n      <th>4</th>\n      <td>Categoria2</td>\n      <td>6</td>\n      <td>3</td>\n      <td>0</td>\n    </tr>\n    <tr>\n      <th>5</th>\n      <td>Categoria1</td>\n      <td>1</td>\n      <td>9</td>\n      <td>0</td>\n    </tr>\n    <tr>\n      <th>6</th>\n      <td>Categoria1</td>\n      <td>4</td>\n      <td>6</td>\n      <td>9</td>\n    </tr>\n    <tr>\n      <th>7</th>\n      <td>Categoria2</td>\n      <td>7</td>\n      <td>5</td>\n      <td>8</td>\n    </tr>\n    <tr>\n      <th>8</th>\n      <td>Categoria1</td>\n      <td>9</td>\n      <td>7</td>\n      <td>2</td>\n    </tr>\n    <tr>\n      <th>9</th>\n      <td>Categoria2</td>\n      <td>1</td>\n      <td>0</td>\n      <td>2</td>\n    </tr>\n    <tr>\n      <th>10</th>\n      <td>Categoria1</td>\n      <td>3</td>\n      <td>7</td>\n      <td>5</td>\n    </tr>\n    <tr>\n      <th>11</th>\n      <td>Categoria2</td>\n      <td>1</td>\n      <td>7</td>\n      <td>8</td>\n    </tr>\n    <tr>\n      <th>12</th>\n      <td>Categoria2</td>\n      <td>9</td>\n      <td>2</td>\n      <td>4</td>\n    </tr>\n    <tr>\n      <th>13</th>\n      <td>Categoria1</td>\n      <td>2</td>\n      <td>4</td>\n      <td>7</td>\n    </tr>\n    <tr>\n      <th>14</th>\n      <td>Categoria2</td>\n      <td>5</td>\n      <td>8</td>\n      <td>2</td>\n    </tr>\n    <tr>\n      <th>15</th>\n      <td>Categoria2</td>\n      <td>0</td>\n      <td>0</td>\n      <td>2</td>\n    </tr>\n    <tr>\n      <th>16</th>\n      <td>Categoria2</td>\n      <td>3</td>\n      <td>9</td>\n      <td>0</td>\n    </tr>\n    <tr>\n      <th>17</th>\n      <td>Categoria2</td>\n      <td>7</td>\n      <td>9</td>\n      <td>1</td>\n    </tr>\n    <tr>\n      <th>18</th>\n      <td>Categoria2</td>\n      <td>9</td>\n      <td>5</td>\n      <td>3</td>\n    </tr>\n    <tr>\n      <th>19</th>\n      <td>Categoria1</td>\n      <td>9</td>\n      <td>1</td>\n      <td>8</td>\n    </tr>\n    <tr>\n      <th>6</th>\n      <td>Categoria1</td>\n      <td>4</td>\n      <td>6</td>\n      <td>9</td>\n    </tr>\n    <tr>\n      <th>8</th>\n      <td>Categoria1</td>\n      <td>9</td>\n      <td>7</td>\n      <td>2</td>\n    </tr>\n    <tr>\n      <th>10</th>\n      <td>Categoria1</td>\n      <td>3</td>\n      <td>7</td>\n      <td>5</td>\n    </tr>\n    <tr>\n      <th>5</th>\n      <td>Categoria1</td>\n      <td>1</td>\n      <td>9</td>\n      <td>0</td>\n    </tr>\n    <tr>\n      <th>6</th>\n      <td>Categoria1</td>\n      <td>4</td>\n      <td>6</td>\n      <td>9</td>\n    </tr>\n    <tr>\n      <th>6</th>\n      <td>Categoria1</td>\n      <td>4</td>\n      <td>6</td>\n      <td>9</td>\n    </tr>\n  </tbody>\n</table>\n</div>", 
                        "text/plain": "             A  B  C  D\n0   Categoria2  6  4  0\n1   Categoria2  2  8  2\n2   Categoria2  6  5  4\n3   Categoria1  3  4  6\n4   Categoria2  6  3  0\n5   Categoria1  1  9  0\n6   Categoria1  4  6  9\n7   Categoria2  7  5  8\n8   Categoria1  9  7  2\n9   Categoria2  1  0  2\n10  Categoria1  3  7  5\n11  Categoria2  1  7  8\n12  Categoria2  9  2  4\n13  Categoria1  2  4  7\n14  Categoria2  5  8  2\n15  Categoria2  0  0  2\n16  Categoria2  3  9  0\n17  Categoria2  7  9  1\n18  Categoria2  9  5  3\n19  Categoria1  9  1  8\n6   Categoria1  4  6  9\n8   Categoria1  9  7  2\n10  Categoria1  3  7  5\n5   Categoria1  1  9  0\n6   Categoria1  4  6  9\n6   Categoria1  4  6  9"
                    }, 
                    "output_type": "execute_result"
                }, 
                {
                    "output_type": "stream", 
                    "name": "stdout", 
                    "text": "DOWNSAMPLING\n"
                }, 
                {
                    "execution_count": 21, 
                    "metadata": {}, 
                    "data": {
                        "text/html": "<div>\n<style scoped>\n    .dataframe tbody tr th:only-of-type {\n        vertical-align: middle;\n    }\n\n    .dataframe tbody tr th {\n        vertical-align: top;\n    }\n\n    .dataframe thead th {\n        text-align: right;\n    }\n</style>\n<table border=\"1\" class=\"dataframe\">\n  <thead>\n    <tr style=\"text-align: right;\">\n      <th></th>\n      <th>A</th>\n      <th>B</th>\n      <th>C</th>\n      <th>D</th>\n    </tr>\n  </thead>\n  <tbody>\n    <tr>\n      <th>9</th>\n      <td>Categoria2</td>\n      <td>1</td>\n      <td>0</td>\n      <td>2</td>\n    </tr>\n    <tr>\n      <th>18</th>\n      <td>Categoria2</td>\n      <td>9</td>\n      <td>5</td>\n      <td>3</td>\n    </tr>\n    <tr>\n      <th>0</th>\n      <td>Categoria2</td>\n      <td>6</td>\n      <td>4</td>\n      <td>0</td>\n    </tr>\n    <tr>\n      <th>11</th>\n      <td>Categoria2</td>\n      <td>1</td>\n      <td>7</td>\n      <td>8</td>\n    </tr>\n    <tr>\n      <th>17</th>\n      <td>Categoria2</td>\n      <td>7</td>\n      <td>9</td>\n      <td>1</td>\n    </tr>\n    <tr>\n      <th>15</th>\n      <td>Categoria2</td>\n      <td>0</td>\n      <td>0</td>\n      <td>2</td>\n    </tr>\n    <tr>\n      <th>14</th>\n      <td>Categoria2</td>\n      <td>5</td>\n      <td>8</td>\n      <td>2</td>\n    </tr>\n  </tbody>\n</table>\n</div>", 
                        "text/plain": "             A  B  C  D\n9   Categoria2  1  0  2\n18  Categoria2  9  5  3\n0   Categoria2  6  4  0\n11  Categoria2  1  7  8\n17  Categoria2  7  9  1\n15  Categoria2  0  0  2\n14  Categoria2  5  8  2"
                    }, 
                    "output_type": "execute_result"
                }, 
                {
                    "execution_count": 21, 
                    "metadata": {}, 
                    "data": {
                        "text/html": "<div>\n<style scoped>\n    .dataframe tbody tr th:only-of-type {\n        vertical-align: middle;\n    }\n\n    .dataframe tbody tr th {\n        vertical-align: top;\n    }\n\n    .dataframe thead th {\n        text-align: right;\n    }\n</style>\n<table border=\"1\" class=\"dataframe\">\n  <thead>\n    <tr style=\"text-align: right;\">\n      <th></th>\n      <th>A</th>\n      <th>B</th>\n      <th>C</th>\n      <th>D</th>\n    </tr>\n  </thead>\n  <tbody>\n    <tr>\n      <th>3</th>\n      <td>Categoria1</td>\n      <td>3</td>\n      <td>4</td>\n      <td>6</td>\n    </tr>\n    <tr>\n      <th>5</th>\n      <td>Categoria1</td>\n      <td>1</td>\n      <td>9</td>\n      <td>0</td>\n    </tr>\n    <tr>\n      <th>6</th>\n      <td>Categoria1</td>\n      <td>4</td>\n      <td>6</td>\n      <td>9</td>\n    </tr>\n    <tr>\n      <th>8</th>\n      <td>Categoria1</td>\n      <td>9</td>\n      <td>7</td>\n      <td>2</td>\n    </tr>\n    <tr>\n      <th>10</th>\n      <td>Categoria1</td>\n      <td>3</td>\n      <td>7</td>\n      <td>5</td>\n    </tr>\n    <tr>\n      <th>13</th>\n      <td>Categoria1</td>\n      <td>2</td>\n      <td>4</td>\n      <td>7</td>\n    </tr>\n    <tr>\n      <th>19</th>\n      <td>Categoria1</td>\n      <td>9</td>\n      <td>1</td>\n      <td>8</td>\n    </tr>\n    <tr>\n      <th>9</th>\n      <td>Categoria2</td>\n      <td>1</td>\n      <td>0</td>\n      <td>2</td>\n    </tr>\n    <tr>\n      <th>18</th>\n      <td>Categoria2</td>\n      <td>9</td>\n      <td>5</td>\n      <td>3</td>\n    </tr>\n    <tr>\n      <th>0</th>\n      <td>Categoria2</td>\n      <td>6</td>\n      <td>4</td>\n      <td>0</td>\n    </tr>\n    <tr>\n      <th>11</th>\n      <td>Categoria2</td>\n      <td>1</td>\n      <td>7</td>\n      <td>8</td>\n    </tr>\n    <tr>\n      <th>17</th>\n      <td>Categoria2</td>\n      <td>7</td>\n      <td>9</td>\n      <td>1</td>\n    </tr>\n    <tr>\n      <th>15</th>\n      <td>Categoria2</td>\n      <td>0</td>\n      <td>0</td>\n      <td>2</td>\n    </tr>\n    <tr>\n      <th>14</th>\n      <td>Categoria2</td>\n      <td>5</td>\n      <td>8</td>\n      <td>2</td>\n    </tr>\n  </tbody>\n</table>\n</div>", 
                        "text/plain": "             A  B  C  D\n3   Categoria1  3  4  6\n5   Categoria1  1  9  0\n6   Categoria1  4  6  9\n8   Categoria1  9  7  2\n10  Categoria1  3  7  5\n13  Categoria1  2  4  7\n19  Categoria1  9  1  8\n9   Categoria2  1  0  2\n18  Categoria2  9  5  3\n0   Categoria2  6  4  0\n11  Categoria2  1  7  8\n17  Categoria2  7  9  1\n15  Categoria2  0  0  2\n14  Categoria2  5  8  2"
                    }, 
                    "output_type": "execute_result"
                }
            ], 
            "source": "import random\nrandom.seed(123)#Semilla para replicar resultados\n\n#Creaci\u00f3n dataframe\ndf1 = pd.DataFrame(np.random.randint(0,10,size=(20, 4)), columns=list('ABCD'))\ndiferenciador=df1[\"A\"]<3\ndf1.loc[diferenciador, [\"A\"]]=\"Categoria1\"\ndf1.loc[~diferenciador, [\"A\"]]=\"Categoria2\" #Caso opuesto a diferenciador\n#df1 #Ver la dataframe original\n\n#Ver registros por categor\u00eda\n##df1.groupby(\"A\").count() #Ver cuantos registros hay por cada categor\u00eda\nconteo=df1[\"A\"].value_counts()\nconteo\n\n#Obtener factor entre el mayor y el menor\ndef vermayor (a,b):\n    if (a>b):\n        Muestra=a-b\n    elif (b>a):\n        Muestra=b-a\n    else:\n        Muestra = \"Balanceados\"\n    return Muestra\nmuestra1 = vermayor(conteo[0],conteo[1])\nprint(\"La muestra a obtener para la menor categor\u00eda es:\" + str(muestra1))\n\n#Filtrar casos a remuestrear (categor\u00eda menor)\nif (conteo[0]>conteo[1]):\n    indice=1\nelif (conteo[1]>conteo[0]):\n    indice=0\nelse:\n    indice= \"no requiere\"\n\nconteo.index[0]    \ndf_a_muestrear_upsampling = df1.loc[df1[\"A\"]==conteo.index[indice]]\ndf_a_muestrear_downsampling = df1.loc[df1[\"A\"]==conteo.index[abs(1-indice)]]\n\n#df_a_muestrear_upsampling\n#df_a_muestrear_downsampling\n\n#Cargar libreria\nfrom sklearn.utils import resample\nfrom imblearn.over_sampling import RandomOverSampler \n\n\n#UPSAMPLING\nprint(\"UPSAMPLING\")\n#http://scikit-learn.org/stable/modules/generated/sklearn.utils.resample.html\nnuevamuestra = resample(df_a_muestrear_upsampling, n_samples=muestra1)\nnuevamuestra\n#Agregar valores a la df anterior y nombrarla df3\ndf3 = df1.append(nuevamuestra)\ndf3\n\n#DOWNSAMPLING\nprint(\"DOWNSAMPLING\")\nnuevamuestradown = resample(df_a_muestrear_downsampling, n_samples=conteo[abs(1-indice)]-muestra1, replace= False)#Valores a escoger, los dem\u00e1s ser\u00e1n eliminados\nnuevamuestradown\n\n#Crear nuevadataframe balanceada\ndf4 = df_a_muestrear_upsampling.append(nuevamuestradown)\ndf4\n"
        }, 
        {
            "execution_count": 22, 
            "cell_type": "code", 
            "metadata": {}, 
            "outputs": [], 
            "source": "#PENDIENTE PROBAR\n#http://contrib.scikit-learn.org/imbalanced-learn/stable/auto_examples/over-sampling/plot_random_over_sampling.html\n#http://contrib.scikit-learn.org/imbalanced-learn/stable/over_sampling.html\nfrom sklearn.utils import resample\nfrom imblearn.over_sampling import RandomOverSampler \n#ros1 = RandomOverSampler()\n#X = df1.loc[:, df1.columns!=\"A\"]\n#Y = np.ravel(df1[\"A\"])\n"
        }, 
        {
            "execution_count": 23, 
            "cell_type": "code", 
            "metadata": {}, 
            "outputs": [], 
            "source": "#SMOTE\n#!pip install imblearn\n#from sklearn.datasets import make_classification\n#from imblearn.over_sampling import SMOTE"
        }, 
        {
            "source": "## 7. Distinguir", 
            "cell_type": "markdown", 
            "metadata": {}
        }, 
        {
            "execution_count": 73, 
            "cell_type": "code", 
            "metadata": {}, 
            "outputs": [
                {
                    "execution_count": 73, 
                    "metadata": {}, 
                    "data": {
                        "text/html": "<div>\n<style scoped>\n    .dataframe tbody tr th:only-of-type {\n        vertical-align: middle;\n    }\n\n    .dataframe tbody tr th {\n        vertical-align: top;\n    }\n\n    .dataframe thead th {\n        text-align: right;\n    }\n</style>\n<table border=\"1\" class=\"dataframe\">\n  <thead>\n    <tr style=\"text-align: right;\">\n      <th></th>\n      <th>A</th>\n      <th>B</th>\n      <th>C</th>\n      <th>D</th>\n      <th>E</th>\n      <th>F</th>\n      <th>G</th>\n      <th>H</th>\n    </tr>\n  </thead>\n  <tbody>\n    <tr>\n      <th>0</th>\n      <td>1</td>\n      <td>2</td>\n      <td>2</td>\n      <td>1</td>\n      <td>2</td>\n      <td>0</td>\n      <td>0</td>\n      <td>2</td>\n    </tr>\n    <tr>\n      <th>1</th>\n      <td>1</td>\n      <td>0</td>\n      <td>2</td>\n      <td>1</td>\n      <td>2</td>\n      <td>0</td>\n      <td>2</td>\n      <td>1</td>\n    </tr>\n    <tr>\n      <th>2</th>\n      <td>0</td>\n      <td>0</td>\n      <td>0</td>\n      <td>0</td>\n      <td>2</td>\n      <td>0</td>\n      <td>1</td>\n      <td>2</td>\n    </tr>\n    <tr>\n      <th>3</th>\n      <td>1</td>\n      <td>0</td>\n      <td>1</td>\n      <td>2</td>\n      <td>1</td>\n      <td>0</td>\n      <td>2</td>\n      <td>2</td>\n    </tr>\n    <tr>\n      <th>4</th>\n      <td>0</td>\n      <td>2</td>\n      <td>1</td>\n      <td>2</td>\n      <td>1</td>\n      <td>2</td>\n      <td>1</td>\n      <td>1</td>\n    </tr>\n    <tr>\n      <th>5</th>\n      <td>1</td>\n      <td>0</td>\n      <td>2</td>\n      <td>2</td>\n      <td>2</td>\n      <td>1</td>\n      <td>1</td>\n      <td>1</td>\n    </tr>\n    <tr>\n      <th>6</th>\n      <td>0</td>\n      <td>0</td>\n      <td>1</td>\n      <td>1</td>\n      <td>2</td>\n      <td>0</td>\n      <td>0</td>\n      <td>2</td>\n    </tr>\n    <tr>\n      <th>7</th>\n      <td>2</td>\n      <td>1</td>\n      <td>2</td>\n      <td>1</td>\n      <td>1</td>\n      <td>2</td>\n      <td>2</td>\n      <td>0</td>\n    </tr>\n    <tr>\n      <th>8</th>\n      <td>2</td>\n      <td>1</td>\n      <td>0</td>\n      <td>1</td>\n      <td>2</td>\n      <td>0</td>\n      <td>1</td>\n      <td>1</td>\n    </tr>\n    <tr>\n      <th>9</th>\n      <td>2</td>\n      <td>1</td>\n      <td>0</td>\n      <td>2</td>\n      <td>0</td>\n      <td>0</td>\n      <td>1</td>\n      <td>0</td>\n    </tr>\n    <tr>\n      <th>10</th>\n      <td>2</td>\n      <td>2</td>\n      <td>0</td>\n      <td>2</td>\n      <td>0</td>\n      <td>2</td>\n      <td>2</td>\n      <td>1</td>\n    </tr>\n    <tr>\n      <th>11</th>\n      <td>0</td>\n      <td>2</td>\n      <td>1</td>\n      <td>2</td>\n      <td>1</td>\n      <td>2</td>\n      <td>0</td>\n      <td>2</td>\n    </tr>\n    <tr>\n      <th>12</th>\n      <td>1</td>\n      <td>1</td>\n      <td>2</td>\n      <td>0</td>\n      <td>0</td>\n      <td>0</td>\n      <td>0</td>\n      <td>1</td>\n    </tr>\n    <tr>\n      <th>13</th>\n      <td>2</td>\n      <td>1</td>\n      <td>1</td>\n      <td>2</td>\n      <td>0</td>\n      <td>0</td>\n      <td>1</td>\n      <td>2</td>\n    </tr>\n    <tr>\n      <th>14</th>\n      <td>2</td>\n      <td>0</td>\n      <td>2</td>\n      <td>1</td>\n      <td>1</td>\n      <td>0</td>\n      <td>0</td>\n      <td>2</td>\n    </tr>\n    <tr>\n      <th>15</th>\n      <td>1</td>\n      <td>1</td>\n      <td>2</td>\n      <td>2</td>\n      <td>0</td>\n      <td>1</td>\n      <td>0</td>\n      <td>2</td>\n    </tr>\n    <tr>\n      <th>16</th>\n      <td>2</td>\n      <td>0</td>\n      <td>0</td>\n      <td>2</td>\n      <td>2</td>\n      <td>1</td>\n      <td>1</td>\n      <td>2</td>\n    </tr>\n    <tr>\n      <th>17</th>\n      <td>1</td>\n      <td>1</td>\n      <td>1</td>\n      <td>0</td>\n      <td>2</td>\n      <td>1</td>\n      <td>2</td>\n      <td>1</td>\n    </tr>\n    <tr>\n      <th>18</th>\n      <td>2</td>\n      <td>0</td>\n      <td>1</td>\n      <td>1</td>\n      <td>0</td>\n      <td>2</td>\n      <td>1</td>\n      <td>0</td>\n    </tr>\n    <tr>\n      <th>19</th>\n      <td>0</td>\n      <td>2</td>\n      <td>1</td>\n      <td>2</td>\n      <td>1</td>\n      <td>1</td>\n      <td>1</td>\n      <td>2</td>\n    </tr>\n  </tbody>\n</table>\n</div>", 
                        "text/plain": "    A  B  C  D  E  F  G  H\n0   1  2  2  1  2  0  0  2\n1   1  0  2  1  2  0  2  1\n2   0  0  0  0  2  0  1  2\n3   1  0  1  2  1  0  2  2\n4   0  2  1  2  1  2  1  1\n5   1  0  2  2  2  1  1  1\n6   0  0  1  1  2  0  0  2\n7   2  1  2  1  1  2  2  0\n8   2  1  0  1  2  0  1  1\n9   2  1  0  2  0  0  1  0\n10  2  2  0  2  0  2  2  1\n11  0  2  1  2  1  2  0  2\n12  1  1  2  0  0  0  0  1\n13  2  1  1  2  0  0  1  2\n14  2  0  2  1  1  0  0  2\n15  1  1  2  2  0  1  0  2\n16  2  0  0  2  2  1  1  2\n17  1  1  1  0  2  1  2  1\n18  2  0  1  1  0  2  1  0\n19  0  2  1  2  1  1  1  2"
                    }, 
                    "output_type": "execute_result"
                }
            ], 
            "source": "# Se crea data frame para ejemplo\ndf_prueba = pd.DataFrame(np.random.randint(0,3,size = (20,8)), columns=list('ABCDEFGH'))\ndf_prueba"
        }, 
        {
            "execution_count": 74, 
            "cell_type": "code", 
            "metadata": {}, 
            "outputs": [
                {
                    "execution_count": 74, 
                    "metadata": {}, 
                    "data": {
                        "text/plain": "array([1, 0, 2])"
                    }, 
                    "output_type": "execute_result"
                }, 
                {
                    "execution_count": 74, 
                    "metadata": {}, 
                    "data": {
                        "text/plain": "3"
                    }, 
                    "output_type": "execute_result"
                }, 
                {
                    "execution_count": 74, 
                    "metadata": {}, 
                    "data": {
                        "text/html": "<div>\n<style scoped>\n    .dataframe tbody tr th:only-of-type {\n        vertical-align: middle;\n    }\n\n    .dataframe tbody tr th {\n        vertical-align: top;\n    }\n\n    .dataframe thead th {\n        text-align: right;\n    }\n</style>\n<table border=\"1\" class=\"dataframe\">\n  <thead>\n    <tr style=\"text-align: right;\">\n      <th></th>\n      <th>A</th>\n      <th>B</th>\n      <th>C</th>\n      <th>D</th>\n      <th>E</th>\n      <th>F</th>\n      <th>G</th>\n      <th>H</th>\n    </tr>\n  </thead>\n  <tbody>\n    <tr>\n      <th>0</th>\n      <td>1</td>\n      <td>2</td>\n      <td>2</td>\n      <td>1</td>\n      <td>2</td>\n      <td>0</td>\n      <td>0</td>\n      <td>2</td>\n    </tr>\n    <tr>\n      <th>1</th>\n      <td>1</td>\n      <td>0</td>\n      <td>2</td>\n      <td>1</td>\n      <td>2</td>\n      <td>0</td>\n      <td>2</td>\n      <td>1</td>\n    </tr>\n    <tr>\n      <th>2</th>\n      <td>0</td>\n      <td>0</td>\n      <td>0</td>\n      <td>0</td>\n      <td>2</td>\n      <td>0</td>\n      <td>1</td>\n      <td>2</td>\n    </tr>\n    <tr>\n      <th>4</th>\n      <td>0</td>\n      <td>2</td>\n      <td>1</td>\n      <td>2</td>\n      <td>1</td>\n      <td>2</td>\n      <td>1</td>\n      <td>1</td>\n    </tr>\n    <tr>\n      <th>7</th>\n      <td>2</td>\n      <td>1</td>\n      <td>2</td>\n      <td>1</td>\n      <td>1</td>\n      <td>2</td>\n      <td>2</td>\n      <td>0</td>\n    </tr>\n    <tr>\n      <th>10</th>\n      <td>2</td>\n      <td>2</td>\n      <td>0</td>\n      <td>2</td>\n      <td>0</td>\n      <td>2</td>\n      <td>2</td>\n      <td>1</td>\n    </tr>\n    <tr>\n      <th>12</th>\n      <td>1</td>\n      <td>1</td>\n      <td>2</td>\n      <td>0</td>\n      <td>0</td>\n      <td>0</td>\n      <td>0</td>\n      <td>1</td>\n    </tr>\n    <tr>\n      <th>14</th>\n      <td>2</td>\n      <td>0</td>\n      <td>2</td>\n      <td>1</td>\n      <td>1</td>\n      <td>0</td>\n      <td>0</td>\n      <td>2</td>\n    </tr>\n  </tbody>\n</table>\n</div>", 
                        "text/plain": "    A  B  C  D  E  F  G  H\n0   1  2  2  1  2  0  0  2\n1   1  0  2  1  2  0  2  1\n2   0  0  0  0  2  0  1  2\n4   0  2  1  2  1  2  1  1\n7   2  1  2  1  1  2  2  0\n10  2  2  0  2  0  2  2  1\n12  1  1  2  0  0  0  0  1\n14  2  0  2  1  1  0  0  2"
                    }, 
                    "output_type": "execute_result"
                }
            ], 
            "source": "#Valores \u00fanicos de una columna\ndf_prueba[\"A\"].unique()\n#Contar cuantos son\nlen(df_prueba[\"A\"].unique())\n\n#Eliminar duplicados dejando solo el primero y considerando \u00fanicamente la columna A. inplace es False para no reemplazar la df original\n#https://pandas.pydata.org/pandas-docs/stable/generated/pandas.DataFrame.drop_duplicates.html\ndf_prueba.drop_duplicates(subset=[\"A\",\"B\"],keep=\"first\", inplace=False)\n#df_prueba.loc[:,[\"A\"]].drop_duplicates()"
        }, 
        {
            "execution_count": 77, 
            "cell_type": "code", 
            "metadata": {}, 
            "outputs": [
                {
                    "execution_count": 77, 
                    "metadata": {}, 
                    "data": {
                        "text/html": "<div>\n<style scoped>\n    .dataframe tbody tr th:only-of-type {\n        vertical-align: middle;\n    }\n\n    .dataframe tbody tr th {\n        vertical-align: top;\n    }\n\n    .dataframe thead th {\n        text-align: right;\n    }\n</style>\n<table border=\"1\" class=\"dataframe\">\n  <thead>\n    <tr style=\"text-align: right;\">\n      <th></th>\n      <th></th>\n      <th>C</th>\n      <th>D</th>\n      <th>E</th>\n      <th>F</th>\n      <th>G</th>\n      <th>H</th>\n    </tr>\n    <tr>\n      <th>A</th>\n      <th>B</th>\n      <th></th>\n      <th></th>\n      <th></th>\n      <th></th>\n      <th></th>\n      <th></th>\n    </tr>\n  </thead>\n  <tbody>\n    <tr>\n      <th rowspan=\"2\" valign=\"top\">0</th>\n      <th>0</th>\n      <td>0.500000</td>\n      <td>0.500000</td>\n      <td>2.000000</td>\n      <td>0.000000</td>\n      <td>0.500000</td>\n      <td>2.000000</td>\n    </tr>\n    <tr>\n      <th>2</th>\n      <td>1.000000</td>\n      <td>2.000000</td>\n      <td>1.000000</td>\n      <td>1.666667</td>\n      <td>0.666667</td>\n      <td>1.666667</td>\n    </tr>\n    <tr>\n      <th rowspan=\"3\" valign=\"top\">1</th>\n      <th>0</th>\n      <td>1.666667</td>\n      <td>1.666667</td>\n      <td>1.666667</td>\n      <td>0.333333</td>\n      <td>1.666667</td>\n      <td>1.333333</td>\n    </tr>\n    <tr>\n      <th>1</th>\n      <td>1.666667</td>\n      <td>0.666667</td>\n      <td>0.666667</td>\n      <td>0.666667</td>\n      <td>0.666667</td>\n      <td>1.333333</td>\n    </tr>\n    <tr>\n      <th>2</th>\n      <td>2.000000</td>\n      <td>1.000000</td>\n      <td>2.000000</td>\n      <td>0.000000</td>\n      <td>0.000000</td>\n      <td>2.000000</td>\n    </tr>\n    <tr>\n      <th rowspan=\"3\" valign=\"top\">2</th>\n      <th>0</th>\n      <td>1.000000</td>\n      <td>1.333333</td>\n      <td>1.000000</td>\n      <td>1.000000</td>\n      <td>0.666667</td>\n      <td>1.333333</td>\n    </tr>\n    <tr>\n      <th>1</th>\n      <td>0.750000</td>\n      <td>1.500000</td>\n      <td>0.750000</td>\n      <td>0.500000</td>\n      <td>1.250000</td>\n      <td>0.750000</td>\n    </tr>\n    <tr>\n      <th>2</th>\n      <td>0.000000</td>\n      <td>2.000000</td>\n      <td>0.000000</td>\n      <td>2.000000</td>\n      <td>2.000000</td>\n      <td>1.000000</td>\n    </tr>\n  </tbody>\n</table>\n</div>", 
                        "text/plain": "            C         D         E         F         G         H\nA B                                                            \n0 0  0.500000  0.500000  2.000000  0.000000  0.500000  2.000000\n  2  1.000000  2.000000  1.000000  1.666667  0.666667  1.666667\n1 0  1.666667  1.666667  1.666667  0.333333  1.666667  1.333333\n  1  1.666667  0.666667  0.666667  0.666667  0.666667  1.333333\n  2  2.000000  1.000000  2.000000  0.000000  0.000000  2.000000\n2 0  1.000000  1.333333  1.000000  1.000000  0.666667  1.333333\n  1  0.750000  1.500000  0.750000  0.500000  1.250000  0.750000\n  2  0.000000  2.000000  0.000000  2.000000  2.000000  1.000000"
                    }, 
                    "output_type": "execute_result"
                }, 
                {
                    "execution_count": 77, 
                    "metadata": {}, 
                    "data": {
                        "text/html": "<div>\n<style scoped>\n    .dataframe tbody tr th:only-of-type {\n        vertical-align: middle;\n    }\n\n    .dataframe tbody tr th {\n        vertical-align: top;\n    }\n\n    .dataframe thead th {\n        text-align: right;\n    }\n</style>\n<table border=\"1\" class=\"dataframe\">\n  <thead>\n    <tr style=\"text-align: right;\">\n      <th></th>\n      <th>A</th>\n      <th>B</th>\n      <th>C</th>\n      <th>D</th>\n      <th>E</th>\n      <th>F</th>\n      <th>G</th>\n      <th>H</th>\n    </tr>\n  </thead>\n  <tbody>\n    <tr>\n      <th>0</th>\n      <td>0</td>\n      <td>0</td>\n      <td>0.500000</td>\n      <td>0.500000</td>\n      <td>2.000000</td>\n      <td>0.000000</td>\n      <td>0.500000</td>\n      <td>2.000000</td>\n    </tr>\n    <tr>\n      <th>1</th>\n      <td>0</td>\n      <td>2</td>\n      <td>1.000000</td>\n      <td>2.000000</td>\n      <td>1.000000</td>\n      <td>1.666667</td>\n      <td>0.666667</td>\n      <td>1.666667</td>\n    </tr>\n    <tr>\n      <th>2</th>\n      <td>1</td>\n      <td>0</td>\n      <td>1.666667</td>\n      <td>1.666667</td>\n      <td>1.666667</td>\n      <td>0.333333</td>\n      <td>1.666667</td>\n      <td>1.333333</td>\n    </tr>\n    <tr>\n      <th>3</th>\n      <td>1</td>\n      <td>1</td>\n      <td>1.666667</td>\n      <td>0.666667</td>\n      <td>0.666667</td>\n      <td>0.666667</td>\n      <td>0.666667</td>\n      <td>1.333333</td>\n    </tr>\n    <tr>\n      <th>4</th>\n      <td>1</td>\n      <td>2</td>\n      <td>2.000000</td>\n      <td>1.000000</td>\n      <td>2.000000</td>\n      <td>0.000000</td>\n      <td>0.000000</td>\n      <td>2.000000</td>\n    </tr>\n    <tr>\n      <th>5</th>\n      <td>2</td>\n      <td>0</td>\n      <td>1.000000</td>\n      <td>1.333333</td>\n      <td>1.000000</td>\n      <td>1.000000</td>\n      <td>0.666667</td>\n      <td>1.333333</td>\n    </tr>\n    <tr>\n      <th>6</th>\n      <td>2</td>\n      <td>1</td>\n      <td>0.750000</td>\n      <td>1.500000</td>\n      <td>0.750000</td>\n      <td>0.500000</td>\n      <td>1.250000</td>\n      <td>0.750000</td>\n    </tr>\n    <tr>\n      <th>7</th>\n      <td>2</td>\n      <td>2</td>\n      <td>0.000000</td>\n      <td>2.000000</td>\n      <td>0.000000</td>\n      <td>2.000000</td>\n      <td>2.000000</td>\n      <td>1.000000</td>\n    </tr>\n  </tbody>\n</table>\n</div>", 
                        "text/plain": "   A  B         C         D         E         F         G         H\n0  0  0  0.500000  0.500000  2.000000  0.000000  0.500000  2.000000\n1  0  2  1.000000  2.000000  1.000000  1.666667  0.666667  1.666667\n2  1  0  1.666667  1.666667  1.666667  0.333333  1.666667  1.333333\n3  1  1  1.666667  0.666667  0.666667  0.666667  0.666667  1.333333\n4  1  2  2.000000  1.000000  2.000000  0.000000  0.000000  2.000000\n5  2  0  1.000000  1.333333  1.000000  1.000000  0.666667  1.333333\n6  2  1  0.750000  1.500000  0.750000  0.500000  1.250000  0.750000\n7  2  2  0.000000  2.000000  0.000000  2.000000  2.000000  1.000000"
                    }, 
                    "output_type": "execute_result"
                }
            ], 
            "source": "df_nueva = df_prueba.groupby([\"A\",\"B\"]).mean()\ndf_nueva\n#Se evita las variables seg\u00fan las cuales se distinguieron sean los nuevos \u00edndices. Se vuelven columnas nuevamente\ndf_nueva.reset_index(inplace=True)\ndf_nueva\n\n#Para m\u00e1s alternativas ver Agregar m\u00e1s adelante"
        }, 
        {
            "source": "## 8. Fundir", 
            "cell_type": "markdown", 
            "metadata": {}
        }, 
        {
            "execution_count": 26, 
            "cell_type": "code", 
            "metadata": {}, 
            "outputs": [
                {
                    "execution_count": 26, 
                    "metadata": {}, 
                    "data": {
                        "text/plain": "'Christopher Dryer'"
                    }, 
                    "output_type": "execute_result"
                }, 
                {
                    "execution_count": 26, 
                    "metadata": {}, 
                    "data": {
                        "text/plain": "array([ 3,  4,  5,  6,  7,  8,  9, 10, 11, 12])"
                    }, 
                    "output_type": "execute_result"
                }, 
                {
                    "execution_count": 26, 
                    "metadata": {}, 
                    "data": {
                        "text/html": "<div>\n<style scoped>\n    .dataframe tbody tr th:only-of-type {\n        vertical-align: middle;\n    }\n\n    .dataframe tbody tr th {\n        vertical-align: top;\n    }\n\n    .dataframe thead th {\n        text-align: right;\n    }\n</style>\n<table border=\"1\" class=\"dataframe\">\n  <thead>\n    <tr style=\"text-align: right;\">\n      <th></th>\n      <th>ID</th>\n      <th>Nombre1</th>\n      <th>Nombre2</th>\n    </tr>\n  </thead>\n  <tbody>\n    <tr>\n      <th>0</th>\n      <td>3</td>\n      <td>Margaret Wigfield</td>\n      <td>Kevin North</td>\n    </tr>\n    <tr>\n      <th>1</th>\n      <td>4</td>\n      <td>Stefanie Cook</td>\n      <td>April Jerome</td>\n    </tr>\n    <tr>\n      <th>2</th>\n      <td>5</td>\n      <td>James Morse</td>\n      <td>Nick Brock</td>\n    </tr>\n    <tr>\n      <th>3</th>\n      <td>6</td>\n      <td>George Horne</td>\n      <td>Robert Turner</td>\n    </tr>\n    <tr>\n      <th>4</th>\n      <td>7</td>\n      <td>Mark Shannon</td>\n      <td>Virginia Frerichs</td>\n    </tr>\n    <tr>\n      <th>5</th>\n      <td>8</td>\n      <td>Teresa Mendosa</td>\n      <td>Elmer Crider</td>\n    </tr>\n    <tr>\n      <th>6</th>\n      <td>9</td>\n      <td>Mary Bakley</td>\n      <td>Marcia Prieto</td>\n    </tr>\n    <tr>\n      <th>7</th>\n      <td>10</td>\n      <td>Sylvia Hardin</td>\n      <td>Clayton Arteaga</td>\n    </tr>\n    <tr>\n      <th>8</th>\n      <td>11</td>\n      <td>Israel Luster</td>\n      <td>Steven Lanier</td>\n    </tr>\n    <tr>\n      <th>9</th>\n      <td>12</td>\n      <td>Joel Underwood</td>\n      <td>Mary Coles</td>\n    </tr>\n  </tbody>\n</table>\n</div>", 
                        "text/plain": "   ID            Nombre1            Nombre2\n0   3  Margaret Wigfield        Kevin North\n1   4      Stefanie Cook       April Jerome\n2   5        James Morse         Nick Brock\n3   6       George Horne      Robert Turner\n4   7       Mark Shannon  Virginia Frerichs\n5   8     Teresa Mendosa       Elmer Crider\n6   9        Mary Bakley      Marcia Prieto\n7  10      Sylvia Hardin    Clayton Arteaga\n8  11      Israel Luster      Steven Lanier\n9  12     Joel Underwood         Mary Coles"
                    }, 
                    "output_type": "execute_result"
                }
            ], 
            "source": "#Se crean base de datos para ejemplo junto a la base de datos df_prueba utilizada en distinguir\n\n#Recordar instalar names la primera vez\n#!pip install names\nimport names\nnames.get_full_name() #Ejemplo nombre aleatorio\nnp.arange(3,13,1)\n\nnombres = []\nnombres2= []\nfor i in range(10):\n    nombres.append(names.get_full_name())\n    nombres2.append(names.get_full_name())\n\ndf_detalle = pd.DataFrame([np.arange(3,13,1),\n                         nombres, nombres2]).T\ndf_detalle.columns = [\"ID\", \"Nombre1\", \"Nombre2\"]\ndf_detalle"
        }, 
        {
            "source": "C\u00f3digo gen\u00e9rico de merge\nhttps://pandas.pydata.org/pandas-docs/stable/merging.html ver a mitad de p\u00e1gina\n\npd.merge(left, right, how='inner', on=None, left_on=None, right_on=None,\n         left_index=False, right_index=False, sort=True,\n         suffixes=('_x', '_y'), copy=True, indicator=False,\n         validate=None)", 
            "cell_type": "markdown", 
            "metadata": {}
        }, 
        {
            "execution_count": 27, 
            "cell_type": "code", 
            "metadata": {}, 
            "outputs": [
                {
                    "execution_count": 27, 
                    "metadata": {}, 
                    "data": {
                        "text/html": "<div>\n<style scoped>\n    .dataframe tbody tr th:only-of-type {\n        vertical-align: middle;\n    }\n\n    .dataframe tbody tr th {\n        vertical-align: top;\n    }\n\n    .dataframe thead th {\n        text-align: right;\n    }\n</style>\n<table border=\"1\" class=\"dataframe\">\n  <thead>\n    <tr style=\"text-align: right;\">\n      <th></th>\n      <th>ID</th>\n      <th>Nombre1</th>\n      <th>Nombre2</th>\n      <th>A</th>\n      <th>B</th>\n      <th>C</th>\n      <th>D</th>\n      <th>E</th>\n      <th>F</th>\n      <th>G</th>\n      <th>H</th>\n    </tr>\n  </thead>\n  <tbody>\n    <tr>\n      <th>0</th>\n      <td>3.0</td>\n      <td>Margaret Wigfield</td>\n      <td>Kevin North</td>\n      <td>8</td>\n      <td>2</td>\n      <td>7</td>\n      <td>6</td>\n      <td>7</td>\n      <td>6</td>\n      <td>3</td>\n      <td>5</td>\n    </tr>\n    <tr>\n      <th>1</th>\n      <td>4.0</td>\n      <td>Stefanie Cook</td>\n      <td>April Jerome</td>\n      <td>0</td>\n      <td>8</td>\n      <td>5</td>\n      <td>9</td>\n      <td>2</td>\n      <td>7</td>\n      <td>5</td>\n      <td>6</td>\n    </tr>\n    <tr>\n      <th>2</th>\n      <td>5.0</td>\n      <td>James Morse</td>\n      <td>Nick Brock</td>\n      <td>3</td>\n      <td>6</td>\n      <td>2</td>\n      <td>7</td>\n      <td>6</td>\n      <td>3</td>\n      <td>9</td>\n      <td>8</td>\n    </tr>\n    <tr>\n      <th>3</th>\n      <td>6.0</td>\n      <td>George Horne</td>\n      <td>Robert Turner</td>\n      <td>9</td>\n      <td>8</td>\n      <td>8</td>\n      <td>7</td>\n      <td>7</td>\n      <td>4</td>\n      <td>2</td>\n      <td>7</td>\n    </tr>\n    <tr>\n      <th>4</th>\n      <td>7.0</td>\n      <td>Mark Shannon</td>\n      <td>Virginia Frerichs</td>\n      <td>1</td>\n      <td>9</td>\n      <td>5</td>\n      <td>6</td>\n      <td>1</td>\n      <td>6</td>\n      <td>2</td>\n      <td>2</td>\n    </tr>\n    <tr>\n      <th>5</th>\n      <td>8.0</td>\n      <td>Teresa Mendosa</td>\n      <td>Elmer Crider</td>\n      <td>7</td>\n      <td>2</td>\n      <td>3</td>\n      <td>3</td>\n      <td>1</td>\n      <td>3</td>\n      <td>9</td>\n      <td>6</td>\n    </tr>\n    <tr>\n      <th>6</th>\n      <td>9.0</td>\n      <td>Mary Bakley</td>\n      <td>Marcia Prieto</td>\n      <td>4</td>\n      <td>8</td>\n      <td>9</td>\n      <td>3</td>\n      <td>1</td>\n      <td>7</td>\n      <td>4</td>\n      <td>3</td>\n    </tr>\n    <tr>\n      <th>7</th>\n      <td>10.0</td>\n      <td>Sylvia Hardin</td>\n      <td>Clayton Arteaga</td>\n      <td>4</td>\n      <td>4</td>\n      <td>2</td>\n      <td>7</td>\n      <td>2</td>\n      <td>8</td>\n      <td>2</td>\n      <td>7</td>\n    </tr>\n    <tr>\n      <th>8</th>\n      <td>11.0</td>\n      <td>Israel Luster</td>\n      <td>Steven Lanier</td>\n      <td>8</td>\n      <td>2</td>\n      <td>6</td>\n      <td>1</td>\n      <td>3</td>\n      <td>0</td>\n      <td>5</td>\n      <td>7</td>\n    </tr>\n    <tr>\n      <th>9</th>\n      <td>12.0</td>\n      <td>Joel Underwood</td>\n      <td>Mary Coles</td>\n      <td>7</td>\n      <td>4</td>\n      <td>7</td>\n      <td>8</td>\n      <td>5</td>\n      <td>2</td>\n      <td>7</td>\n      <td>5</td>\n    </tr>\n    <tr>\n      <th>9</th>\n      <td>0.0</td>\n      <td>NaN</td>\n      <td>NaN</td>\n      <td>4</td>\n      <td>0</td>\n      <td>2</td>\n      <td>6</td>\n      <td>4</td>\n      <td>4</td>\n      <td>0</td>\n      <td>2</td>\n    </tr>\n    <tr>\n      <th>9</th>\n      <td>1.0</td>\n      <td>NaN</td>\n      <td>NaN</td>\n      <td>8</td>\n      <td>6</td>\n      <td>9</td>\n      <td>3</td>\n      <td>5</td>\n      <td>5</td>\n      <td>4</td>\n      <td>7</td>\n    </tr>\n    <tr>\n      <th>9</th>\n      <td>2.0</td>\n      <td>NaN</td>\n      <td>NaN</td>\n      <td>8</td>\n      <td>6</td>\n      <td>4</td>\n      <td>1</td>\n      <td>3</td>\n      <td>7</td>\n      <td>0</td>\n      <td>0</td>\n    </tr>\n    <tr>\n      <th>9</th>\n      <td>13.0</td>\n      <td>NaN</td>\n      <td>NaN</td>\n      <td>6</td>\n      <td>5</td>\n      <td>6</td>\n      <td>8</td>\n      <td>9</td>\n      <td>6</td>\n      <td>4</td>\n      <td>5</td>\n    </tr>\n    <tr>\n      <th>9</th>\n      <td>14.0</td>\n      <td>NaN</td>\n      <td>NaN</td>\n      <td>0</td>\n      <td>5</td>\n      <td>1</td>\n      <td>8</td>\n      <td>0</td>\n      <td>9</td>\n      <td>9</td>\n      <td>1</td>\n    </tr>\n    <tr>\n      <th>9</th>\n      <td>15.0</td>\n      <td>NaN</td>\n      <td>NaN</td>\n      <td>7</td>\n      <td>4</td>\n      <td>1</td>\n      <td>4</td>\n      <td>1</td>\n      <td>7</td>\n      <td>8</td>\n      <td>9</td>\n    </tr>\n    <tr>\n      <th>9</th>\n      <td>16.0</td>\n      <td>NaN</td>\n      <td>NaN</td>\n      <td>2</td>\n      <td>7</td>\n      <td>9</td>\n      <td>3</td>\n      <td>9</td>\n      <td>3</td>\n      <td>9</td>\n      <td>7</td>\n    </tr>\n    <tr>\n      <th>9</th>\n      <td>17.0</td>\n      <td>NaN</td>\n      <td>NaN</td>\n      <td>6</td>\n      <td>7</td>\n      <td>1</td>\n      <td>2</td>\n      <td>1</td>\n      <td>1</td>\n      <td>7</td>\n      <td>5</td>\n    </tr>\n    <tr>\n      <th>9</th>\n      <td>18.0</td>\n      <td>NaN</td>\n      <td>NaN</td>\n      <td>3</td>\n      <td>5</td>\n      <td>2</td>\n      <td>4</td>\n      <td>8</td>\n      <td>5</td>\n      <td>2</td>\n      <td>0</td>\n    </tr>\n    <tr>\n      <th>9</th>\n      <td>19.0</td>\n      <td>NaN</td>\n      <td>NaN</td>\n      <td>2</td>\n      <td>5</td>\n      <td>9</td>\n      <td>1</td>\n      <td>2</td>\n      <td>8</td>\n      <td>4</td>\n      <td>2</td>\n    </tr>\n  </tbody>\n</table>\n</div>", 
                        "text/plain": "     ID            Nombre1            Nombre2  A  B  C  D  E  F  G  H\n0   3.0  Margaret Wigfield        Kevin North  8  2  7  6  7  6  3  5\n1   4.0      Stefanie Cook       April Jerome  0  8  5  9  2  7  5  6\n2   5.0        James Morse         Nick Brock  3  6  2  7  6  3  9  8\n3   6.0       George Horne      Robert Turner  9  8  8  7  7  4  2  7\n4   7.0       Mark Shannon  Virginia Frerichs  1  9  5  6  1  6  2  2\n5   8.0     Teresa Mendosa       Elmer Crider  7  2  3  3  1  3  9  6\n6   9.0        Mary Bakley      Marcia Prieto  4  8  9  3  1  7  4  3\n7  10.0      Sylvia Hardin    Clayton Arteaga  4  4  2  7  2  8  2  7\n8  11.0      Israel Luster      Steven Lanier  8  2  6  1  3  0  5  7\n9  12.0     Joel Underwood         Mary Coles  7  4  7  8  5  2  7  5\n9   0.0                NaN                NaN  4  0  2  6  4  4  0  2\n9   1.0                NaN                NaN  8  6  9  3  5  5  4  7\n9   2.0                NaN                NaN  8  6  4  1  3  7  0  0\n9  13.0                NaN                NaN  6  5  6  8  9  6  4  5\n9  14.0                NaN                NaN  0  5  1  8  0  9  9  1\n9  15.0                NaN                NaN  7  4  1  4  1  7  8  9\n9  16.0                NaN                NaN  2  7  9  3  9  3  9  7\n9  17.0                NaN                NaN  6  7  1  2  1  1  7  5\n9  18.0                NaN                NaN  3  5  2  4  8  5  2  0\n9  19.0                NaN                NaN  2  5  9  1  2  8  4  2"
                    }, 
                    "output_type": "execute_result"
                }
            ], 
            "source": "pd.merge(df_detalle, df_prueba, how='outer', on=None, left_on=\"ID\", right_on=\"A\",\n         left_index=False, right_index=True, sort=False,\n         suffixes=('_x', '_y'), copy=True, indicator=False,\n         validate=None)"
        }, 
        {
            "execution_count": 28, 
            "cell_type": "code", 
            "metadata": {}, 
            "outputs": [
                {
                    "execution_count": 28, 
                    "metadata": {}, 
                    "data": {
                        "text/html": "<div>\n<style scoped>\n    .dataframe tbody tr th:only-of-type {\n        vertical-align: middle;\n    }\n\n    .dataframe tbody tr th {\n        vertical-align: top;\n    }\n\n    .dataframe thead th {\n        text-align: right;\n    }\n</style>\n<table border=\"1\" class=\"dataframe\">\n  <thead>\n    <tr style=\"text-align: right;\">\n      <th></th>\n      <th>ID</th>\n      <th>Nombre1</th>\n      <th>Nombre2</th>\n      <th>A</th>\n      <th>B</th>\n      <th>C</th>\n      <th>D</th>\n      <th>E</th>\n      <th>F</th>\n      <th>G</th>\n      <th>H</th>\n    </tr>\n  </thead>\n  <tbody>\n    <tr>\n      <th>0</th>\n      <td>3</td>\n      <td>Margaret Wigfield</td>\n      <td>Kevin North</td>\n      <td>3</td>\n      <td>6</td>\n      <td>2</td>\n      <td>7</td>\n      <td>6</td>\n      <td>3</td>\n      <td>9</td>\n      <td>8</td>\n    </tr>\n    <tr>\n      <th>1</th>\n      <td>3</td>\n      <td>Margaret Wigfield</td>\n      <td>Kevin North</td>\n      <td>3</td>\n      <td>5</td>\n      <td>2</td>\n      <td>4</td>\n      <td>8</td>\n      <td>5</td>\n      <td>2</td>\n      <td>0</td>\n    </tr>\n    <tr>\n      <th>2</th>\n      <td>4</td>\n      <td>Stefanie Cook</td>\n      <td>April Jerome</td>\n      <td>4</td>\n      <td>0</td>\n      <td>2</td>\n      <td>6</td>\n      <td>4</td>\n      <td>4</td>\n      <td>0</td>\n      <td>2</td>\n    </tr>\n    <tr>\n      <th>3</th>\n      <td>4</td>\n      <td>Stefanie Cook</td>\n      <td>April Jerome</td>\n      <td>4</td>\n      <td>8</td>\n      <td>9</td>\n      <td>3</td>\n      <td>1</td>\n      <td>7</td>\n      <td>4</td>\n      <td>3</td>\n    </tr>\n    <tr>\n      <th>4</th>\n      <td>4</td>\n      <td>Stefanie Cook</td>\n      <td>April Jerome</td>\n      <td>4</td>\n      <td>4</td>\n      <td>2</td>\n      <td>7</td>\n      <td>2</td>\n      <td>8</td>\n      <td>2</td>\n      <td>7</td>\n    </tr>\n    <tr>\n      <th>5</th>\n      <td>6</td>\n      <td>George Horne</td>\n      <td>Robert Turner</td>\n      <td>6</td>\n      <td>5</td>\n      <td>6</td>\n      <td>8</td>\n      <td>9</td>\n      <td>6</td>\n      <td>4</td>\n      <td>5</td>\n    </tr>\n    <tr>\n      <th>6</th>\n      <td>6</td>\n      <td>George Horne</td>\n      <td>Robert Turner</td>\n      <td>6</td>\n      <td>7</td>\n      <td>1</td>\n      <td>2</td>\n      <td>1</td>\n      <td>1</td>\n      <td>7</td>\n      <td>5</td>\n    </tr>\n    <tr>\n      <th>7</th>\n      <td>7</td>\n      <td>Mark Shannon</td>\n      <td>Virginia Frerichs</td>\n      <td>7</td>\n      <td>2</td>\n      <td>3</td>\n      <td>3</td>\n      <td>1</td>\n      <td>3</td>\n      <td>9</td>\n      <td>6</td>\n    </tr>\n    <tr>\n      <th>8</th>\n      <td>7</td>\n      <td>Mark Shannon</td>\n      <td>Virginia Frerichs</td>\n      <td>7</td>\n      <td>4</td>\n      <td>7</td>\n      <td>8</td>\n      <td>5</td>\n      <td>2</td>\n      <td>7</td>\n      <td>5</td>\n    </tr>\n    <tr>\n      <th>9</th>\n      <td>7</td>\n      <td>Mark Shannon</td>\n      <td>Virginia Frerichs</td>\n      <td>7</td>\n      <td>4</td>\n      <td>1</td>\n      <td>4</td>\n      <td>1</td>\n      <td>7</td>\n      <td>8</td>\n      <td>9</td>\n    </tr>\n    <tr>\n      <th>10</th>\n      <td>8</td>\n      <td>Teresa Mendosa</td>\n      <td>Elmer Crider</td>\n      <td>8</td>\n      <td>6</td>\n      <td>9</td>\n      <td>3</td>\n      <td>5</td>\n      <td>5</td>\n      <td>4</td>\n      <td>7</td>\n    </tr>\n    <tr>\n      <th>11</th>\n      <td>8</td>\n      <td>Teresa Mendosa</td>\n      <td>Elmer Crider</td>\n      <td>8</td>\n      <td>6</td>\n      <td>4</td>\n      <td>1</td>\n      <td>3</td>\n      <td>7</td>\n      <td>0</td>\n      <td>0</td>\n    </tr>\n    <tr>\n      <th>12</th>\n      <td>8</td>\n      <td>Teresa Mendosa</td>\n      <td>Elmer Crider</td>\n      <td>8</td>\n      <td>2</td>\n      <td>7</td>\n      <td>6</td>\n      <td>7</td>\n      <td>6</td>\n      <td>3</td>\n      <td>5</td>\n    </tr>\n    <tr>\n      <th>13</th>\n      <td>8</td>\n      <td>Teresa Mendosa</td>\n      <td>Elmer Crider</td>\n      <td>8</td>\n      <td>2</td>\n      <td>6</td>\n      <td>1</td>\n      <td>3</td>\n      <td>0</td>\n      <td>5</td>\n      <td>7</td>\n    </tr>\n    <tr>\n      <th>14</th>\n      <td>9</td>\n      <td>Mary Bakley</td>\n      <td>Marcia Prieto</td>\n      <td>9</td>\n      <td>8</td>\n      <td>8</td>\n      <td>7</td>\n      <td>7</td>\n      <td>4</td>\n      <td>2</td>\n      <td>7</td>\n    </tr>\n  </tbody>\n</table>\n</div>", 
                        "text/plain": "   ID            Nombre1            Nombre2  A  B  C  D  E  F  G  H\n0   3  Margaret Wigfield        Kevin North  3  6  2  7  6  3  9  8\n1   3  Margaret Wigfield        Kevin North  3  5  2  4  8  5  2  0\n2   4      Stefanie Cook       April Jerome  4  0  2  6  4  4  0  2\n3   4      Stefanie Cook       April Jerome  4  8  9  3  1  7  4  3\n4   4      Stefanie Cook       April Jerome  4  4  2  7  2  8  2  7\n5   6       George Horne      Robert Turner  6  5  6  8  9  6  4  5\n6   6       George Horne      Robert Turner  6  7  1  2  1  1  7  5\n7   7       Mark Shannon  Virginia Frerichs  7  2  3  3  1  3  9  6\n8   7       Mark Shannon  Virginia Frerichs  7  4  7  8  5  2  7  5\n9   7       Mark Shannon  Virginia Frerichs  7  4  1  4  1  7  8  9\n10  8     Teresa Mendosa       Elmer Crider  8  6  9  3  5  5  4  7\n11  8     Teresa Mendosa       Elmer Crider  8  6  4  1  3  7  0  0\n12  8     Teresa Mendosa       Elmer Crider  8  2  7  6  7  6  3  5\n13  8     Teresa Mendosa       Elmer Crider  8  2  6  1  3  0  5  7\n14  9        Mary Bakley      Marcia Prieto  9  8  8  7  7  4  2  7"
                    }, 
                    "output_type": "execute_result"
                }
            ], 
            "source": "pd.merge(df_detalle, df_prueba, how='inner', on=None, left_on=\"ID\", right_on=\"A\",\n         left_index=False, right_index=False, sort=True,\n         suffixes=('_x', '_y'), copy=True, indicator=False,\n         validate=None)"
        }, 
        {
            "execution_count": 29, 
            "cell_type": "code", 
            "metadata": {}, 
            "outputs": [
                {
                    "execution_count": 29, 
                    "metadata": {}, 
                    "data": {
                        "text/html": "<div>\n<style scoped>\n    .dataframe tbody tr th:only-of-type {\n        vertical-align: middle;\n    }\n\n    .dataframe tbody tr th {\n        vertical-align: top;\n    }\n\n    .dataframe thead th {\n        text-align: right;\n    }\n</style>\n<table border=\"1\" class=\"dataframe\">\n  <thead>\n    <tr style=\"text-align: right;\">\n      <th></th>\n      <th>ID</th>\n      <th>Nombre1</th>\n      <th>Nombre2</th>\n      <th>A</th>\n      <th>B</th>\n      <th>C</th>\n      <th>D</th>\n      <th>E</th>\n      <th>F</th>\n      <th>G</th>\n      <th>H</th>\n      <th>_merge</th>\n    </tr>\n  </thead>\n  <tbody>\n    <tr>\n      <th>0</th>\n      <td>3</td>\n      <td>Margaret Wigfield</td>\n      <td>Kevin North</td>\n      <td>3.0</td>\n      <td>6.0</td>\n      <td>2.0</td>\n      <td>7.0</td>\n      <td>6.0</td>\n      <td>3.0</td>\n      <td>9.0</td>\n      <td>8.0</td>\n      <td>both</td>\n    </tr>\n    <tr>\n      <th>1</th>\n      <td>3</td>\n      <td>Margaret Wigfield</td>\n      <td>Kevin North</td>\n      <td>3.0</td>\n      <td>5.0</td>\n      <td>2.0</td>\n      <td>4.0</td>\n      <td>8.0</td>\n      <td>5.0</td>\n      <td>2.0</td>\n      <td>0.0</td>\n      <td>both</td>\n    </tr>\n    <tr>\n      <th>2</th>\n      <td>4</td>\n      <td>Stefanie Cook</td>\n      <td>April Jerome</td>\n      <td>4.0</td>\n      <td>0.0</td>\n      <td>2.0</td>\n      <td>6.0</td>\n      <td>4.0</td>\n      <td>4.0</td>\n      <td>0.0</td>\n      <td>2.0</td>\n      <td>both</td>\n    </tr>\n    <tr>\n      <th>3</th>\n      <td>4</td>\n      <td>Stefanie Cook</td>\n      <td>April Jerome</td>\n      <td>4.0</td>\n      <td>8.0</td>\n      <td>9.0</td>\n      <td>3.0</td>\n      <td>1.0</td>\n      <td>7.0</td>\n      <td>4.0</td>\n      <td>3.0</td>\n      <td>both</td>\n    </tr>\n    <tr>\n      <th>4</th>\n      <td>4</td>\n      <td>Stefanie Cook</td>\n      <td>April Jerome</td>\n      <td>4.0</td>\n      <td>4.0</td>\n      <td>2.0</td>\n      <td>7.0</td>\n      <td>2.0</td>\n      <td>8.0</td>\n      <td>2.0</td>\n      <td>7.0</td>\n      <td>both</td>\n    </tr>\n    <tr>\n      <th>5</th>\n      <td>5</td>\n      <td>James Morse</td>\n      <td>Nick Brock</td>\n      <td>NaN</td>\n      <td>NaN</td>\n      <td>NaN</td>\n      <td>NaN</td>\n      <td>NaN</td>\n      <td>NaN</td>\n      <td>NaN</td>\n      <td>NaN</td>\n      <td>left_only</td>\n    </tr>\n    <tr>\n      <th>6</th>\n      <td>6</td>\n      <td>George Horne</td>\n      <td>Robert Turner</td>\n      <td>6.0</td>\n      <td>5.0</td>\n      <td>6.0</td>\n      <td>8.0</td>\n      <td>9.0</td>\n      <td>6.0</td>\n      <td>4.0</td>\n      <td>5.0</td>\n      <td>both</td>\n    </tr>\n    <tr>\n      <th>7</th>\n      <td>6</td>\n      <td>George Horne</td>\n      <td>Robert Turner</td>\n      <td>6.0</td>\n      <td>7.0</td>\n      <td>1.0</td>\n      <td>2.0</td>\n      <td>1.0</td>\n      <td>1.0</td>\n      <td>7.0</td>\n      <td>5.0</td>\n      <td>both</td>\n    </tr>\n    <tr>\n      <th>8</th>\n      <td>7</td>\n      <td>Mark Shannon</td>\n      <td>Virginia Frerichs</td>\n      <td>7.0</td>\n      <td>2.0</td>\n      <td>3.0</td>\n      <td>3.0</td>\n      <td>1.0</td>\n      <td>3.0</td>\n      <td>9.0</td>\n      <td>6.0</td>\n      <td>both</td>\n    </tr>\n    <tr>\n      <th>9</th>\n      <td>7</td>\n      <td>Mark Shannon</td>\n      <td>Virginia Frerichs</td>\n      <td>7.0</td>\n      <td>4.0</td>\n      <td>7.0</td>\n      <td>8.0</td>\n      <td>5.0</td>\n      <td>2.0</td>\n      <td>7.0</td>\n      <td>5.0</td>\n      <td>both</td>\n    </tr>\n    <tr>\n      <th>10</th>\n      <td>7</td>\n      <td>Mark Shannon</td>\n      <td>Virginia Frerichs</td>\n      <td>7.0</td>\n      <td>4.0</td>\n      <td>1.0</td>\n      <td>4.0</td>\n      <td>1.0</td>\n      <td>7.0</td>\n      <td>8.0</td>\n      <td>9.0</td>\n      <td>both</td>\n    </tr>\n    <tr>\n      <th>11</th>\n      <td>8</td>\n      <td>Teresa Mendosa</td>\n      <td>Elmer Crider</td>\n      <td>8.0</td>\n      <td>6.0</td>\n      <td>9.0</td>\n      <td>3.0</td>\n      <td>5.0</td>\n      <td>5.0</td>\n      <td>4.0</td>\n      <td>7.0</td>\n      <td>both</td>\n    </tr>\n    <tr>\n      <th>12</th>\n      <td>8</td>\n      <td>Teresa Mendosa</td>\n      <td>Elmer Crider</td>\n      <td>8.0</td>\n      <td>6.0</td>\n      <td>4.0</td>\n      <td>1.0</td>\n      <td>3.0</td>\n      <td>7.0</td>\n      <td>0.0</td>\n      <td>0.0</td>\n      <td>both</td>\n    </tr>\n    <tr>\n      <th>13</th>\n      <td>8</td>\n      <td>Teresa Mendosa</td>\n      <td>Elmer Crider</td>\n      <td>8.0</td>\n      <td>2.0</td>\n      <td>7.0</td>\n      <td>6.0</td>\n      <td>7.0</td>\n      <td>6.0</td>\n      <td>3.0</td>\n      <td>5.0</td>\n      <td>both</td>\n    </tr>\n    <tr>\n      <th>14</th>\n      <td>8</td>\n      <td>Teresa Mendosa</td>\n      <td>Elmer Crider</td>\n      <td>8.0</td>\n      <td>2.0</td>\n      <td>6.0</td>\n      <td>1.0</td>\n      <td>3.0</td>\n      <td>0.0</td>\n      <td>5.0</td>\n      <td>7.0</td>\n      <td>both</td>\n    </tr>\n    <tr>\n      <th>15</th>\n      <td>9</td>\n      <td>Mary Bakley</td>\n      <td>Marcia Prieto</td>\n      <td>9.0</td>\n      <td>8.0</td>\n      <td>8.0</td>\n      <td>7.0</td>\n      <td>7.0</td>\n      <td>4.0</td>\n      <td>2.0</td>\n      <td>7.0</td>\n      <td>both</td>\n    </tr>\n    <tr>\n      <th>16</th>\n      <td>10</td>\n      <td>Sylvia Hardin</td>\n      <td>Clayton Arteaga</td>\n      <td>NaN</td>\n      <td>NaN</td>\n      <td>NaN</td>\n      <td>NaN</td>\n      <td>NaN</td>\n      <td>NaN</td>\n      <td>NaN</td>\n      <td>NaN</td>\n      <td>left_only</td>\n    </tr>\n    <tr>\n      <th>17</th>\n      <td>11</td>\n      <td>Israel Luster</td>\n      <td>Steven Lanier</td>\n      <td>NaN</td>\n      <td>NaN</td>\n      <td>NaN</td>\n      <td>NaN</td>\n      <td>NaN</td>\n      <td>NaN</td>\n      <td>NaN</td>\n      <td>NaN</td>\n      <td>left_only</td>\n    </tr>\n    <tr>\n      <th>18</th>\n      <td>12</td>\n      <td>Joel Underwood</td>\n      <td>Mary Coles</td>\n      <td>NaN</td>\n      <td>NaN</td>\n      <td>NaN</td>\n      <td>NaN</td>\n      <td>NaN</td>\n      <td>NaN</td>\n      <td>NaN</td>\n      <td>NaN</td>\n      <td>left_only</td>\n    </tr>\n  </tbody>\n</table>\n</div>", 
                        "text/plain": "    ID            Nombre1            Nombre2    A    B    C    D    E    F  \\\n0    3  Margaret Wigfield        Kevin North  3.0  6.0  2.0  7.0  6.0  3.0   \n1    3  Margaret Wigfield        Kevin North  3.0  5.0  2.0  4.0  8.0  5.0   \n2    4      Stefanie Cook       April Jerome  4.0  0.0  2.0  6.0  4.0  4.0   \n3    4      Stefanie Cook       April Jerome  4.0  8.0  9.0  3.0  1.0  7.0   \n4    4      Stefanie Cook       April Jerome  4.0  4.0  2.0  7.0  2.0  8.0   \n5    5        James Morse         Nick Brock  NaN  NaN  NaN  NaN  NaN  NaN   \n6    6       George Horne      Robert Turner  6.0  5.0  6.0  8.0  9.0  6.0   \n7    6       George Horne      Robert Turner  6.0  7.0  1.0  2.0  1.0  1.0   \n8    7       Mark Shannon  Virginia Frerichs  7.0  2.0  3.0  3.0  1.0  3.0   \n9    7       Mark Shannon  Virginia Frerichs  7.0  4.0  7.0  8.0  5.0  2.0   \n10   7       Mark Shannon  Virginia Frerichs  7.0  4.0  1.0  4.0  1.0  7.0   \n11   8     Teresa Mendosa       Elmer Crider  8.0  6.0  9.0  3.0  5.0  5.0   \n12   8     Teresa Mendosa       Elmer Crider  8.0  6.0  4.0  1.0  3.0  7.0   \n13   8     Teresa Mendosa       Elmer Crider  8.0  2.0  7.0  6.0  7.0  6.0   \n14   8     Teresa Mendosa       Elmer Crider  8.0  2.0  6.0  1.0  3.0  0.0   \n15   9        Mary Bakley      Marcia Prieto  9.0  8.0  8.0  7.0  7.0  4.0   \n16  10      Sylvia Hardin    Clayton Arteaga  NaN  NaN  NaN  NaN  NaN  NaN   \n17  11      Israel Luster      Steven Lanier  NaN  NaN  NaN  NaN  NaN  NaN   \n18  12     Joel Underwood         Mary Coles  NaN  NaN  NaN  NaN  NaN  NaN   \n\n      G    H     _merge  \n0   9.0  8.0       both  \n1   2.0  0.0       both  \n2   0.0  2.0       both  \n3   4.0  3.0       both  \n4   2.0  7.0       both  \n5   NaN  NaN  left_only  \n6   4.0  5.0       both  \n7   7.0  5.0       both  \n8   9.0  6.0       both  \n9   7.0  5.0       both  \n10  8.0  9.0       both  \n11  4.0  7.0       both  \n12  0.0  0.0       both  \n13  3.0  5.0       both  \n14  5.0  7.0       both  \n15  2.0  7.0       both  \n16  NaN  NaN  left_only  \n17  NaN  NaN  left_only  \n18  NaN  NaN  left_only  "
                    }, 
                    "output_type": "execute_result"
                }
            ], 
            "source": "pd.merge(df_detalle, df_prueba, how='left', on=None, left_on=\"ID\", right_on=\"A\",\n         left_index=False, right_index=False, sort=False,\n         suffixes=('_x', '_y'), copy=True, indicator=True,\n         validate=\"one_to_many\")\n\n#Se puede cambiar validate a \"one_to_one\" en caso de querese verificar las correspondencias sean uno a uno\n#Con indicator = True se agrega una columna que permite conocer cu\u00e1les valores est\u00e1n en la primera, segunda o en ambos sets de datos"
        }, 
        {
            "source": "## 9. Anexar", 
            "cell_type": "markdown", 
            "metadata": {}
        }, 
        {
            "execution_count": 30, 
            "cell_type": "code", 
            "metadata": {}, 
            "outputs": [
                {
                    "execution_count": 30, 
                    "metadata": {}, 
                    "data": {
                        "text/html": "<div>\n<style scoped>\n    .dataframe tbody tr th:only-of-type {\n        vertical-align: middle;\n    }\n\n    .dataframe tbody tr th {\n        vertical-align: top;\n    }\n\n    .dataframe thead th {\n        text-align: right;\n    }\n</style>\n<table border=\"1\" class=\"dataframe\">\n  <thead>\n    <tr style=\"text-align: right;\">\n      <th></th>\n      <th>A</th>\n      <th>B</th>\n      <th>C</th>\n      <th>D</th>\n      <th>E</th>\n      <th>F</th>\n      <th>G</th>\n      <th>H</th>\n    </tr>\n  </thead>\n  <tbody>\n    <tr>\n      <th>0</th>\n      <td>5</td>\n      <td>1</td>\n      <td>1</td>\n      <td>6</td>\n      <td>4</td>\n      <td>2</td>\n      <td>9</td>\n      <td>0</td>\n    </tr>\n    <tr>\n      <th>1</th>\n      <td>4</td>\n      <td>2</td>\n      <td>6</td>\n      <td>0</td>\n      <td>6</td>\n      <td>6</td>\n      <td>4</td>\n      <td>4</td>\n    </tr>\n    <tr>\n      <th>2</th>\n      <td>9</td>\n      <td>7</td>\n      <td>8</td>\n      <td>4</td>\n      <td>2</td>\n      <td>3</td>\n      <td>5</td>\n      <td>0</td>\n    </tr>\n    <tr>\n      <th>3</th>\n      <td>5</td>\n      <td>0</td>\n      <td>9</td>\n      <td>5</td>\n      <td>0</td>\n      <td>6</td>\n      <td>3</td>\n      <td>1</td>\n    </tr>\n    <tr>\n      <th>4</th>\n      <td>8</td>\n      <td>7</td>\n      <td>3</td>\n      <td>3</td>\n      <td>4</td>\n      <td>0</td>\n      <td>5</td>\n      <td>7</td>\n    </tr>\n    <tr>\n      <th>5</th>\n      <td>5</td>\n      <td>4</td>\n      <td>1</td>\n      <td>4</td>\n      <td>1</td>\n      <td>5</td>\n      <td>5</td>\n      <td>6</td>\n    </tr>\n    <tr>\n      <th>6</th>\n      <td>2</td>\n      <td>3</td>\n      <td>3</td>\n      <td>7</td>\n      <td>7</td>\n      <td>3</td>\n      <td>1</td>\n      <td>1</td>\n    </tr>\n    <tr>\n      <th>7</th>\n      <td>2</td>\n      <td>8</td>\n      <td>1</td>\n      <td>9</td>\n      <td>5</td>\n      <td>4</td>\n      <td>2</td>\n      <td>4</td>\n    </tr>\n  </tbody>\n</table>\n</div>", 
                        "text/plain": "   A  B  C  D  E  F  G  H\n0  5  1  1  6  4  2  9  0\n1  4  2  6  0  6  6  4  4\n2  9  7  8  4  2  3  5  0\n3  5  0  9  5  0  6  3  1\n4  8  7  3  3  4  0  5  7\n5  5  4  1  4  1  5  5  6\n6  2  3  3  7  7  3  1  1\n7  2  8  1  9  5  4  2  4"
                    }, 
                    "output_type": "execute_result"
                }, 
                {
                    "execution_count": 30, 
                    "metadata": {}, 
                    "data": {
                        "text/html": "<div>\n<style scoped>\n    .dataframe tbody tr th:only-of-type {\n        vertical-align: middle;\n    }\n\n    .dataframe tbody tr th {\n        vertical-align: top;\n    }\n\n    .dataframe thead th {\n        text-align: right;\n    }\n</style>\n<table border=\"1\" class=\"dataframe\">\n  <thead>\n    <tr style=\"text-align: right;\">\n      <th></th>\n      <th>A</th>\n      <th>B</th>\n      <th>C</th>\n      <th>D</th>\n      <th>E</th>\n      <th>F</th>\n      <th>G</th>\n      <th>H</th>\n    </tr>\n  </thead>\n  <tbody>\n    <tr>\n      <th>0</th>\n      <td>24</td>\n      <td>23</td>\n      <td>24</td>\n      <td>24</td>\n      <td>22</td>\n      <td>23</td>\n      <td>23</td>\n      <td>22</td>\n    </tr>\n    <tr>\n      <th>1</th>\n      <td>22</td>\n      <td>22</td>\n      <td>23</td>\n      <td>22</td>\n      <td>23</td>\n      <td>24</td>\n      <td>24</td>\n      <td>21</td>\n    </tr>\n    <tr>\n      <th>2</th>\n      <td>24</td>\n      <td>24</td>\n      <td>23</td>\n      <td>20</td>\n      <td>20</td>\n      <td>21</td>\n      <td>22</td>\n      <td>20</td>\n    </tr>\n    <tr>\n      <th>3</th>\n      <td>24</td>\n      <td>23</td>\n      <td>21</td>\n      <td>22</td>\n      <td>23</td>\n      <td>22</td>\n      <td>20</td>\n      <td>22</td>\n    </tr>\n  </tbody>\n</table>\n</div>", 
                        "text/plain": "    A   B   C   D   E   F   G   H\n0  24  23  24  24  22  23  23  22\n1  22  22  23  22  23  24  24  21\n2  24  24  23  20  20  21  22  20\n3  24  23  21  22  23  22  20  22"
                    }, 
                    "output_type": "execute_result"
                }, 
                {
                    "execution_count": 30, 
                    "metadata": {}, 
                    "data": {
                        "text/html": "<div>\n<style scoped>\n    .dataframe tbody tr th:only-of-type {\n        vertical-align: middle;\n    }\n\n    .dataframe tbody tr th {\n        vertical-align: top;\n    }\n\n    .dataframe thead th {\n        text-align: right;\n    }\n</style>\n<table border=\"1\" class=\"dataframe\">\n  <thead>\n    <tr style=\"text-align: right;\">\n      <th></th>\n      <th>C</th>\n      <th>D</th>\n      <th>E</th>\n      <th>F</th>\n      <th>G</th>\n      <th>H</th>\n      <th>I</th>\n      <th>J</th>\n    </tr>\n  </thead>\n  <tbody>\n    <tr>\n      <th>0</th>\n      <td>20</td>\n      <td>23</td>\n      <td>20</td>\n      <td>22</td>\n      <td>22</td>\n      <td>23</td>\n      <td>23</td>\n      <td>22</td>\n    </tr>\n    <tr>\n      <th>1</th>\n      <td>23</td>\n      <td>22</td>\n      <td>24</td>\n      <td>20</td>\n      <td>21</td>\n      <td>24</td>\n      <td>21</td>\n      <td>21</td>\n    </tr>\n    <tr>\n      <th>2</th>\n      <td>24</td>\n      <td>22</td>\n      <td>20</td>\n      <td>22</td>\n      <td>20</td>\n      <td>20</td>\n      <td>23</td>\n      <td>24</td>\n    </tr>\n    <tr>\n      <th>3</th>\n      <td>24</td>\n      <td>24</td>\n      <td>21</td>\n      <td>24</td>\n      <td>24</td>\n      <td>21</td>\n      <td>23</td>\n      <td>20</td>\n    </tr>\n  </tbody>\n</table>\n</div>", 
                        "text/plain": "    C   D   E   F   G   H   I   J\n0  20  23  20  22  22  23  23  22\n1  23  22  24  20  21  24  21  21\n2  24  22  20  22  20  20  23  24\n3  24  24  21  24  24  21  23  20"
                    }, 
                    "output_type": "execute_result"
                }
            ], 
            "source": "# Se crea data frame para ejemplo\ndf1 = pd.DataFrame(np.random.randint(0,10,size = (8,8)), columns=list('ABCDEFGH'))\ndf1\ndf2 = pd.DataFrame(np.random.randint(20,25,size = (4,8)), columns=list('ABCDEFGH'))\ndf2\ndf3 = pd.DataFrame(np.random.randint(20,25,size = (4,8)), columns=list('CDEFGHIJ'))\ndf3"
        }, 
        {
            "execution_count": 31, 
            "cell_type": "code", 
            "metadata": {}, 
            "outputs": [
                {
                    "execution_count": 31, 
                    "metadata": {}, 
                    "data": {
                        "text/html": "<div>\n<style scoped>\n    .dataframe tbody tr th:only-of-type {\n        vertical-align: middle;\n    }\n\n    .dataframe tbody tr th {\n        vertical-align: top;\n    }\n\n    .dataframe thead th {\n        text-align: right;\n    }\n</style>\n<table border=\"1\" class=\"dataframe\">\n  <thead>\n    <tr style=\"text-align: right;\">\n      <th></th>\n      <th>A</th>\n      <th>B</th>\n      <th>C</th>\n      <th>D</th>\n      <th>E</th>\n      <th>F</th>\n      <th>G</th>\n      <th>H</th>\n    </tr>\n  </thead>\n  <tbody>\n    <tr>\n      <th>0</th>\n      <td>5</td>\n      <td>1</td>\n      <td>1</td>\n      <td>6</td>\n      <td>4</td>\n      <td>2</td>\n      <td>9</td>\n      <td>0</td>\n    </tr>\n    <tr>\n      <th>1</th>\n      <td>4</td>\n      <td>2</td>\n      <td>6</td>\n      <td>0</td>\n      <td>6</td>\n      <td>6</td>\n      <td>4</td>\n      <td>4</td>\n    </tr>\n    <tr>\n      <th>2</th>\n      <td>9</td>\n      <td>7</td>\n      <td>8</td>\n      <td>4</td>\n      <td>2</td>\n      <td>3</td>\n      <td>5</td>\n      <td>0</td>\n    </tr>\n    <tr>\n      <th>3</th>\n      <td>5</td>\n      <td>0</td>\n      <td>9</td>\n      <td>5</td>\n      <td>0</td>\n      <td>6</td>\n      <td>3</td>\n      <td>1</td>\n    </tr>\n    <tr>\n      <th>4</th>\n      <td>8</td>\n      <td>7</td>\n      <td>3</td>\n      <td>3</td>\n      <td>4</td>\n      <td>0</td>\n      <td>5</td>\n      <td>7</td>\n    </tr>\n    <tr>\n      <th>5</th>\n      <td>5</td>\n      <td>4</td>\n      <td>1</td>\n      <td>4</td>\n      <td>1</td>\n      <td>5</td>\n      <td>5</td>\n      <td>6</td>\n    </tr>\n    <tr>\n      <th>6</th>\n      <td>2</td>\n      <td>3</td>\n      <td>3</td>\n      <td>7</td>\n      <td>7</td>\n      <td>3</td>\n      <td>1</td>\n      <td>1</td>\n    </tr>\n    <tr>\n      <th>7</th>\n      <td>2</td>\n      <td>8</td>\n      <td>1</td>\n      <td>9</td>\n      <td>5</td>\n      <td>4</td>\n      <td>2</td>\n      <td>4</td>\n    </tr>\n    <tr>\n      <th>0</th>\n      <td>24</td>\n      <td>23</td>\n      <td>24</td>\n      <td>24</td>\n      <td>22</td>\n      <td>23</td>\n      <td>23</td>\n      <td>22</td>\n    </tr>\n    <tr>\n      <th>1</th>\n      <td>22</td>\n      <td>22</td>\n      <td>23</td>\n      <td>22</td>\n      <td>23</td>\n      <td>24</td>\n      <td>24</td>\n      <td>21</td>\n    </tr>\n    <tr>\n      <th>2</th>\n      <td>24</td>\n      <td>24</td>\n      <td>23</td>\n      <td>20</td>\n      <td>20</td>\n      <td>21</td>\n      <td>22</td>\n      <td>20</td>\n    </tr>\n    <tr>\n      <th>3</th>\n      <td>24</td>\n      <td>23</td>\n      <td>21</td>\n      <td>22</td>\n      <td>23</td>\n      <td>22</td>\n      <td>20</td>\n      <td>22</td>\n    </tr>\n  </tbody>\n</table>\n</div>", 
                        "text/plain": "    A   B   C   D   E   F   G   H\n0   5   1   1   6   4   2   9   0\n1   4   2   6   0   6   6   4   4\n2   9   7   8   4   2   3   5   0\n3   5   0   9   5   0   6   3   1\n4   8   7   3   3   4   0   5   7\n5   5   4   1   4   1   5   5   6\n6   2   3   3   7   7   3   1   1\n7   2   8   1   9   5   4   2   4\n0  24  23  24  24  22  23  23  22\n1  22  22  23  22  23  24  24  21\n2  24  24  23  20  20  21  22  20\n3  24  23  21  22  23  22  20  22"
                    }, 
                    "output_type": "execute_result"
                }
            ], 
            "source": "#https://pandas.pydata.org/pandas-docs/stable/merging.html\nresultado = pd.concat([df1,df2],join=\"outer\", join_axes=None, ignore_index=False,\n          keys=None, levels=None, names=None, verify_integrity=False,\n          copy=True)\nresultado"
        }, 
        {
            "execution_count": 32, 
            "cell_type": "code", 
            "metadata": {}, 
            "outputs": [
                {
                    "execution_count": 32, 
                    "metadata": {}, 
                    "data": {
                        "text/html": "<div>\n<style scoped>\n    .dataframe tbody tr th:only-of-type {\n        vertical-align: middle;\n    }\n\n    .dataframe tbody tr th {\n        vertical-align: top;\n    }\n\n    .dataframe thead th {\n        text-align: right;\n    }\n</style>\n<table border=\"1\" class=\"dataframe\">\n  <thead>\n    <tr style=\"text-align: right;\">\n      <th></th>\n      <th></th>\n      <th>A</th>\n      <th>B</th>\n      <th>C</th>\n      <th>D</th>\n      <th>E</th>\n      <th>F</th>\n      <th>G</th>\n      <th>H</th>\n      <th>I</th>\n      <th>J</th>\n    </tr>\n    <tr>\n      <th>Origen</th>\n      <th>ID</th>\n      <th></th>\n      <th></th>\n      <th></th>\n      <th></th>\n      <th></th>\n      <th></th>\n      <th></th>\n      <th></th>\n      <th></th>\n      <th></th>\n    </tr>\n  </thead>\n  <tbody>\n    <tr>\n      <th rowspan=\"8\" valign=\"top\">x</th>\n      <th>0</th>\n      <td>5.0</td>\n      <td>1.0</td>\n      <td>1</td>\n      <td>6</td>\n      <td>4</td>\n      <td>2</td>\n      <td>9</td>\n      <td>0</td>\n      <td>NaN</td>\n      <td>NaN</td>\n    </tr>\n    <tr>\n      <th>1</th>\n      <td>4.0</td>\n      <td>2.0</td>\n      <td>6</td>\n      <td>0</td>\n      <td>6</td>\n      <td>6</td>\n      <td>4</td>\n      <td>4</td>\n      <td>NaN</td>\n      <td>NaN</td>\n    </tr>\n    <tr>\n      <th>2</th>\n      <td>9.0</td>\n      <td>7.0</td>\n      <td>8</td>\n      <td>4</td>\n      <td>2</td>\n      <td>3</td>\n      <td>5</td>\n      <td>0</td>\n      <td>NaN</td>\n      <td>NaN</td>\n    </tr>\n    <tr>\n      <th>3</th>\n      <td>5.0</td>\n      <td>0.0</td>\n      <td>9</td>\n      <td>5</td>\n      <td>0</td>\n      <td>6</td>\n      <td>3</td>\n      <td>1</td>\n      <td>NaN</td>\n      <td>NaN</td>\n    </tr>\n    <tr>\n      <th>4</th>\n      <td>8.0</td>\n      <td>7.0</td>\n      <td>3</td>\n      <td>3</td>\n      <td>4</td>\n      <td>0</td>\n      <td>5</td>\n      <td>7</td>\n      <td>NaN</td>\n      <td>NaN</td>\n    </tr>\n    <tr>\n      <th>5</th>\n      <td>5.0</td>\n      <td>4.0</td>\n      <td>1</td>\n      <td>4</td>\n      <td>1</td>\n      <td>5</td>\n      <td>5</td>\n      <td>6</td>\n      <td>NaN</td>\n      <td>NaN</td>\n    </tr>\n    <tr>\n      <th>6</th>\n      <td>2.0</td>\n      <td>3.0</td>\n      <td>3</td>\n      <td>7</td>\n      <td>7</td>\n      <td>3</td>\n      <td>1</td>\n      <td>1</td>\n      <td>NaN</td>\n      <td>NaN</td>\n    </tr>\n    <tr>\n      <th>7</th>\n      <td>2.0</td>\n      <td>8.0</td>\n      <td>1</td>\n      <td>9</td>\n      <td>5</td>\n      <td>4</td>\n      <td>2</td>\n      <td>4</td>\n      <td>NaN</td>\n      <td>NaN</td>\n    </tr>\n    <tr>\n      <th rowspan=\"4\" valign=\"top\">y</th>\n      <th>0</th>\n      <td>24.0</td>\n      <td>23.0</td>\n      <td>24</td>\n      <td>24</td>\n      <td>22</td>\n      <td>23</td>\n      <td>23</td>\n      <td>22</td>\n      <td>NaN</td>\n      <td>NaN</td>\n    </tr>\n    <tr>\n      <th>1</th>\n      <td>22.0</td>\n      <td>22.0</td>\n      <td>23</td>\n      <td>22</td>\n      <td>23</td>\n      <td>24</td>\n      <td>24</td>\n      <td>21</td>\n      <td>NaN</td>\n      <td>NaN</td>\n    </tr>\n    <tr>\n      <th>2</th>\n      <td>24.0</td>\n      <td>24.0</td>\n      <td>23</td>\n      <td>20</td>\n      <td>20</td>\n      <td>21</td>\n      <td>22</td>\n      <td>20</td>\n      <td>NaN</td>\n      <td>NaN</td>\n    </tr>\n    <tr>\n      <th>3</th>\n      <td>24.0</td>\n      <td>23.0</td>\n      <td>21</td>\n      <td>22</td>\n      <td>23</td>\n      <td>22</td>\n      <td>20</td>\n      <td>22</td>\n      <td>NaN</td>\n      <td>NaN</td>\n    </tr>\n    <tr>\n      <th rowspan=\"4\" valign=\"top\">z</th>\n      <th>0</th>\n      <td>NaN</td>\n      <td>NaN</td>\n      <td>20</td>\n      <td>23</td>\n      <td>20</td>\n      <td>22</td>\n      <td>22</td>\n      <td>23</td>\n      <td>23.0</td>\n      <td>22.0</td>\n    </tr>\n    <tr>\n      <th>1</th>\n      <td>NaN</td>\n      <td>NaN</td>\n      <td>23</td>\n      <td>22</td>\n      <td>24</td>\n      <td>20</td>\n      <td>21</td>\n      <td>24</td>\n      <td>21.0</td>\n      <td>21.0</td>\n    </tr>\n    <tr>\n      <th>2</th>\n      <td>NaN</td>\n      <td>NaN</td>\n      <td>24</td>\n      <td>22</td>\n      <td>20</td>\n      <td>22</td>\n      <td>20</td>\n      <td>20</td>\n      <td>23.0</td>\n      <td>24.0</td>\n    </tr>\n    <tr>\n      <th>3</th>\n      <td>NaN</td>\n      <td>NaN</td>\n      <td>24</td>\n      <td>24</td>\n      <td>21</td>\n      <td>24</td>\n      <td>24</td>\n      <td>21</td>\n      <td>23.0</td>\n      <td>20.0</td>\n    </tr>\n  </tbody>\n</table>\n</div>", 
                        "text/plain": "              A     B   C   D   E   F   G   H     I     J\nOrigen ID                                                \nx      0    5.0   1.0   1   6   4   2   9   0   NaN   NaN\n       1    4.0   2.0   6   0   6   6   4   4   NaN   NaN\n       2    9.0   7.0   8   4   2   3   5   0   NaN   NaN\n       3    5.0   0.0   9   5   0   6   3   1   NaN   NaN\n       4    8.0   7.0   3   3   4   0   5   7   NaN   NaN\n       5    5.0   4.0   1   4   1   5   5   6   NaN   NaN\n       6    2.0   3.0   3   7   7   3   1   1   NaN   NaN\n       7    2.0   8.0   1   9   5   4   2   4   NaN   NaN\ny      0   24.0  23.0  24  24  22  23  23  22   NaN   NaN\n       1   22.0  22.0  23  22  23  24  24  21   NaN   NaN\n       2   24.0  24.0  23  20  20  21  22  20   NaN   NaN\n       3   24.0  23.0  21  22  23  22  20  22   NaN   NaN\nz      0    NaN   NaN  20  23  20  22  22  23  23.0  22.0\n       1    NaN   NaN  23  22  24  20  21  24  21.0  21.0\n       2    NaN   NaN  24  22  20  22  20  20  23.0  24.0\n       3    NaN   NaN  24  24  21  24  24  21  23.0  20.0"
                    }, 
                    "output_type": "execute_result"
                }
            ], 
            "source": "#https://pandas.pydata.org/pandas-docs/stable/merging.html\nresultado = pd.concat([df1,df2,df3],join=\"outer\", join_axes=None, ignore_index=False,\n          keys=[\"x\",\"y\",\"z\"], levels=None, names=[\"Origen\",\"ID\"], verify_integrity=False,\n          copy=True)\nresultado"
        }, 
        {
            "execution_count": 33, 
            "cell_type": "code", 
            "metadata": {}, 
            "outputs": [
                {
                    "execution_count": 33, 
                    "metadata": {}, 
                    "data": {
                        "text/html": "<div>\n<style scoped>\n    .dataframe tbody tr th:only-of-type {\n        vertical-align: middle;\n    }\n\n    .dataframe tbody tr th {\n        vertical-align: top;\n    }\n\n    .dataframe thead th {\n        text-align: right;\n    }\n</style>\n<table border=\"1\" class=\"dataframe\">\n  <thead>\n    <tr style=\"text-align: right;\">\n      <th></th>\n      <th></th>\n      <th>C</th>\n      <th>D</th>\n      <th>E</th>\n      <th>F</th>\n      <th>G</th>\n      <th>H</th>\n    </tr>\n    <tr>\n      <th>Origen</th>\n      <th>ID</th>\n      <th></th>\n      <th></th>\n      <th></th>\n      <th></th>\n      <th></th>\n      <th></th>\n    </tr>\n  </thead>\n  <tbody>\n    <tr>\n      <th rowspan=\"8\" valign=\"top\">x</th>\n      <th>0</th>\n      <td>1</td>\n      <td>6</td>\n      <td>4</td>\n      <td>2</td>\n      <td>9</td>\n      <td>0</td>\n    </tr>\n    <tr>\n      <th>1</th>\n      <td>6</td>\n      <td>0</td>\n      <td>6</td>\n      <td>6</td>\n      <td>4</td>\n      <td>4</td>\n    </tr>\n    <tr>\n      <th>2</th>\n      <td>8</td>\n      <td>4</td>\n      <td>2</td>\n      <td>3</td>\n      <td>5</td>\n      <td>0</td>\n    </tr>\n    <tr>\n      <th>3</th>\n      <td>9</td>\n      <td>5</td>\n      <td>0</td>\n      <td>6</td>\n      <td>3</td>\n      <td>1</td>\n    </tr>\n    <tr>\n      <th>4</th>\n      <td>3</td>\n      <td>3</td>\n      <td>4</td>\n      <td>0</td>\n      <td>5</td>\n      <td>7</td>\n    </tr>\n    <tr>\n      <th>5</th>\n      <td>1</td>\n      <td>4</td>\n      <td>1</td>\n      <td>5</td>\n      <td>5</td>\n      <td>6</td>\n    </tr>\n    <tr>\n      <th>6</th>\n      <td>3</td>\n      <td>7</td>\n      <td>7</td>\n      <td>3</td>\n      <td>1</td>\n      <td>1</td>\n    </tr>\n    <tr>\n      <th>7</th>\n      <td>1</td>\n      <td>9</td>\n      <td>5</td>\n      <td>4</td>\n      <td>2</td>\n      <td>4</td>\n    </tr>\n    <tr>\n      <th rowspan=\"4\" valign=\"top\">y</th>\n      <th>0</th>\n      <td>24</td>\n      <td>24</td>\n      <td>22</td>\n      <td>23</td>\n      <td>23</td>\n      <td>22</td>\n    </tr>\n    <tr>\n      <th>1</th>\n      <td>23</td>\n      <td>22</td>\n      <td>23</td>\n      <td>24</td>\n      <td>24</td>\n      <td>21</td>\n    </tr>\n    <tr>\n      <th>2</th>\n      <td>23</td>\n      <td>20</td>\n      <td>20</td>\n      <td>21</td>\n      <td>22</td>\n      <td>20</td>\n    </tr>\n    <tr>\n      <th>3</th>\n      <td>21</td>\n      <td>22</td>\n      <td>23</td>\n      <td>22</td>\n      <td>20</td>\n      <td>22</td>\n    </tr>\n    <tr>\n      <th rowspan=\"4\" valign=\"top\">z</th>\n      <th>0</th>\n      <td>20</td>\n      <td>23</td>\n      <td>20</td>\n      <td>22</td>\n      <td>22</td>\n      <td>23</td>\n    </tr>\n    <tr>\n      <th>1</th>\n      <td>23</td>\n      <td>22</td>\n      <td>24</td>\n      <td>20</td>\n      <td>21</td>\n      <td>24</td>\n    </tr>\n    <tr>\n      <th>2</th>\n      <td>24</td>\n      <td>22</td>\n      <td>20</td>\n      <td>22</td>\n      <td>20</td>\n      <td>20</td>\n    </tr>\n    <tr>\n      <th>3</th>\n      <td>24</td>\n      <td>24</td>\n      <td>21</td>\n      <td>24</td>\n      <td>24</td>\n      <td>21</td>\n    </tr>\n  </tbody>\n</table>\n</div>", 
                        "text/plain": "            C   D   E   F   G   H\nOrigen ID                        \nx      0    1   6   4   2   9   0\n       1    6   0   6   6   4   4\n       2    8   4   2   3   5   0\n       3    9   5   0   6   3   1\n       4    3   3   4   0   5   7\n       5    1   4   1   5   5   6\n       6    3   7   7   3   1   1\n       7    1   9   5   4   2   4\ny      0   24  24  22  23  23  22\n       1   23  22  23  24  24  21\n       2   23  20  20  21  22  20\n       3   21  22  23  22  20  22\nz      0   20  23  20  22  22  23\n       1   23  22  24  20  21  24\n       2   24  22  20  22  20  20\n       3   24  24  21  24  24  21"
                    }, 
                    "output_type": "execute_result"
                }
            ], 
            "source": "#https://pandas.pydata.org/pandas-docs/stable/merging.html\n\n#Con inner\n\nresultado = pd.concat([df1,df2,df3],join=\"inner\", join_axes=None, ignore_index=False,\n          keys=[\"x\",\"y\",\"z\"], levels=None, names=[\"Origen\",\"ID\"], verify_integrity=False,\n          copy=True)\nresultado"
        }, 
        {
            "execution_count": 34, 
            "cell_type": "code", 
            "metadata": {}, 
            "outputs": [
                {
                    "execution_count": 34, 
                    "metadata": {}, 
                    "data": {
                        "text/html": "<div>\n<style scoped>\n    .dataframe tbody tr th:only-of-type {\n        vertical-align: middle;\n    }\n\n    .dataframe tbody tr th {\n        vertical-align: top;\n    }\n\n    .dataframe thead tr th {\n        text-align: left;\n    }\n</style>\n<table border=\"1\" class=\"dataframe\">\n  <thead>\n    <tr>\n      <th>Origen</th>\n      <th colspan=\"8\" halign=\"left\">x</th>\n      <th colspan=\"5\" halign=\"left\">y</th>\n      <th colspan=\"8\" halign=\"left\">z</th>\n    </tr>\n    <tr>\n      <th>ID</th>\n      <th>A</th>\n      <th>B</th>\n      <th>C</th>\n      <th>D</th>\n      <th>E</th>\n      <th>F</th>\n      <th>G</th>\n      <th>H</th>\n      <th>A</th>\n      <th>B</th>\n      <th>...</th>\n      <th>G</th>\n      <th>H</th>\n      <th>C</th>\n      <th>D</th>\n      <th>E</th>\n      <th>F</th>\n      <th>G</th>\n      <th>H</th>\n      <th>I</th>\n      <th>J</th>\n    </tr>\n  </thead>\n  <tbody>\n    <tr>\n      <th>0</th>\n      <td>5</td>\n      <td>1</td>\n      <td>1</td>\n      <td>6</td>\n      <td>4</td>\n      <td>2</td>\n      <td>9</td>\n      <td>0</td>\n      <td>24</td>\n      <td>23</td>\n      <td>...</td>\n      <td>23</td>\n      <td>22</td>\n      <td>20</td>\n      <td>23</td>\n      <td>20</td>\n      <td>22</td>\n      <td>22</td>\n      <td>23</td>\n      <td>23</td>\n      <td>22</td>\n    </tr>\n    <tr>\n      <th>1</th>\n      <td>4</td>\n      <td>2</td>\n      <td>6</td>\n      <td>0</td>\n      <td>6</td>\n      <td>6</td>\n      <td>4</td>\n      <td>4</td>\n      <td>22</td>\n      <td>22</td>\n      <td>...</td>\n      <td>24</td>\n      <td>21</td>\n      <td>23</td>\n      <td>22</td>\n      <td>24</td>\n      <td>20</td>\n      <td>21</td>\n      <td>24</td>\n      <td>21</td>\n      <td>21</td>\n    </tr>\n    <tr>\n      <th>2</th>\n      <td>9</td>\n      <td>7</td>\n      <td>8</td>\n      <td>4</td>\n      <td>2</td>\n      <td>3</td>\n      <td>5</td>\n      <td>0</td>\n      <td>24</td>\n      <td>24</td>\n      <td>...</td>\n      <td>22</td>\n      <td>20</td>\n      <td>24</td>\n      <td>22</td>\n      <td>20</td>\n      <td>22</td>\n      <td>20</td>\n      <td>20</td>\n      <td>23</td>\n      <td>24</td>\n    </tr>\n    <tr>\n      <th>3</th>\n      <td>5</td>\n      <td>0</td>\n      <td>9</td>\n      <td>5</td>\n      <td>0</td>\n      <td>6</td>\n      <td>3</td>\n      <td>1</td>\n      <td>24</td>\n      <td>23</td>\n      <td>...</td>\n      <td>20</td>\n      <td>22</td>\n      <td>24</td>\n      <td>24</td>\n      <td>21</td>\n      <td>24</td>\n      <td>24</td>\n      <td>21</td>\n      <td>23</td>\n      <td>20</td>\n    </tr>\n  </tbody>\n</table>\n<p>4 rows \u00d7 24 columns</p>\n</div>", 
                        "text/plain": "Origen  x                        y     ...           z                      \\\nID      A  B  C  D  E  F  G  H   A   B ...   G   H   C   D   E   F   G   H   \n0       5  1  1  6  4  2  9  0  24  23 ...  23  22  20  23  20  22  22  23   \n1       4  2  6  0  6  6  4  4  22  22 ...  24  21  23  22  24  20  21  24   \n2       9  7  8  4  2  3  5  0  24  24 ...  22  20  24  22  20  22  20  20   \n3       5  0  9  5  0  6  3  1  24  23 ...  20  22  24  24  21  24  24  21   \n\nOrigen          \nID       I   J  \n0       23  22  \n1       21  21  \n2       23  24  \n3       23  20  \n\n[4 rows x 24 columns]"
                    }, 
                    "output_type": "execute_result"
                }
            ], 
            "source": "#https://pandas.pydata.org/pandas-docs/stable/merging.html\n\n#Con axis 1 para unir por filas \n\nresultado = pd.concat([df1,df2,df3],axis=1,join=\"inner\", join_axes=None, ignore_index=False,\n          keys=[\"x\",\"y\",\"z\"], levels=None, names=[\"Origen\",\"ID\"], verify_integrity=False,\n          copy=True)\nresultado"
        }, 
        {
            "source": "## 10. Intervalos\nhttps://pandas.pydata.org/pandas-docs/stable/generated/pandas.cut.html", 
            "cell_type": "markdown", 
            "metadata": {}
        }, 
        {
            "execution_count": 35, 
            "cell_type": "code", 
            "metadata": {}, 
            "outputs": [
                {
                    "execution_count": 35, 
                    "metadata": {}, 
                    "data": {
                        "text/html": "<div>\n<style scoped>\n    .dataframe tbody tr th:only-of-type {\n        vertical-align: middle;\n    }\n\n    .dataframe tbody tr th {\n        vertical-align: top;\n    }\n\n    .dataframe thead th {\n        text-align: right;\n    }\n</style>\n<table border=\"1\" class=\"dataframe\">\n  <thead>\n    <tr style=\"text-align: right;\">\n      <th></th>\n      <th>mpg</th>\n      <th>cyl</th>\n      <th>disp</th>\n      <th>hp</th>\n      <th>drat</th>\n      <th>wt</th>\n      <th>qsec</th>\n      <th>vs</th>\n      <th>am</th>\n      <th>gear</th>\n      <th>carb</th>\n    </tr>\n  </thead>\n  <tbody>\n    <tr>\n      <th>Mazda RX4</th>\n      <td>21.0</td>\n      <td>6</td>\n      <td>160.0</td>\n      <td>110</td>\n      <td>3.90</td>\n      <td>2.620</td>\n      <td>16.46</td>\n      <td>0</td>\n      <td>1</td>\n      <td>4</td>\n      <td>4</td>\n    </tr>\n    <tr>\n      <th>Mazda RX4 Wag</th>\n      <td>21.0</td>\n      <td>6</td>\n      <td>160.0</td>\n      <td>110</td>\n      <td>3.90</td>\n      <td>2.875</td>\n      <td>17.02</td>\n      <td>0</td>\n      <td>1</td>\n      <td>4</td>\n      <td>4</td>\n    </tr>\n    <tr>\n      <th>Datsun 710</th>\n      <td>22.8</td>\n      <td>4</td>\n      <td>108.0</td>\n      <td>93</td>\n      <td>3.85</td>\n      <td>2.320</td>\n      <td>18.61</td>\n      <td>1</td>\n      <td>1</td>\n      <td>4</td>\n      <td>1</td>\n    </tr>\n    <tr>\n      <th>Hornet 4 Drive</th>\n      <td>21.4</td>\n      <td>6</td>\n      <td>258.0</td>\n      <td>110</td>\n      <td>3.08</td>\n      <td>3.215</td>\n      <td>19.44</td>\n      <td>1</td>\n      <td>0</td>\n      <td>3</td>\n      <td>1</td>\n    </tr>\n    <tr>\n      <th>Hornet Sportabout</th>\n      <td>18.7</td>\n      <td>8</td>\n      <td>360.0</td>\n      <td>175</td>\n      <td>3.15</td>\n      <td>3.440</td>\n      <td>17.02</td>\n      <td>0</td>\n      <td>0</td>\n      <td>3</td>\n      <td>2</td>\n    </tr>\n  </tbody>\n</table>\n</div>", 
                        "text/plain": "                    mpg  cyl   disp   hp  drat     wt   qsec  vs  am  gear  \\\nMazda RX4          21.0    6  160.0  110  3.90  2.620  16.46   0   1     4   \nMazda RX4 Wag      21.0    6  160.0  110  3.90  2.875  17.02   0   1     4   \nDatsun 710         22.8    4  108.0   93  3.85  2.320  18.61   1   1     4   \nHornet 4 Drive     21.4    6  258.0  110  3.08  3.215  19.44   1   0     3   \nHornet Sportabout  18.7    8  360.0  175  3.15  3.440  17.02   0   0     3   \n\n                   carb  \nMazda RX4             4  \nMazda RX4 Wag         4  \nDatsun 710            1  \nHornet 4 Drive        1  \nHornet Sportabout     2  "
                    }, 
                    "output_type": "execute_result"
                }, 
                {
                    "execution_count": 35, 
                    "metadata": {}, 
                    "data": {
                        "text/html": "<div>\n<style scoped>\n    .dataframe tbody tr th:only-of-type {\n        vertical-align: middle;\n    }\n\n    .dataframe tbody tr th {\n        vertical-align: top;\n    }\n\n    .dataframe thead th {\n        text-align: right;\n    }\n</style>\n<table border=\"1\" class=\"dataframe\">\n  <thead>\n    <tr style=\"text-align: right;\">\n      <th></th>\n      <th>mpg</th>\n      <th>cyl</th>\n      <th>disp</th>\n      <th>hp</th>\n      <th>drat</th>\n      <th>wt</th>\n      <th>qsec</th>\n      <th>vs</th>\n      <th>am</th>\n      <th>gear</th>\n      <th>carb</th>\n    </tr>\n  </thead>\n  <tbody>\n    <tr>\n      <th>count</th>\n      <td>32.000000</td>\n      <td>32.000000</td>\n      <td>32.000000</td>\n      <td>32.000000</td>\n      <td>32.000000</td>\n      <td>32.000000</td>\n      <td>32.000000</td>\n      <td>32.000000</td>\n      <td>32.000000</td>\n      <td>32.000000</td>\n      <td>32.0000</td>\n    </tr>\n    <tr>\n      <th>mean</th>\n      <td>20.090625</td>\n      <td>6.187500</td>\n      <td>230.721875</td>\n      <td>146.687500</td>\n      <td>3.596563</td>\n      <td>3.217250</td>\n      <td>17.848750</td>\n      <td>0.437500</td>\n      <td>0.406250</td>\n      <td>3.687500</td>\n      <td>2.8125</td>\n    </tr>\n    <tr>\n      <th>std</th>\n      <td>6.026948</td>\n      <td>1.785922</td>\n      <td>123.938694</td>\n      <td>68.562868</td>\n      <td>0.534679</td>\n      <td>0.978457</td>\n      <td>1.786943</td>\n      <td>0.504016</td>\n      <td>0.498991</td>\n      <td>0.737804</td>\n      <td>1.6152</td>\n    </tr>\n    <tr>\n      <th>min</th>\n      <td>10.400000</td>\n      <td>4.000000</td>\n      <td>71.100000</td>\n      <td>52.000000</td>\n      <td>2.760000</td>\n      <td>1.513000</td>\n      <td>14.500000</td>\n      <td>0.000000</td>\n      <td>0.000000</td>\n      <td>3.000000</td>\n      <td>1.0000</td>\n    </tr>\n    <tr>\n      <th>25%</th>\n      <td>15.425000</td>\n      <td>4.000000</td>\n      <td>120.825000</td>\n      <td>96.500000</td>\n      <td>3.080000</td>\n      <td>2.581250</td>\n      <td>16.892500</td>\n      <td>0.000000</td>\n      <td>0.000000</td>\n      <td>3.000000</td>\n      <td>2.0000</td>\n    </tr>\n    <tr>\n      <th>50%</th>\n      <td>19.200000</td>\n      <td>6.000000</td>\n      <td>196.300000</td>\n      <td>123.000000</td>\n      <td>3.695000</td>\n      <td>3.325000</td>\n      <td>17.710000</td>\n      <td>0.000000</td>\n      <td>0.000000</td>\n      <td>4.000000</td>\n      <td>2.0000</td>\n    </tr>\n    <tr>\n      <th>75%</th>\n      <td>22.800000</td>\n      <td>8.000000</td>\n      <td>326.000000</td>\n      <td>180.000000</td>\n      <td>3.920000</td>\n      <td>3.610000</td>\n      <td>18.900000</td>\n      <td>1.000000</td>\n      <td>1.000000</td>\n      <td>4.000000</td>\n      <td>4.0000</td>\n    </tr>\n    <tr>\n      <th>max</th>\n      <td>33.900000</td>\n      <td>8.000000</td>\n      <td>472.000000</td>\n      <td>335.000000</td>\n      <td>4.930000</td>\n      <td>5.424000</td>\n      <td>22.900000</td>\n      <td>1.000000</td>\n      <td>1.000000</td>\n      <td>5.000000</td>\n      <td>8.0000</td>\n    </tr>\n  </tbody>\n</table>\n</div>", 
                        "text/plain": "             mpg        cyl        disp          hp       drat         wt  \\\ncount  32.000000  32.000000   32.000000   32.000000  32.000000  32.000000   \nmean   20.090625   6.187500  230.721875  146.687500   3.596563   3.217250   \nstd     6.026948   1.785922  123.938694   68.562868   0.534679   0.978457   \nmin    10.400000   4.000000   71.100000   52.000000   2.760000   1.513000   \n25%    15.425000   4.000000  120.825000   96.500000   3.080000   2.581250   \n50%    19.200000   6.000000  196.300000  123.000000   3.695000   3.325000   \n75%    22.800000   8.000000  326.000000  180.000000   3.920000   3.610000   \nmax    33.900000   8.000000  472.000000  335.000000   4.930000   5.424000   \n\n            qsec         vs         am       gear     carb  \ncount  32.000000  32.000000  32.000000  32.000000  32.0000  \nmean   17.848750   0.437500   0.406250   3.687500   2.8125  \nstd     1.786943   0.504016   0.498991   0.737804   1.6152  \nmin    14.500000   0.000000   0.000000   3.000000   1.0000  \n25%    16.892500   0.000000   0.000000   3.000000   2.0000  \n50%    17.710000   0.000000   0.000000   4.000000   2.0000  \n75%    18.900000   1.000000   1.000000   4.000000   4.0000  \nmax    22.900000   1.000000   1.000000   5.000000   8.0000  "
                    }, 
                    "output_type": "execute_result"
                }, 
                {
                    "execution_count": 35, 
                    "metadata": {}, 
                    "data": {
                        "text/plain": "pandas.core.frame.DataFrame"
                    }, 
                    "output_type": "execute_result"
                }
            ], 
            "source": "#Se importa mismo set de datos que en R para comparar resultados\n\n#!pip install pydataset\nfrom pydataset import data\nmtcars = data(\"mtcars\")\nmtcars.head()\nmtcars.describe()\ntype(mtcars)"
        }, 
        {
            "source": "pandas.cut(x, bins, right=True, labels=None, retbins=False, precision=3, include_lowest=False)", 
            "cell_type": "markdown", 
            "metadata": {}
        }, 
        {
            "execution_count": 36, 
            "cell_type": "code", 
            "metadata": {}, 
            "outputs": [
                {
                    "execution_count": 36, 
                    "metadata": {}, 
                    "data": {
                        "text/plain": "count               32\nunique               5\ntop       (15.1, 19.8]\nfreq                12\nName: mpg, dtype: object"
                    }, 
                    "output_type": "execute_result"
                }, 
                {
                    "execution_count": 36, 
                    "metadata": {}, 
                    "data": {
                        "text/plain": "IntervalIndex([(10.376, 15.1], (15.1, 19.8], (19.8, 24.5], (24.5, 29.2], (29.2, 33.9]]\n              closed='right',\n              dtype='interval[float64]')"
                    }, 
                    "output_type": "execute_result"
                }, 
                {
                    "execution_count": 36, 
                    "metadata": {}, 
                    "data": {
                        "text/html": "<div>\n<style scoped>\n    .dataframe tbody tr th:only-of-type {\n        vertical-align: middle;\n    }\n\n    .dataframe tbody tr th {\n        vertical-align: top;\n    }\n\n    .dataframe thead th {\n        text-align: right;\n    }\n</style>\n<table border=\"1\" class=\"dataframe\">\n  <thead>\n    <tr style=\"text-align: right;\">\n      <th></th>\n      <th>mpg</th>\n      <th>cyl</th>\n      <th>disp</th>\n      <th>hp</th>\n      <th>drat</th>\n      <th>wt</th>\n      <th>qsec</th>\n      <th>vs</th>\n      <th>am</th>\n      <th>gear</th>\n      <th>carb</th>\n      <th>mpg</th>\n    </tr>\n  </thead>\n  <tbody>\n    <tr>\n      <th>Mazda RX4</th>\n      <td>21.0</td>\n      <td>6</td>\n      <td>160.0</td>\n      <td>110</td>\n      <td>3.90</td>\n      <td>2.620</td>\n      <td>16.46</td>\n      <td>0</td>\n      <td>1</td>\n      <td>4</td>\n      <td>4</td>\n      <td>(19.8, 24.5]</td>\n    </tr>\n    <tr>\n      <th>Mazda RX4 Wag</th>\n      <td>21.0</td>\n      <td>6</td>\n      <td>160.0</td>\n      <td>110</td>\n      <td>3.90</td>\n      <td>2.875</td>\n      <td>17.02</td>\n      <td>0</td>\n      <td>1</td>\n      <td>4</td>\n      <td>4</td>\n      <td>(19.8, 24.5]</td>\n    </tr>\n    <tr>\n      <th>Datsun 710</th>\n      <td>22.8</td>\n      <td>4</td>\n      <td>108.0</td>\n      <td>93</td>\n      <td>3.85</td>\n      <td>2.320</td>\n      <td>18.61</td>\n      <td>1</td>\n      <td>1</td>\n      <td>4</td>\n      <td>1</td>\n      <td>(19.8, 24.5]</td>\n    </tr>\n    <tr>\n      <th>Hornet 4 Drive</th>\n      <td>21.4</td>\n      <td>6</td>\n      <td>258.0</td>\n      <td>110</td>\n      <td>3.08</td>\n      <td>3.215</td>\n      <td>19.44</td>\n      <td>1</td>\n      <td>0</td>\n      <td>3</td>\n      <td>1</td>\n      <td>(19.8, 24.5]</td>\n    </tr>\n    <tr>\n      <th>Hornet Sportabout</th>\n      <td>18.7</td>\n      <td>8</td>\n      <td>360.0</td>\n      <td>175</td>\n      <td>3.15</td>\n      <td>3.440</td>\n      <td>17.02</td>\n      <td>0</td>\n      <td>0</td>\n      <td>3</td>\n      <td>2</td>\n      <td>(15.1, 19.8]</td>\n    </tr>\n  </tbody>\n</table>\n</div>", 
                        "text/plain": "                    mpg  cyl   disp   hp  drat     wt   qsec  vs  am  gear  \\\nMazda RX4          21.0    6  160.0  110  3.90  2.620  16.46   0   1     4   \nMazda RX4 Wag      21.0    6  160.0  110  3.90  2.875  17.02   0   1     4   \nDatsun 710         22.8    4  108.0   93  3.85  2.320  18.61   1   1     4   \nHornet 4 Drive     21.4    6  258.0  110  3.08  3.215  19.44   1   0     3   \nHornet Sportabout  18.7    8  360.0  175  3.15  3.440  17.02   0   0     3   \n\n                   carb           mpg  \nMazda RX4             4  (19.8, 24.5]  \nMazda RX4 Wag         4  (19.8, 24.5]  \nDatsun 710            1  (19.8, 24.5]  \nHornet 4 Drive        1  (19.8, 24.5]  \nHornet Sportabout     2  (15.1, 19.8]  "
                    }, 
                    "output_type": "execute_result"
                }
            ], 
            "source": "# Se parte variable mpg en 5 partes iguales\nmpg_cat = pd.cut(mtcars[\"mpg\"],5)\nmpg_cat.describe()\nmpg_cat.cat.categories\npd.concat([mtcars, mpg_cat],axis=1).head()"
        }, 
        {
            "execution_count": 37, 
            "cell_type": "code", 
            "metadata": {}, 
            "outputs": [
                {
                    "execution_count": 37, 
                    "metadata": {}, 
                    "data": {
                        "text/plain": "count       28\nunique       4\ntop       Cat2\nfreq        13\nName: mpg, dtype: object"
                    }, 
                    "output_type": "execute_result"
                }, 
                {
                    "execution_count": 37, 
                    "metadata": {}, 
                    "data": {
                        "text/plain": "Index(['Cat1', 'Cat2', 'Cat3', 'Cat4'], dtype='object')"
                    }, 
                    "output_type": "execute_result"
                }, 
                {
                    "execution_count": 37, 
                    "metadata": {}, 
                    "data": {
                        "text/html": "<div>\n<style scoped>\n    .dataframe tbody tr th:only-of-type {\n        vertical-align: middle;\n    }\n\n    .dataframe tbody tr th {\n        vertical-align: top;\n    }\n\n    .dataframe thead th {\n        text-align: right;\n    }\n</style>\n<table border=\"1\" class=\"dataframe\">\n  <thead>\n    <tr style=\"text-align: right;\">\n      <th></th>\n      <th>mpg</th>\n      <th>cyl</th>\n      <th>disp</th>\n      <th>hp</th>\n      <th>drat</th>\n      <th>wt</th>\n      <th>qsec</th>\n      <th>vs</th>\n      <th>am</th>\n      <th>gear</th>\n      <th>carb</th>\n      <th>mpg</th>\n    </tr>\n  </thead>\n  <tbody>\n    <tr>\n      <th>Mazda RX4</th>\n      <td>21.0</td>\n      <td>6</td>\n      <td>160.0</td>\n      <td>110</td>\n      <td>3.90</td>\n      <td>2.620</td>\n      <td>16.46</td>\n      <td>0</td>\n      <td>1</td>\n      <td>4</td>\n      <td>4</td>\n      <td>Cat3</td>\n    </tr>\n    <tr>\n      <th>Mazda RX4 Wag</th>\n      <td>21.0</td>\n      <td>6</td>\n      <td>160.0</td>\n      <td>110</td>\n      <td>3.90</td>\n      <td>2.875</td>\n      <td>17.02</td>\n      <td>0</td>\n      <td>1</td>\n      <td>4</td>\n      <td>4</td>\n      <td>Cat3</td>\n    </tr>\n    <tr>\n      <th>Datsun 710</th>\n      <td>22.8</td>\n      <td>4</td>\n      <td>108.0</td>\n      <td>93</td>\n      <td>3.85</td>\n      <td>2.320</td>\n      <td>18.61</td>\n      <td>1</td>\n      <td>1</td>\n      <td>4</td>\n      <td>1</td>\n      <td>Cat3</td>\n    </tr>\n    <tr>\n      <th>Hornet 4 Drive</th>\n      <td>21.4</td>\n      <td>6</td>\n      <td>258.0</td>\n      <td>110</td>\n      <td>3.08</td>\n      <td>3.215</td>\n      <td>19.44</td>\n      <td>1</td>\n      <td>0</td>\n      <td>3</td>\n      <td>1</td>\n      <td>Cat3</td>\n    </tr>\n    <tr>\n      <th>Hornet Sportabout</th>\n      <td>18.7</td>\n      <td>8</td>\n      <td>360.0</td>\n      <td>175</td>\n      <td>3.15</td>\n      <td>3.440</td>\n      <td>17.02</td>\n      <td>0</td>\n      <td>0</td>\n      <td>3</td>\n      <td>2</td>\n      <td>Cat2</td>\n    </tr>\n  </tbody>\n</table>\n</div>", 
                        "text/plain": "                    mpg  cyl   disp   hp  drat     wt   qsec  vs  am  gear  \\\nMazda RX4          21.0    6  160.0  110  3.90  2.620  16.46   0   1     4   \nMazda RX4 Wag      21.0    6  160.0  110  3.90  2.875  17.02   0   1     4   \nDatsun 710         22.8    4  108.0   93  3.85  2.320  18.61   1   1     4   \nHornet 4 Drive     21.4    6  258.0  110  3.08  3.215  19.44   1   0     3   \nHornet Sportabout  18.7    8  360.0  175  3.15  3.440  17.02   0   0     3   \n\n                   carb   mpg  \nMazda RX4             4  Cat3  \nMazda RX4 Wag         4  Cat3  \nDatsun 710            1  Cat3  \nHornet 4 Drive        1  Cat3  \nHornet Sportabout     2  Cat2  "
                    }, 
                    "output_type": "execute_result"
                }
            ], 
            "source": "# Se parte variable mpg en los valores introducidos\nmpg_cat = pd.cut(mtcars[\"mpg\"],[10,15,20,25,30],right=False, labels=[\"Cat1\",\"Cat2\", \"Cat3\",\"Cat4\"]) #Adicionalmente se cambia el extremo que se inlcuye en el rango a que sea en la izquierda\nmpg_cat.describe()\nmpg_cat.cat.categories\npd.concat([mtcars, mpg_cat],axis=1).head()"
        }, 
        {
            "source": "## 11. Partici\u00f3n", 
            "cell_type": "markdown", 
            "metadata": {}
        }, 
        {
            "execution_count": 46, 
            "cell_type": "code", 
            "metadata": {}, 
            "outputs": [
                {
                    "execution_count": 46, 
                    "metadata": {}, 
                    "data": {
                        "text/plain": "dtype('float64')"
                    }, 
                    "output_type": "execute_result"
                }, 
                {
                    "output_type": "stream", 
                    "name": "stdout", 
                    "text": "Ver \u00edndices\n"
                }, 
                {
                    "execution_count": 46, 
                    "metadata": {}, 
                    "data": {
                        "text/plain": "array([20, 28, 26, 23, 22,  0, 29,  7, 27,  9, 19, 13, 12, 15,  6,  4, 17,\n       30, 18, 11,  1,  8, 31,  2])"
                    }, 
                    "output_type": "execute_result"
                }, 
                {
                    "execution_count": 46, 
                    "metadata": {}, 
                    "data": {
                        "text/plain": "array([False, False, False,  True, False,  True, False, False, False,\n       False,  True, False, False, False,  True, False,  True, False,\n       False, False, False,  True, False, False,  True,  True, False,\n       False, False, False, False, False], dtype=bool)"
                    }, 
                    "output_type": "execute_result"
                }, 
                {
                    "execution_count": 46, 
                    "metadata": {}, 
                    "data": {
                        "text/html": "<div>\n<style scoped>\n    .dataframe tbody tr th:only-of-type {\n        vertical-align: middle;\n    }\n\n    .dataframe tbody tr th {\n        vertical-align: top;\n    }\n\n    .dataframe thead th {\n        text-align: right;\n    }\n</style>\n<table border=\"1\" class=\"dataframe\">\n  <thead>\n    <tr style=\"text-align: right;\">\n      <th></th>\n      <th>mpg</th>\n      <th>cyl</th>\n      <th>disp</th>\n      <th>hp</th>\n      <th>drat</th>\n      <th>wt</th>\n      <th>qsec</th>\n      <th>vs</th>\n      <th>am</th>\n      <th>gear</th>\n      <th>carb</th>\n    </tr>\n  </thead>\n  <tbody>\n    <tr>\n      <th>Toyota Corona</th>\n      <td>21.5</td>\n      <td>4</td>\n      <td>120.1</td>\n      <td>97</td>\n      <td>3.70</td>\n      <td>2.465</td>\n      <td>20.01</td>\n      <td>1</td>\n      <td>0</td>\n      <td>3</td>\n      <td>1</td>\n    </tr>\n    <tr>\n      <th>Ford Pantera L</th>\n      <td>15.8</td>\n      <td>8</td>\n      <td>351.0</td>\n      <td>264</td>\n      <td>4.22</td>\n      <td>3.170</td>\n      <td>14.50</td>\n      <td>0</td>\n      <td>1</td>\n      <td>5</td>\n      <td>4</td>\n    </tr>\n    <tr>\n      <th>Porsche 914-2</th>\n      <td>26.0</td>\n      <td>4</td>\n      <td>120.3</td>\n      <td>91</td>\n      <td>4.43</td>\n      <td>2.140</td>\n      <td>16.70</td>\n      <td>0</td>\n      <td>1</td>\n      <td>5</td>\n      <td>2</td>\n    </tr>\n    <tr>\n      <th>Camaro Z28</th>\n      <td>13.3</td>\n      <td>8</td>\n      <td>350.0</td>\n      <td>245</td>\n      <td>3.73</td>\n      <td>3.840</td>\n      <td>15.41</td>\n      <td>0</td>\n      <td>0</td>\n      <td>3</td>\n      <td>4</td>\n    </tr>\n    <tr>\n      <th>AMC Javelin</th>\n      <td>15.2</td>\n      <td>8</td>\n      <td>304.0</td>\n      <td>150</td>\n      <td>3.15</td>\n      <td>3.435</td>\n      <td>17.30</td>\n      <td>0</td>\n      <td>0</td>\n      <td>3</td>\n      <td>2</td>\n    </tr>\n    <tr>\n      <th>Mazda RX4</th>\n      <td>21.0</td>\n      <td>6</td>\n      <td>160.0</td>\n      <td>110</td>\n      <td>3.90</td>\n      <td>2.620</td>\n      <td>16.46</td>\n      <td>0</td>\n      <td>1</td>\n      <td>4</td>\n      <td>4</td>\n    </tr>\n    <tr>\n      <th>Ferrari Dino</th>\n      <td>19.7</td>\n      <td>6</td>\n      <td>145.0</td>\n      <td>175</td>\n      <td>3.62</td>\n      <td>2.770</td>\n      <td>15.50</td>\n      <td>0</td>\n      <td>1</td>\n      <td>5</td>\n      <td>6</td>\n    </tr>\n    <tr>\n      <th>Merc 240D</th>\n      <td>24.4</td>\n      <td>4</td>\n      <td>146.7</td>\n      <td>62</td>\n      <td>3.69</td>\n      <td>3.190</td>\n      <td>20.00</td>\n      <td>1</td>\n      <td>0</td>\n      <td>4</td>\n      <td>2</td>\n    </tr>\n    <tr>\n      <th>Lotus Europa</th>\n      <td>30.4</td>\n      <td>4</td>\n      <td>95.1</td>\n      <td>113</td>\n      <td>3.77</td>\n      <td>1.513</td>\n      <td>16.90</td>\n      <td>1</td>\n      <td>1</td>\n      <td>5</td>\n      <td>2</td>\n    </tr>\n    <tr>\n      <th>Merc 280</th>\n      <td>19.2</td>\n      <td>6</td>\n      <td>167.6</td>\n      <td>123</td>\n      <td>3.92</td>\n      <td>3.440</td>\n      <td>18.30</td>\n      <td>1</td>\n      <td>0</td>\n      <td>4</td>\n      <td>4</td>\n    </tr>\n    <tr>\n      <th>Toyota Corolla</th>\n      <td>33.9</td>\n      <td>4</td>\n      <td>71.1</td>\n      <td>65</td>\n      <td>4.22</td>\n      <td>1.835</td>\n      <td>19.90</td>\n      <td>1</td>\n      <td>1</td>\n      <td>4</td>\n      <td>1</td>\n    </tr>\n    <tr>\n      <th>Merc 450SLC</th>\n      <td>15.2</td>\n      <td>8</td>\n      <td>275.8</td>\n      <td>180</td>\n      <td>3.07</td>\n      <td>3.780</td>\n      <td>18.00</td>\n      <td>0</td>\n      <td>0</td>\n      <td>3</td>\n      <td>3</td>\n    </tr>\n    <tr>\n      <th>Merc 450SL</th>\n      <td>17.3</td>\n      <td>8</td>\n      <td>275.8</td>\n      <td>180</td>\n      <td>3.07</td>\n      <td>3.730</td>\n      <td>17.60</td>\n      <td>0</td>\n      <td>0</td>\n      <td>3</td>\n      <td>3</td>\n    </tr>\n    <tr>\n      <th>Lincoln Continental</th>\n      <td>10.4</td>\n      <td>8</td>\n      <td>460.0</td>\n      <td>215</td>\n      <td>3.00</td>\n      <td>5.424</td>\n      <td>17.82</td>\n      <td>0</td>\n      <td>0</td>\n      <td>3</td>\n      <td>4</td>\n    </tr>\n    <tr>\n      <th>Duster 360</th>\n      <td>14.3</td>\n      <td>8</td>\n      <td>360.0</td>\n      <td>245</td>\n      <td>3.21</td>\n      <td>3.570</td>\n      <td>15.84</td>\n      <td>0</td>\n      <td>0</td>\n      <td>3</td>\n      <td>4</td>\n    </tr>\n    <tr>\n      <th>Hornet Sportabout</th>\n      <td>18.7</td>\n      <td>8</td>\n      <td>360.0</td>\n      <td>175</td>\n      <td>3.15</td>\n      <td>3.440</td>\n      <td>17.02</td>\n      <td>0</td>\n      <td>0</td>\n      <td>3</td>\n      <td>2</td>\n    </tr>\n    <tr>\n      <th>Fiat 128</th>\n      <td>32.4</td>\n      <td>4</td>\n      <td>78.7</td>\n      <td>66</td>\n      <td>4.08</td>\n      <td>2.200</td>\n      <td>19.47</td>\n      <td>1</td>\n      <td>1</td>\n      <td>4</td>\n      <td>1</td>\n    </tr>\n    <tr>\n      <th>Maserati Bora</th>\n      <td>15.0</td>\n      <td>8</td>\n      <td>301.0</td>\n      <td>335</td>\n      <td>3.54</td>\n      <td>3.570</td>\n      <td>14.60</td>\n      <td>0</td>\n      <td>1</td>\n      <td>5</td>\n      <td>8</td>\n    </tr>\n    <tr>\n      <th>Honda Civic</th>\n      <td>30.4</td>\n      <td>4</td>\n      <td>75.7</td>\n      <td>52</td>\n      <td>4.93</td>\n      <td>1.615</td>\n      <td>18.52</td>\n      <td>1</td>\n      <td>1</td>\n      <td>4</td>\n      <td>2</td>\n    </tr>\n    <tr>\n      <th>Merc 450SE</th>\n      <td>16.4</td>\n      <td>8</td>\n      <td>275.8</td>\n      <td>180</td>\n      <td>3.07</td>\n      <td>4.070</td>\n      <td>17.40</td>\n      <td>0</td>\n      <td>0</td>\n      <td>3</td>\n      <td>3</td>\n    </tr>\n    <tr>\n      <th>Mazda RX4 Wag</th>\n      <td>21.0</td>\n      <td>6</td>\n      <td>160.0</td>\n      <td>110</td>\n      <td>3.90</td>\n      <td>2.875</td>\n      <td>17.02</td>\n      <td>0</td>\n      <td>1</td>\n      <td>4</td>\n      <td>4</td>\n    </tr>\n    <tr>\n      <th>Merc 230</th>\n      <td>22.8</td>\n      <td>4</td>\n      <td>140.8</td>\n      <td>95</td>\n      <td>3.92</td>\n      <td>3.150</td>\n      <td>22.90</td>\n      <td>1</td>\n      <td>0</td>\n      <td>4</td>\n      <td>2</td>\n    </tr>\n    <tr>\n      <th>Volvo 142E</th>\n      <td>21.4</td>\n      <td>4</td>\n      <td>121.0</td>\n      <td>109</td>\n      <td>4.11</td>\n      <td>2.780</td>\n      <td>18.60</td>\n      <td>1</td>\n      <td>1</td>\n      <td>4</td>\n      <td>2</td>\n    </tr>\n    <tr>\n      <th>Datsun 710</th>\n      <td>22.8</td>\n      <td>4</td>\n      <td>108.0</td>\n      <td>93</td>\n      <td>3.85</td>\n      <td>2.320</td>\n      <td>18.61</td>\n      <td>1</td>\n      <td>1</td>\n      <td>4</td>\n      <td>1</td>\n    </tr>\n  </tbody>\n</table>\n</div>", 
                        "text/plain": "                      mpg  cyl   disp   hp  drat     wt   qsec  vs  am  gear  \\\nToyota Corona        21.5    4  120.1   97  3.70  2.465  20.01   1   0     3   \nFord Pantera L       15.8    8  351.0  264  4.22  3.170  14.50   0   1     5   \nPorsche 914-2        26.0    4  120.3   91  4.43  2.140  16.70   0   1     5   \nCamaro Z28           13.3    8  350.0  245  3.73  3.840  15.41   0   0     3   \nAMC Javelin          15.2    8  304.0  150  3.15  3.435  17.30   0   0     3   \nMazda RX4            21.0    6  160.0  110  3.90  2.620  16.46   0   1     4   \nFerrari Dino         19.7    6  145.0  175  3.62  2.770  15.50   0   1     5   \nMerc 240D            24.4    4  146.7   62  3.69  3.190  20.00   1   0     4   \nLotus Europa         30.4    4   95.1  113  3.77  1.513  16.90   1   1     5   \nMerc 280             19.2    6  167.6  123  3.92  3.440  18.30   1   0     4   \nToyota Corolla       33.9    4   71.1   65  4.22  1.835  19.90   1   1     4   \nMerc 450SLC          15.2    8  275.8  180  3.07  3.780  18.00   0   0     3   \nMerc 450SL           17.3    8  275.8  180  3.07  3.730  17.60   0   0     3   \nLincoln Continental  10.4    8  460.0  215  3.00  5.424  17.82   0   0     3   \nDuster 360           14.3    8  360.0  245  3.21  3.570  15.84   0   0     3   \nHornet Sportabout    18.7    8  360.0  175  3.15  3.440  17.02   0   0     3   \nFiat 128             32.4    4   78.7   66  4.08  2.200  19.47   1   1     4   \nMaserati Bora        15.0    8  301.0  335  3.54  3.570  14.60   0   1     5   \nHonda Civic          30.4    4   75.7   52  4.93  1.615  18.52   1   1     4   \nMerc 450SE           16.4    8  275.8  180  3.07  4.070  17.40   0   0     3   \nMazda RX4 Wag        21.0    6  160.0  110  3.90  2.875  17.02   0   1     4   \nMerc 230             22.8    4  140.8   95  3.92  3.150  22.90   1   0     4   \nVolvo 142E           21.4    4  121.0  109  4.11  2.780  18.60   1   1     4   \nDatsun 710           22.8    4  108.0   93  3.85  2.320  18.61   1   1     4   \n\n                     carb  \nToyota Corona           1  \nFord Pantera L          4  \nPorsche 914-2           2  \nCamaro Z28              4  \nAMC Javelin             2  \nMazda RX4               4  \nFerrari Dino            6  \nMerc 240D               2  \nLotus Europa            2  \nMerc 280                4  \nToyota Corolla          1  \nMerc 450SLC             3  \nMerc 450SL              3  \nLincoln Continental     4  \nDuster 360              4  \nHornet Sportabout       2  \nFiat 128                1  \nMaserati Bora           8  \nHonda Civic             2  \nMerc 450SE              3  \nMazda RX4 Wag           4  \nMerc 230                2  \nVolvo 142E              2  \nDatsun 710              1  "
                    }, 
                    "output_type": "execute_result"
                }, 
                {
                    "execution_count": 46, 
                    "metadata": {}, 
                    "data": {
                        "text/html": "<div>\n<style scoped>\n    .dataframe tbody tr th:only-of-type {\n        vertical-align: middle;\n    }\n\n    .dataframe tbody tr th {\n        vertical-align: top;\n    }\n\n    .dataframe thead th {\n        text-align: right;\n    }\n</style>\n<table border=\"1\" class=\"dataframe\">\n  <thead>\n    <tr style=\"text-align: right;\">\n      <th></th>\n      <th>mpg</th>\n      <th>cyl</th>\n      <th>disp</th>\n      <th>hp</th>\n      <th>drat</th>\n      <th>wt</th>\n      <th>qsec</th>\n      <th>vs</th>\n      <th>am</th>\n      <th>gear</th>\n      <th>carb</th>\n    </tr>\n  </thead>\n  <tbody>\n    <tr>\n      <th>Hornet 4 Drive</th>\n      <td>21.4</td>\n      <td>6</td>\n      <td>258.0</td>\n      <td>110</td>\n      <td>3.08</td>\n      <td>3.215</td>\n      <td>19.44</td>\n      <td>1</td>\n      <td>0</td>\n      <td>3</td>\n      <td>1</td>\n    </tr>\n    <tr>\n      <th>Valiant</th>\n      <td>18.1</td>\n      <td>6</td>\n      <td>225.0</td>\n      <td>105</td>\n      <td>2.76</td>\n      <td>3.460</td>\n      <td>20.22</td>\n      <td>1</td>\n      <td>0</td>\n      <td>3</td>\n      <td>1</td>\n    </tr>\n    <tr>\n      <th>Merc 280C</th>\n      <td>17.8</td>\n      <td>6</td>\n      <td>167.6</td>\n      <td>123</td>\n      <td>3.92</td>\n      <td>3.440</td>\n      <td>18.90</td>\n      <td>1</td>\n      <td>0</td>\n      <td>4</td>\n      <td>4</td>\n    </tr>\n    <tr>\n      <th>Cadillac Fleetwood</th>\n      <td>10.4</td>\n      <td>8</td>\n      <td>472.0</td>\n      <td>205</td>\n      <td>2.93</td>\n      <td>5.250</td>\n      <td>17.98</td>\n      <td>0</td>\n      <td>0</td>\n      <td>3</td>\n      <td>4</td>\n    </tr>\n    <tr>\n      <th>Chrysler Imperial</th>\n      <td>14.7</td>\n      <td>8</td>\n      <td>440.0</td>\n      <td>230</td>\n      <td>3.23</td>\n      <td>5.345</td>\n      <td>17.42</td>\n      <td>0</td>\n      <td>0</td>\n      <td>3</td>\n      <td>4</td>\n    </tr>\n    <tr>\n      <th>Dodge Challenger</th>\n      <td>15.5</td>\n      <td>8</td>\n      <td>318.0</td>\n      <td>150</td>\n      <td>2.76</td>\n      <td>3.520</td>\n      <td>16.87</td>\n      <td>0</td>\n      <td>0</td>\n      <td>3</td>\n      <td>2</td>\n    </tr>\n    <tr>\n      <th>Pontiac Firebird</th>\n      <td>19.2</td>\n      <td>8</td>\n      <td>400.0</td>\n      <td>175</td>\n      <td>3.08</td>\n      <td>3.845</td>\n      <td>17.05</td>\n      <td>0</td>\n      <td>0</td>\n      <td>3</td>\n      <td>2</td>\n    </tr>\n    <tr>\n      <th>Fiat X1-9</th>\n      <td>27.3</td>\n      <td>4</td>\n      <td>79.0</td>\n      <td>66</td>\n      <td>4.08</td>\n      <td>1.935</td>\n      <td>18.90</td>\n      <td>1</td>\n      <td>1</td>\n      <td>4</td>\n      <td>1</td>\n    </tr>\n  </tbody>\n</table>\n</div>", 
                        "text/plain": "                     mpg  cyl   disp   hp  drat     wt   qsec  vs  am  gear  \\\nHornet 4 Drive      21.4    6  258.0  110  3.08  3.215  19.44   1   0     3   \nValiant             18.1    6  225.0  105  2.76  3.460  20.22   1   0     3   \nMerc 280C           17.8    6  167.6  123  3.92  3.440  18.90   1   0     4   \nCadillac Fleetwood  10.4    8  472.0  205  2.93  5.250  17.98   0   0     3   \nChrysler Imperial   14.7    8  440.0  230  3.23  5.345  17.42   0   0     3   \nDodge Challenger    15.5    8  318.0  150  2.76  3.520  16.87   0   0     3   \nPontiac Firebird    19.2    8  400.0  175  3.08  3.845  17.05   0   0     3   \nFiat X1-9           27.3    4   79.0   66  4.08  1.935  18.90   1   1     4   \n\n                    carb  \nHornet 4 Drive         1  \nValiant                1  \nMerc 280C              4  \nCadillac Fleetwood     4  \nChrysler Imperial      4  \nDodge Challenger       2  \nPontiac Firebird       2  \nFiat X1-9              1  "
                    }, 
                    "output_type": "execute_result"
                }
            ], 
            "source": "\n#Es similar a muestra, al tomarse una muestra de los \u00edndices de los registros\n#Se utiliza set de datos mtcars de R\n\n\n#Se define porcentaje para entrenamiento y prueba\nentrenamiento = 0.75\nprueba = 0.25\n\n#Se redondea para el n\u00famero de registros que es m\u00e1s cercano al porcentaje especificado. Hacia abajo\ntam_muestra = np.floor(entrenamiento*mtcars.shape[0])\nnp.dtype(tam_muestra)\nindicestotales = np.arange(mtcars.shape[0])\nind_entrenamiento = np.random.choice(indicestotales,int(tam_muestra),replace=False)\n\nprint(\"Ver \u00edndices\")\nind_entrenamiento\nind_prueba = ~np.isin(indicestotales,ind_entrenamiento)\nind_prueba\ndf_entrenamiento = mtcars.iloc[ind_entrenamiento,]\ndf_entrenamiento\ndf_prueba = mtcars.iloc[ind_prueba,]\ndf_prueba\n"
        }, 
        {
            "source": "## 12. Transponer", 
            "cell_type": "markdown", 
            "metadata": {}
        }, 
        {
            "execution_count": 39, 
            "cell_type": "code", 
            "metadata": {}, 
            "outputs": [
                {
                    "execution_count": 39, 
                    "metadata": {}, 
                    "data": {
                        "text/html": "<div>\n<style scoped>\n    .dataframe tbody tr th:only-of-type {\n        vertical-align: middle;\n    }\n\n    .dataframe tbody tr th {\n        vertical-align: top;\n    }\n\n    .dataframe thead th {\n        text-align: right;\n    }\n</style>\n<table border=\"1\" class=\"dataframe\">\n  <thead>\n    <tr style=\"text-align: right;\">\n      <th></th>\n      <th>0</th>\n      <th>1</th>\n      <th>2</th>\n      <th>3</th>\n    </tr>\n  </thead>\n  <tbody>\n    <tr>\n      <th>copia_de_Ingresos</th>\n      <td>1000</td>\n      <td>2100</td>\n      <td>1500</td>\n      <td>3000</td>\n    </tr>\n    <tr>\n      <th>A</th>\n      <td>NaN</td>\n      <td>2</td>\n      <td>NaN</td>\n      <td>NaN</td>\n    </tr>\n    <tr>\n      <th>B</th>\n      <td>2</td>\n      <td>4</td>\n      <td>NaN</td>\n      <td>3</td>\n    </tr>\n    <tr>\n      <th>C</th>\n      <td>NaN</td>\n      <td>NaN</td>\n      <td>NaN</td>\n      <td>NaN</td>\n    </tr>\n    <tr>\n      <th>D</th>\n      <td>NaN</td>\n      <td>1</td>\n      <td>5</td>\n      <td>4</td>\n    </tr>\n    <tr>\n      <th>Ingresos</th>\n      <td>1000</td>\n      <td>2100</td>\n      <td>1500</td>\n      <td>3000</td>\n    </tr>\n    <tr>\n      <th>Variable_nueva</th>\n      <td>2000</td>\n      <td>4200</td>\n      <td>3000</td>\n      <td>6000</td>\n    </tr>\n    <tr>\n      <th>Varnueva2</th>\n      <td>1</td>\n      <td>2</td>\n      <td>NaN</td>\n      <td>1.5</td>\n    </tr>\n    <tr>\n      <th>Varnueva3</th>\n      <td>500</td>\n      <td>1050</td>\n      <td>750</td>\n      <td>1500</td>\n    </tr>\n    <tr>\n      <th>Var4</th>\n      <td>Categoria 1</td>\n      <td>Categoria 2</td>\n      <td>Categoria 1</td>\n      <td>Categoria 2</td>\n    </tr>\n  </tbody>\n</table>\n</div>", 
                        "text/plain": "                             0            1            2            3\ncopia_de_Ingresos         1000         2100         1500         3000\nA                          NaN            2          NaN          NaN\nB                            2            4          NaN            3\nC                          NaN          NaN          NaN          NaN\nD                          NaN            1            5            4\nIngresos                  1000         2100         1500         3000\nVariable_nueva            2000         4200         3000         6000\nVarnueva2                    1            2          NaN          1.5\nVarnueva3                  500         1050          750         1500\nVar4               Categoria 1  Categoria 2  Categoria 1  Categoria 2"
                    }, 
                    "output_type": "execute_result"
                }, 
                {
                    "execution_count": 39, 
                    "metadata": {}, 
                    "data": {
                        "text/plain": "array([[  56. ,    0. ,    4.4,   68. ],\n       [   1.2,  104. ,   52. ,    8. ],\n       [   1.8,  135. ,   99. ,    0.9]])"
                    }, 
                    "output_type": "execute_result"
                }, 
                {
                    "execution_count": 39, 
                    "metadata": {}, 
                    "data": {
                        "text/plain": "array([[  56. ,    1.2,    1.8],\n       [   0. ,  104. ,  135. ],\n       [   4.4,   52. ,   99. ],\n       [  68. ,    8. ,    0.9]])"
                    }, 
                    "output_type": "execute_result"
                }
            ], 
            "source": "df0.transpose()#con dataframe\n\nA = np.array([[56.0,0.0,4.4,68.0],\n             [1.2,104.0,52.0,8.0],\n             [1.8,135.0,99.0,0.9]])\nA\n\nA.T #Con np array"
        }, 
        {
            "source": "## 13. Agregar", 
            "cell_type": "markdown", 
            "metadata": {}
        }, 
        {
            "execution_count": 40, 
            "cell_type": "code", 
            "metadata": {}, 
            "outputs": [
                {
                    "execution_count": 40, 
                    "metadata": {}, 
                    "data": {
                        "text/html": "<div>\n<style scoped>\n    .dataframe tbody tr th:only-of-type {\n        vertical-align: middle;\n    }\n\n    .dataframe tbody tr th {\n        vertical-align: top;\n    }\n\n    .dataframe thead th {\n        text-align: right;\n    }\n</style>\n<table border=\"1\" class=\"dataframe\">\n  <thead>\n    <tr style=\"text-align: right;\">\n      <th></th>\n      <th>A</th>\n      <th>B</th>\n      <th>C</th>\n      <th>D</th>\n      <th>Var4</th>\n    </tr>\n  </thead>\n  <tbody>\n    <tr>\n      <th>0</th>\n      <td>-0.526011</td>\n      <td>-1.654683</td>\n      <td>-0.081622</td>\n      <td>0.924045</td>\n      <td>Categoria 1</td>\n    </tr>\n    <tr>\n      <th>1</th>\n      <td>2.985429</td>\n      <td>-1.273469</td>\n      <td>0.937778</td>\n      <td>-0.732266</td>\n      <td>Categoria 2</td>\n    </tr>\n    <tr>\n      <th>2</th>\n      <td>-0.134537</td>\n      <td>-0.640874</td>\n      <td>0.564201</td>\n      <td>-0.287284</td>\n      <td>Categoria 1</td>\n    </tr>\n    <tr>\n      <th>3</th>\n      <td>1.541289</td>\n      <td>0.587826</td>\n      <td>0.960255</td>\n      <td>2.450461</td>\n      <td>Categoria 2</td>\n    </tr>\n    <tr>\n      <th>4</th>\n      <td>0.264656</td>\n      <td>1.078038</td>\n      <td>-0.026636</td>\n      <td>-0.810740</td>\n      <td>Categoria 2</td>\n    </tr>\n  </tbody>\n</table>\n</div>", 
                        "text/plain": "          A         B         C         D         Var4\n0 -0.526011 -1.654683 -0.081622  0.924045  Categoria 1\n1  2.985429 -1.273469  0.937778 -0.732266  Categoria 2\n2 -0.134537 -0.640874  0.564201 -0.287284  Categoria 1\n3  1.541289  0.587826  0.960255  2.450461  Categoria 2\n4  0.264656  1.078038 -0.026636 -0.810740  Categoria 2"
                    }, 
                    "output_type": "execute_result"
                }
            ], 
            "source": "#Se crea dataframe para ejemplo\n\ndf1 =  pd.DataFrame(np.random.randn(100, 4), columns=list('ABCD')) #dataframe con 4 columnas y 100 registros aleatorios con distribuci\u00f3n normal\n#Con un condicional\nprueba=df1[\"A\"]<0 #Condici\u00f3n almacenada como Pandas Series\n#type(prueba)#Pandas Series\ndf1.loc[prueba, \"Var4\"]=\"Categoria 1\" #En caso de cumplir\ndf1.loc[~prueba,\"Var4\"]=\"Categoria 2\" #En caso de no cumplir, se invierten valores de boolean pandas series con el signo \"~\"\ndf1.head()"
        }, 
        {
            "execution_count": 41, 
            "cell_type": "code", 
            "metadata": {}, 
            "outputs": [
                {
                    "execution_count": 41, 
                    "metadata": {}, 
                    "data": {
                        "text/html": "<div>\n<style scoped>\n    .dataframe tbody tr th:only-of-type {\n        vertical-align: middle;\n    }\n\n    .dataframe tbody tr th {\n        vertical-align: top;\n    }\n\n    .dataframe thead tr th {\n        text-align: left;\n    }\n\n    .dataframe thead tr:last-of-type th {\n        text-align: right;\n    }\n</style>\n<table border=\"1\" class=\"dataframe\">\n  <thead>\n    <tr>\n      <th></th>\n      <th colspan=\"8\" halign=\"left\">A</th>\n      <th colspan=\"2\" halign=\"left\">B</th>\n      <th>...</th>\n      <th colspan=\"2\" halign=\"left\">C</th>\n      <th colspan=\"8\" halign=\"left\">D</th>\n    </tr>\n    <tr>\n      <th></th>\n      <th>count</th>\n      <th>mean</th>\n      <th>std</th>\n      <th>min</th>\n      <th>25%</th>\n      <th>50%</th>\n      <th>75%</th>\n      <th>max</th>\n      <th>count</th>\n      <th>mean</th>\n      <th>...</th>\n      <th>75%</th>\n      <th>max</th>\n      <th>count</th>\n      <th>mean</th>\n      <th>std</th>\n      <th>min</th>\n      <th>25%</th>\n      <th>50%</th>\n      <th>75%</th>\n      <th>max</th>\n    </tr>\n    <tr>\n      <th>Var4</th>\n      <th></th>\n      <th></th>\n      <th></th>\n      <th></th>\n      <th></th>\n      <th></th>\n      <th></th>\n      <th></th>\n      <th></th>\n      <th></th>\n      <th></th>\n      <th></th>\n      <th></th>\n      <th></th>\n      <th></th>\n      <th></th>\n      <th></th>\n      <th></th>\n      <th></th>\n      <th></th>\n      <th></th>\n    </tr>\n  </thead>\n  <tbody>\n    <tr>\n      <th>Categoria 1</th>\n      <td>52.0</td>\n      <td>-0.878944</td>\n      <td>0.667601</td>\n      <td>-2.919780</td>\n      <td>-1.261464</td>\n      <td>-0.837633</td>\n      <td>-0.335719</td>\n      <td>-0.014324</td>\n      <td>52.0</td>\n      <td>0.005645</td>\n      <td>...</td>\n      <td>0.623561</td>\n      <td>1.957013</td>\n      <td>52.0</td>\n      <td>0.289994</td>\n      <td>0.980811</td>\n      <td>-1.593798</td>\n      <td>-0.298408</td>\n      <td>0.286806</td>\n      <td>0.926668</td>\n      <td>2.680988</td>\n    </tr>\n    <tr>\n      <th>Categoria 2</th>\n      <td>48.0</td>\n      <td>0.856145</td>\n      <td>0.684847</td>\n      <td>0.046825</td>\n      <td>0.293482</td>\n      <td>0.739264</td>\n      <td>1.334564</td>\n      <td>2.985429</td>\n      <td>48.0</td>\n      <td>0.245462</td>\n      <td>...</td>\n      <td>0.766782</td>\n      <td>1.920299</td>\n      <td>48.0</td>\n      <td>0.103693</td>\n      <td>1.006364</td>\n      <td>-2.363067</td>\n      <td>-0.602341</td>\n      <td>0.226459</td>\n      <td>0.827943</td>\n      <td>2.450461</td>\n    </tr>\n  </tbody>\n</table>\n<p>2 rows \u00d7 32 columns</p>\n</div>", 
                        "text/plain": "                A                                                              \\\n            count      mean       std       min       25%       50%       75%   \nVar4                                                                            \nCategoria 1  52.0 -0.878944  0.667601 -2.919780 -1.261464 -0.837633 -0.335719   \nCategoria 2  48.0  0.856145  0.684847  0.046825  0.293482  0.739264  1.334564   \n\n                          B              ...            C               D  \\\n                  max count      mean    ...          75%       max count   \nVar4                                     ...                                \nCategoria 1 -0.014324  52.0  0.005645    ...     0.623561  1.957013  52.0   \nCategoria 2  2.985429  48.0  0.245462    ...     0.766782  1.920299  48.0   \n\n                                                                         \\\n                 mean       std       min       25%       50%       75%   \nVar4                                                                      \nCategoria 1  0.289994  0.980811 -1.593798 -0.298408  0.286806  0.926668   \nCategoria 2  0.103693  1.006364 -2.363067 -0.602341  0.226459  0.827943   \n\n                       \n                  max  \nVar4                   \nCategoria 1  2.680988  \nCategoria 2  2.450461  \n\n[2 rows x 32 columns]"
                    }, 
                    "output_type": "execute_result"
                }, 
                {
                    "execution_count": 41, 
                    "metadata": {}, 
                    "data": {
                        "text/plain": "pandas.core.frame.DataFrame"
                    }, 
                    "output_type": "execute_result"
                }, 
                {
                    "execution_count": 41, 
                    "metadata": {}, 
                    "data": {
                        "text/html": "<div>\n<style scoped>\n    .dataframe tbody tr th:only-of-type {\n        vertical-align: middle;\n    }\n\n    .dataframe tbody tr th {\n        vertical-align: top;\n    }\n\n    .dataframe thead tr th {\n        text-align: left;\n    }\n\n    .dataframe thead tr:last-of-type th {\n        text-align: right;\n    }\n</style>\n<table border=\"1\" class=\"dataframe\">\n  <thead>\n    <tr>\n      <th></th>\n      <th colspan=\"2\" halign=\"left\">A</th>\n      <th colspan=\"2\" halign=\"left\">B</th>\n    </tr>\n    <tr>\n      <th></th>\n      <th>count</th>\n      <th>mean</th>\n      <th>count</th>\n      <th>mean</th>\n    </tr>\n    <tr>\n      <th>Var4</th>\n      <th></th>\n      <th></th>\n      <th></th>\n      <th></th>\n    </tr>\n  </thead>\n  <tbody>\n    <tr>\n      <th>Categoria 1</th>\n      <td>52.0</td>\n      <td>-0.878944</td>\n      <td>52.0</td>\n      <td>0.005645</td>\n    </tr>\n    <tr>\n      <th>Categoria 2</th>\n      <td>48.0</td>\n      <td>0.856145</td>\n      <td>48.0</td>\n      <td>0.245462</td>\n    </tr>\n  </tbody>\n</table>\n</div>", 
                        "text/plain": "                A               B          \n            count      mean count      mean\nVar4                                       \nCategoria 1  52.0 -0.878944  52.0  0.005645\nCategoria 2  48.0  0.856145  48.0  0.245462"
                    }, 
                    "output_type": "execute_result"
                }, 
                {
                    "execution_count": 41, 
                    "metadata": {}, 
                    "data": {
                        "text/html": "<div>\n<style scoped>\n    .dataframe tbody tr th:only-of-type {\n        vertical-align: middle;\n    }\n\n    .dataframe tbody tr th {\n        vertical-align: top;\n    }\n\n    .dataframe thead tr th {\n        text-align: left;\n    }\n\n    .dataframe thead tr:last-of-type th {\n        text-align: right;\n    }\n</style>\n<table border=\"1\" class=\"dataframe\">\n  <thead>\n    <tr>\n      <th></th>\n      <th colspan=\"2\" halign=\"left\">A</th>\n      <th colspan=\"2\" halign=\"left\">B</th>\n      <th colspan=\"2\" halign=\"left\">C</th>\n      <th colspan=\"2\" halign=\"left\">D</th>\n    </tr>\n    <tr>\n      <th></th>\n      <th>count</th>\n      <th>mean</th>\n      <th>count</th>\n      <th>mean</th>\n      <th>count</th>\n      <th>mean</th>\n      <th>count</th>\n      <th>mean</th>\n    </tr>\n    <tr>\n      <th>Var4</th>\n      <th></th>\n      <th></th>\n      <th></th>\n      <th></th>\n      <th></th>\n      <th></th>\n      <th></th>\n      <th></th>\n    </tr>\n  </thead>\n  <tbody>\n    <tr>\n      <th>Categoria 1</th>\n      <td>52.0</td>\n      <td>-0.878944</td>\n      <td>52.0</td>\n      <td>0.005645</td>\n      <td>52.0</td>\n      <td>-0.007646</td>\n      <td>52.0</td>\n      <td>0.289994</td>\n    </tr>\n    <tr>\n      <th>Categoria 2</th>\n      <td>48.0</td>\n      <td>0.856145</td>\n      <td>48.0</td>\n      <td>0.245462</td>\n      <td>48.0</td>\n      <td>-0.079217</td>\n      <td>48.0</td>\n      <td>0.103693</td>\n    </tr>\n  </tbody>\n</table>\n</div>", 
                        "text/plain": "                A               B               C               D          \n            count      mean count      mean count      mean count      mean\nVar4                                                                       \nCategoria 1  52.0 -0.878944  52.0  0.005645  52.0 -0.007646  52.0  0.289994\nCategoria 2  48.0  0.856145  48.0  0.245462  48.0 -0.079217  48.0  0.103693"
                    }, 
                    "output_type": "execute_result"
                }
            ], 
            "source": "agregado = df1.groupby(\"Var4\").describe() #Agregar usando describe paara obtener todos los estad\u00edsticos\nagregado\ntype(agregado)\n\n#Mejor forma para escoger valores cuando se tiene data frame MultiIndex\nagregado.loc[:,([\"A\",\"B\"],[\"count\",\"mean\"])]\n\n#Para seleccionar todos los valores del \u00edndice de nombre de columnas\nidx = pd.IndexSlice\nagregado.loc[:, idx[:,[\"count\",\"mean\"]]]"
        }, 
        {
            "source": "## 14. Otras Operaciones", 
            "cell_type": "markdown", 
            "metadata": {}
        }, 
        {
            "source": "### 14.1. Forma", 
            "cell_type": "markdown", 
            "metadata": {}
        }, 
        {
            "execution_count": 42, 
            "cell_type": "code", 
            "metadata": {}, 
            "outputs": [
                {
                    "execution_count": 42, 
                    "metadata": {}, 
                    "data": {
                        "text/plain": "(4, 10)"
                    }, 
                    "output_type": "execute_result"
                }, 
                {
                    "execution_count": 42, 
                    "metadata": {}, 
                    "data": {
                        "text/plain": "(3, 4)"
                    }, 
                    "output_type": "execute_result"
                }
            ], 
            "source": "df0.shape #dataframe\nA.shape #np array"
        }, 
        {
            "execution_count": 43, 
            "cell_type": "code", 
            "metadata": {}, 
            "outputs": [
                {
                    "execution_count": 43, 
                    "metadata": {}, 
                    "data": {
                        "text/plain": "array([[  56. ,    0. ,    4.4,   68. ,    1.2,  104. ],\n       [  52. ,    8. ,    1.8,  135. ,   99. ,    0.9]])"
                    }, 
                    "output_type": "execute_result"
                }
            ], 
            "source": "#Cambiar forma. FUNCIONA CON NP ARRAYS, no dataframes\nA.reshape((2,6))"
        }, 
        {
            "source": "### 14.2. Vista previa", 
            "cell_type": "markdown", 
            "metadata": {}
        }, 
        {
            "execution_count": 44, 
            "cell_type": "code", 
            "metadata": {}, 
            "outputs": [
                {
                    "execution_count": 44, 
                    "metadata": {}, 
                    "data": {
                        "text/html": "<div>\n<style scoped>\n    .dataframe tbody tr th:only-of-type {\n        vertical-align: middle;\n    }\n\n    .dataframe tbody tr th {\n        vertical-align: top;\n    }\n\n    .dataframe thead th {\n        text-align: right;\n    }\n</style>\n<table border=\"1\" class=\"dataframe\">\n  <thead>\n    <tr style=\"text-align: right;\">\n      <th></th>\n      <th>A</th>\n      <th>B</th>\n      <th>C</th>\n      <th>D</th>\n    </tr>\n  </thead>\n  <tbody>\n    <tr>\n      <th>0</th>\n      <td>0.117187</td>\n      <td>-0.568899</td>\n      <td>-0.210952</td>\n      <td>0.408086</td>\n    </tr>\n    <tr>\n      <th>1</th>\n      <td>-1.604985</td>\n      <td>0.168415</td>\n      <td>1.166699</td>\n      <td>-0.280982</td>\n    </tr>\n    <tr>\n      <th>2</th>\n      <td>0.810942</td>\n      <td>-0.916547</td>\n      <td>-0.077818</td>\n      <td>0.347665</td>\n    </tr>\n    <tr>\n      <th>3</th>\n      <td>1.824516</td>\n      <td>0.329526</td>\n      <td>1.335739</td>\n      <td>-0.210014</td>\n    </tr>\n    <tr>\n      <th>4</th>\n      <td>-0.907747</td>\n      <td>0.590055</td>\n      <td>-0.534764</td>\n      <td>1.435242</td>\n    </tr>\n  </tbody>\n</table>\n</div>", 
                        "text/plain": "          A         B         C         D\n0  0.117187 -0.568899 -0.210952  0.408086\n1 -1.604985  0.168415  1.166699 -0.280982\n2  0.810942 -0.916547 -0.077818  0.347665\n3  1.824516  0.329526  1.335739 -0.210014\n4 -0.907747  0.590055 -0.534764  1.435242"
                    }, 
                    "output_type": "execute_result"
                }, 
                {
                    "execution_count": 44, 
                    "metadata": {}, 
                    "data": {
                        "text/html": "<div>\n<style scoped>\n    .dataframe tbody tr th:only-of-type {\n        vertical-align: middle;\n    }\n\n    .dataframe tbody tr th {\n        vertical-align: top;\n    }\n\n    .dataframe thead th {\n        text-align: right;\n    }\n</style>\n<table border=\"1\" class=\"dataframe\">\n  <thead>\n    <tr style=\"text-align: right;\">\n      <th></th>\n      <th>A</th>\n      <th>B</th>\n      <th>C</th>\n      <th>D</th>\n    </tr>\n  </thead>\n  <tbody>\n    <tr>\n      <th>0</th>\n      <td>0.117187</td>\n      <td>-0.568899</td>\n      <td>-0.210952</td>\n      <td>0.408086</td>\n    </tr>\n    <tr>\n      <th>1</th>\n      <td>-1.604985</td>\n      <td>0.168415</td>\n      <td>1.166699</td>\n      <td>-0.280982</td>\n    </tr>\n    <tr>\n      <th>2</th>\n      <td>0.810942</td>\n      <td>-0.916547</td>\n      <td>-0.077818</td>\n      <td>0.347665</td>\n    </tr>\n    <tr>\n      <th>3</th>\n      <td>1.824516</td>\n      <td>0.329526</td>\n      <td>1.335739</td>\n      <td>-0.210014</td>\n    </tr>\n    <tr>\n      <th>4</th>\n      <td>-0.907747</td>\n      <td>0.590055</td>\n      <td>-0.534764</td>\n      <td>1.435242</td>\n    </tr>\n    <tr>\n      <th>5</th>\n      <td>0.126743</td>\n      <td>-2.604733</td>\n      <td>0.487001</td>\n      <td>0.010700</td>\n    </tr>\n    <tr>\n      <th>6</th>\n      <td>-0.025239</td>\n      <td>-0.400803</td>\n      <td>-0.974382</td>\n      <td>-0.190073</td>\n    </tr>\n    <tr>\n      <th>7</th>\n      <td>1.105265</td>\n      <td>-0.237542</td>\n      <td>-0.510417</td>\n      <td>2.556426</td>\n    </tr>\n    <tr>\n      <th>8</th>\n      <td>0.926076</td>\n      <td>-1.319678</td>\n      <td>0.728162</td>\n      <td>-0.599988</td>\n    </tr>\n    <tr>\n      <th>9</th>\n      <td>-0.187085</td>\n      <td>-1.191999</td>\n      <td>1.292485</td>\n      <td>1.750860</td>\n    </tr>\n  </tbody>\n</table>\n</div>", 
                        "text/plain": "          A         B         C         D\n0  0.117187 -0.568899 -0.210952  0.408086\n1 -1.604985  0.168415  1.166699 -0.280982\n2  0.810942 -0.916547 -0.077818  0.347665\n3  1.824516  0.329526  1.335739 -0.210014\n4 -0.907747  0.590055 -0.534764  1.435242\n5  0.126743 -2.604733  0.487001  0.010700\n6 -0.025239 -0.400803 -0.974382 -0.190073\n7  1.105265 -0.237542 -0.510417  2.556426\n8  0.926076 -1.319678  0.728162 -0.599988\n9 -0.187085 -1.191999  1.292485  1.750860"
                    }, 
                    "output_type": "execute_result"
                }
            ], 
            "source": "df1 =  pd.DataFrame(np.random.randn(100, 4), columns=list('ABCD')) #dataframe con 4 columnas y 100 registros\ndf1.head()#primeros 5\ndf1.head(10) #primeros 10"
        }, 
        {
            "source": "### 14.3 MultiIndex\nhttps://www.somebits.com/~nelson/pandas-multiindex-slice-demo.html", 
            "cell_type": "markdown", 
            "metadata": {}
        }, 
        {
            "execution_count": null, 
            "cell_type": "code", 
            "metadata": {}, 
            "outputs": [], 
            "source": ""
        }
    ], 
    "metadata": {
        "kernelspec": {
            "display_name": "Python 3.5 with Spark 2.1", 
            "name": "python3-spark21", 
            "language": "python"
        }, 
        "language_info": {
            "mimetype": "text/x-python", 
            "nbconvert_exporter": "python", 
            "version": "3.5.4", 
            "name": "python", 
            "file_extension": ".py", 
            "pygments_lexer": "ipython3", 
            "codemirror_mode": {
                "version": 3, 
                "name": "ipython"
            }
        }
    }, 
    "nbformat": 4
}